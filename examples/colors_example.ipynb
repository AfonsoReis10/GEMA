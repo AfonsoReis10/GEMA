{
 "cells": [
  {
   "cell_type": "code",
   "execution_count": 41,
   "metadata": {
    "collapsed": true,
    "pycharm": {
     "is_executing": false
    }
   },
   "outputs": [],
   "source": [
    "import GEMA\n",
    "import numpy as np\n",
    "from sklearn import preprocessing"
   ]
  },
  {
   "cell_type": "code",
   "execution_count": 42,
   "outputs": [
    {
     "data": {
      "text/plain": "'C:\\\\Users\\\\Ceiec01\\\\repos\\\\GEMA\\\\GEMA\\\\__init__.py'"
     },
     "metadata": {},
     "output_type": "execute_result",
     "execution_count": 42
    }
   ],
   "source": [
    "GEMA.__file__"
   ],
   "metadata": {
    "collapsed": false,
    "pycharm": {
     "name": "#%%\n",
     "is_executing": false
    }
   }
  },
  {
   "cell_type": "markdown",
   "source": [
    "Creating synthetic data"
   ],
   "metadata": {
    "collapsed": false,
    "pycharm": {
     "name": "#%% md\n"
    }
   }
  },
  {
   "cell_type": "code",
   "execution_count": 43,
   "outputs": [],
   "source": [
    "datos = np.random.randint(0, 255, (100, 3))"
   ],
   "metadata": {
    "collapsed": false,
    "pycharm": {
     "name": "#%%\n",
     "is_executing": false
    }
   }
  },
  {
   "cell_type": "markdown",
   "source": [
    "Setting up parameters for the map to learn"
   ],
   "metadata": {
    "collapsed": false,
    "pycharm": {
     "name": "#%% md\n"
    }
   }
  },
  {
   "cell_type": "code",
   "execution_count": 44,
   "outputs": [],
   "source": [
    "map_size = 16\n",
    "period = 10000 \n",
    "learning_rate = 0.1\n",
    "normalize_data = 'none'"
   ],
   "metadata": {
    "collapsed": false,
    "pycharm": {
     "name": "#%%\n",
     "is_executing": false
    }
   }
  },
  {
   "cell_type": "markdown",
   "source": [
    "Creating the main map\n",
    "\n"
   ],
   "metadata": {
    "collapsed": false,
    "pycharm": {
     "name": "#%% md\n"
    }
   }
  },
  {
   "cell_type": "code",
   "execution_count": 45,
   "outputs": [],
   "source": [
    "datos = preprocessing.normalize(datos)"
   ],
   "metadata": {
    "collapsed": false,
    "pycharm": {
     "name": "#%%\n",
     "is_executing": false
    }
   }
  },
  {
   "cell_type": "code",
   "execution_count": 46,
   "outputs": [
    {
     "name": "stdout",
     "text": [
      "\n\nTRAINING...\n\n",
      "\n\n\nFINISHED.\n"
     ],
     "output_type": "stream"
    },
    {
     "data": {
      "text/plain": "HBox(children=(FloatProgress(value=0.0, max=10000.0), HTML(value='')))",
      "application/vnd.jupyter.widget-view+json": {
       "version_major": 2,
       "version_minor": 0,
       "model_id": "558b2b66252844cdb2b1d5da225a9504"
      }
     },
     "metadata": {},
     "output_type": "display_data"
    }
   ],
   "source": [
    "main_map = GEMA.Map(datos, \n",
    "                    map_size, \n",
    "                    period, \n",
    "                    initial_lr=learning_rate, \n",
    "                    initial_neighbourhood = 0,\n",
    "                    distance = 'euclidean',\n",
    "                    use_decay= False,\n",
    "                    normalization = normalize_data,\n",
    "                    presentation= 'random',\n",
    "                    weights = 'random')"
   ],
   "metadata": {
    "collapsed": false,
    "pycharm": {
     "name": "#%%\n",
     "is_executing": false
    }
   }
  },
  {
   "cell_type": "code",
   "execution_count": 47,
   "outputs": [
    {
     "data": {
      "text/plain": "HBox(children=(FloatProgress(value=0.0), HTML(value='')))",
      "application/vnd.jupyter.widget-view+json": {
       "version_major": 2,
       "version_minor": 0,
       "model_id": "1118706fc9fd4a1f9f157c7bf28f1820"
      }
     },
     "metadata": {},
     "output_type": "display_data"
    },
    {
     "name": "stdout",
     "text": [
      "\n"
     ],
     "output_type": "stream"
    }
   ],
   "source": [
    "main_classification = GEMA.Classification(main_map, datos)"
   ],
   "metadata": {
    "collapsed": false,
    "pycharm": {
     "name": "#%%\n",
     "is_executing": false
    }
   }
  },
  {
   "cell_type": "code",
   "execution_count": 48,
   "outputs": [
    {
     "data": {
      "text/plain": "<matplotlib.image.AxesImage at 0x1e8179e6708>"
     },
     "metadata": {},
     "output_type": "execute_result",
     "execution_count": 48
    },
    {
     "data": {
      "text/plain": "<Figure size 432x288 with 1 Axes>",
      "image/png": "[encoded data removed]"
     },
     "metadata": {
      "needs_background": "light"
     },
     "output_type": "display_data"
    }
   ],
   "source": [
    "from matplotlib.pyplot import imshow\n",
    "image_matrix = (main_map.weights-main_map.weights.min())/(main_map.weights.max()-main_map.weights.min())\n",
    "imshow(image_matrix)"
   ],
   "metadata": {
    "collapsed": false,
    "pycharm": {
     "name": "#%%\n",
     "is_executing": false
    }
   }
  },
  {
   "cell_type": "code",
   "execution_count": 49,
   "outputs": [
    {
     "data": {
      "text/html": "        <script type=\"text/javascript\">\n        window.PlotlyConfig = {MathJaxConfig: 'local'};\n        if (window.MathJax) {MathJax.Hub.Config({SVG: {font: \"STIX-Web\"}});}\n        if (typeof require !== 'undefined') {\n        require.undef(\"plotly\");\n        requirejs.config({\n            paths: {\n                'plotly': ['https://cdn.plot.ly/plotly-latest.min']\n            }\n        });\n        require(['plotly'], function(Plotly) {\n            window._Plotly = Plotly;\n        });\n        }\n        </script>\n        "
     },
     "metadata": {},
     "output_type": "display_data"
    },
    {
     "data": {
      "application/vnd.plotly.v1+json": {
       "config": {
        "linkText": "Export to plot.ly",
        "plotlyServerURL": "https://plot.ly",
        "showLink": false
       },
       "data": [
        {
         "colorscale": [
          [
           0.0,
           "#0d0887"
          ],
          [
           0.1111111111111111,
           "#46039f"
          ],
          [
           0.2222222222222222,
           "#7201a8"
          ],
          [
           0.3333333333333333,
           "#9c179e"
          ],
          [
           0.4444444444444444,
           "#bd3786"
          ],
          [
           0.5555555555555556,
           "#d8576b"
          ],
          [
           0.6666666666666666,
           "#ed7953"
          ],
          [
           0.7777777777777778,
           "#fb9f3a"
          ],
          [
           0.8888888888888888,
           "#fdca26"
          ],
          [
           1.0,
           "#f0f921"
          ]
         ],
         "reversescale": false,
         "showscale": true,
         "type": "heatmap",
         "z": [
          [
           0.07,
           0.08,
           0.1,
           0.12,
           0.13,
           0.15,
           0.15,
           0.18,
           0.21,
           0.28,
           0.31,
           0.38,
           0.46,
           0.5,
           0.54,
           0.56
          ],
          [
           0.07,
           0.09,
           0.11,
           0.13,
           0.14,
           0.16,
           0.17,
           0.21,
           0.27,
           0.32,
           0.36,
           0.42,
           0.47,
           0.52,
           0.56,
           0.58
          ],
          [
           0.1,
           0.1,
           0.12,
           0.15,
           0.19,
           0.2,
           0.22,
           0.26,
           0.31,
           0.37,
           0.42,
           0.47,
           0.51,
           0.55,
           0.58,
           0.6
          ],
          [
           0.14,
           0.15,
           0.18,
           0.22,
           0.25,
           0.26,
           0.28,
           0.34,
           0.39,
           0.44,
           0.48,
           0.51,
           0.55,
           0.58,
           0.61,
           0.62
          ],
          [
           0.17,
           0.2,
           0.24,
           0.28,
           0.32,
           0.34,
           0.39,
           0.42,
           0.46,
           0.48,
           0.51,
           0.54,
           0.57,
           0.6,
           0.63,
           0.66
          ],
          [
           0.21,
           0.24,
           0.27,
           0.33,
           0.37,
           0.4,
           0.43,
           0.47,
           0.5,
           0.52,
           0.54,
           0.57,
           0.59,
           0.63,
           0.66,
           0.68
          ],
          [
           0.23,
           0.26,
           0.31,
           0.38,
           0.41,
           0.43,
           0.47,
           0.51,
           0.53,
           0.54,
           0.56,
           0.6,
           0.63,
           0.67,
           0.71,
           0.72
          ],
          [
           0.24,
           0.28,
           0.35,
           0.4,
           0.43,
           0.47,
           0.5,
           0.53,
           0.55,
           0.56,
           0.59,
           0.63,
           0.68,
           0.72,
           0.73,
           0.74
          ],
          [
           0.26,
           0.29,
           0.35,
           0.41,
           0.45,
           0.48,
           0.52,
           0.55,
           0.56,
           0.58,
           0.61,
           0.65,
           0.71,
           0.74,
           0.75,
           0.76
          ],
          [
           0.26,
           0.3,
           0.35,
           0.41,
           0.47,
           0.5,
           0.54,
           0.57,
           0.59,
           0.61,
           0.64,
           0.69,
           0.73,
           0.76,
           0.77,
           0.78
          ],
          [
           0.28,
           0.32,
           0.38,
           0.44,
           0.49,
           0.53,
           0.57,
           0.6,
           0.62,
           0.65,
           0.67,
           0.71,
           0.76,
           0.78,
           0.8,
           0.8
          ],
          [
           0.31,
           0.35,
           0.43,
           0.47,
           0.52,
           0.57,
           0.61,
           0.64,
           0.66,
           0.68,
           0.7,
           0.74,
           0.78,
           0.82,
           0.83,
           0.83
          ],
          [
           0.38,
           0.43,
           0.51,
           0.53,
           0.59,
           0.61,
           0.65,
           0.66,
           0.68,
           0.7,
           0.72,
           0.76,
           0.8,
           0.85,
           0.87,
           0.88
          ],
          [
           0.46,
           0.5,
           0.55,
           0.59,
           0.63,
           0.65,
           0.68,
           0.69,
           0.7,
           0.72,
           0.74,
           0.78,
           0.82,
           0.87,
           0.89,
           0.9
          ],
          [
           0.51,
           0.54,
           0.58,
           0.61,
           0.65,
           0.68,
           0.7,
           0.72,
           0.72,
           0.74,
           0.76,
           0.79,
           0.85,
           0.89,
           0.9,
           0.91
          ],
          [
           0.54,
           0.56,
           0.6,
           0.63,
           0.66,
           0.69,
           0.71,
           0.72,
           0.74,
           0.76,
           0.78,
           0.82,
           0.86,
           0.9,
           0.91,
           0.92
          ]
         ]
        }
       ],
       "layout": {
        "annotations": [
         {
          "font": {
           "color": "#FFFFFF",
           "size": 7
          },
          "showarrow": false,
          "text": "0.07",
          "x": 0,
          "xref": "x",
          "y": 0,
          "yref": "y"
         },
         {
          "font": {
           "color": "#FFFFFF",
           "size": 7
          },
          "showarrow": false,
          "text": "0.08",
          "x": 1,
          "xref": "x",
          "y": 0,
          "yref": "y"
         },
         {
          "font": {
           "color": "#FFFFFF",
           "size": 7
          },
          "showarrow": false,
          "text": "0.1",
          "x": 2,
          "xref": "x",
          "y": 0,
          "yref": "y"
         },
         {
          "font": {
           "color": "#FFFFFF",
           "size": 7
          },
          "showarrow": false,
          "text": "0.12",
          "x": 3,
          "xref": "x",
          "y": 0,
          "yref": "y"
         },
         {
          "font": {
           "color": "#FFFFFF",
           "size": 7
          },
          "showarrow": false,
          "text": "0.13",
          "x": 4,
          "xref": "x",
          "y": 0,
          "yref": "y"
         },
         {
          "font": {
           "color": "#FFFFFF",
           "size": 7
          },
          "showarrow": false,
          "text": "0.15",
          "x": 5,
          "xref": "x",
          "y": 0,
          "yref": "y"
         },
         {
          "font": {
           "color": "#FFFFFF",
           "size": 7
          },
          "showarrow": false,
          "text": "0.15",
          "x": 6,
          "xref": "x",
          "y": 0,
          "yref": "y"
         },
         {
          "font": {
           "color": "#FFFFFF",
           "size": 7
          },
          "showarrow": false,
          "text": "0.18",
          "x": 7,
          "xref": "x",
          "y": 0,
          "yref": "y"
         },
         {
          "font": {
           "color": "#FFFFFF",
           "size": 7
          },
          "showarrow": false,
          "text": "0.21",
          "x": 8,
          "xref": "x",
          "y": 0,
          "yref": "y"
         },
         {
          "font": {
           "color": "#FFFFFF",
           "size": 7
          },
          "showarrow": false,
          "text": "0.28",
          "x": 9,
          "xref": "x",
          "y": 0,
          "yref": "y"
         },
         {
          "font": {
           "color": "#FFFFFF",
           "size": 7
          },
          "showarrow": false,
          "text": "0.31",
          "x": 10,
          "xref": "x",
          "y": 0,
          "yref": "y"
         },
         {
          "font": {
           "color": "#FFFFFF",
           "size": 7
          },
          "showarrow": false,
          "text": "0.38",
          "x": 11,
          "xref": "x",
          "y": 0,
          "yref": "y"
         },
         {
          "font": {
           "color": "#FFFFFF",
           "size": 7
          },
          "showarrow": false,
          "text": "0.46",
          "x": 12,
          "xref": "x",
          "y": 0,
          "yref": "y"
         },
         {
          "font": {
           "color": "#000000",
           "size": 7
          },
          "showarrow": false,
          "text": "0.5",
          "x": 13,
          "xref": "x",
          "y": 0,
          "yref": "y"
         },
         {
          "font": {
           "color": "#000000",
           "size": 7
          },
          "showarrow": false,
          "text": "0.54",
          "x": 14,
          "xref": "x",
          "y": 0,
          "yref": "y"
         },
         {
          "font": {
           "color": "#000000",
           "size": 7
          },
          "showarrow": false,
          "text": "0.56",
          "x": 15,
          "xref": "x",
          "y": 0,
          "yref": "y"
         },
         {
          "font": {
           "color": "#FFFFFF",
           "size": 7
          },
          "showarrow": false,
          "text": "0.07",
          "x": 0,
          "xref": "x",
          "y": 1,
          "yref": "y"
         },
         {
          "font": {
           "color": "#FFFFFF",
           "size": 7
          },
          "showarrow": false,
          "text": "0.09",
          "x": 1,
          "xref": "x",
          "y": 1,
          "yref": "y"
         },
         {
          "font": {
           "color": "#FFFFFF",
           "size": 7
          },
          "showarrow": false,
          "text": "0.11",
          "x": 2,
          "xref": "x",
          "y": 1,
          "yref": "y"
         },
         {
          "font": {
           "color": "#FFFFFF",
           "size": 7
          },
          "showarrow": false,
          "text": "0.13",
          "x": 3,
          "xref": "x",
          "y": 1,
          "yref": "y"
         },
         {
          "font": {
           "color": "#FFFFFF",
           "size": 7
          },
          "showarrow": false,
          "text": "0.14",
          "x": 4,
          "xref": "x",
          "y": 1,
          "yref": "y"
         },
         {
          "font": {
           "color": "#FFFFFF",
           "size": 7
          },
          "showarrow": false,
          "text": "0.16",
          "x": 5,
          "xref": "x",
          "y": 1,
          "yref": "y"
         },
         {
          "font": {
           "color": "#FFFFFF",
           "size": 7
          },
          "showarrow": false,
          "text": "0.17",
          "x": 6,
          "xref": "x",
          "y": 1,
          "yref": "y"
         },
         {
          "font": {
           "color": "#FFFFFF",
           "size": 7
          },
          "showarrow": false,
          "text": "0.21",
          "x": 7,
          "xref": "x",
          "y": 1,
          "yref": "y"
         },
         {
          "font": {
           "color": "#FFFFFF",
           "size": 7
          },
          "showarrow": false,
          "text": "0.27",
          "x": 8,
          "xref": "x",
          "y": 1,
          "yref": "y"
         },
         {
          "font": {
           "color": "#FFFFFF",
           "size": 7
          },
          "showarrow": false,
          "text": "0.32",
          "x": 9,
          "xref": "x",
          "y": 1,
          "yref": "y"
         },
         {
          "font": {
           "color": "#FFFFFF",
           "size": 7
          },
          "showarrow": false,
          "text": "0.36",
          "x": 10,
          "xref": "x",
          "y": 1,
          "yref": "y"
         },
         {
          "font": {
           "color": "#FFFFFF",
           "size": 7
          },
          "showarrow": false,
          "text": "0.42",
          "x": 11,
          "xref": "x",
          "y": 1,
          "yref": "y"
         },
         {
          "font": {
           "color": "#FFFFFF",
           "size": 7
          },
          "showarrow": false,
          "text": "0.47",
          "x": 12,
          "xref": "x",
          "y": 1,
          "yref": "y"
         },
         {
          "font": {
           "color": "#000000",
           "size": 7
          },
          "showarrow": false,
          "text": "0.52",
          "x": 13,
          "xref": "x",
          "y": 1,
          "yref": "y"
         },
         {
          "font": {
           "color": "#000000",
           "size": 7
          },
          "showarrow": false,
          "text": "0.56",
          "x": 14,
          "xref": "x",
          "y": 1,
          "yref": "y"
         },
         {
          "font": {
           "color": "#000000",
           "size": 7
          },
          "showarrow": false,
          "text": "0.58",
          "x": 15,
          "xref": "x",
          "y": 1,
          "yref": "y"
         },
         {
          "font": {
           "color": "#FFFFFF",
           "size": 7
          },
          "showarrow": false,
          "text": "0.1",
          "x": 0,
          "xref": "x",
          "y": 2,
          "yref": "y"
         },
         {
          "font": {
           "color": "#FFFFFF",
           "size": 7
          },
          "showarrow": false,
          "text": "0.1",
          "x": 1,
          "xref": "x",
          "y": 2,
          "yref": "y"
         },
         {
          "font": {
           "color": "#FFFFFF",
           "size": 7
          },
          "showarrow": false,
          "text": "0.12",
          "x": 2,
          "xref": "x",
          "y": 2,
          "yref": "y"
         },
         {
          "font": {
           "color": "#FFFFFF",
           "size": 7
          },
          "showarrow": false,
          "text": "0.15",
          "x": 3,
          "xref": "x",
          "y": 2,
          "yref": "y"
         },
         {
          "font": {
           "color": "#FFFFFF",
           "size": 7
          },
          "showarrow": false,
          "text": "0.19",
          "x": 4,
          "xref": "x",
          "y": 2,
          "yref": "y"
         },
         {
          "font": {
           "color": "#FFFFFF",
           "size": 7
          },
          "showarrow": false,
          "text": "0.2",
          "x": 5,
          "xref": "x",
          "y": 2,
          "yref": "y"
         },
         {
          "font": {
           "color": "#FFFFFF",
           "size": 7
          },
          "showarrow": false,
          "text": "0.22",
          "x": 6,
          "xref": "x",
          "y": 2,
          "yref": "y"
         },
         {
          "font": {
           "color": "#FFFFFF",
           "size": 7
          },
          "showarrow": false,
          "text": "0.26",
          "x": 7,
          "xref": "x",
          "y": 2,
          "yref": "y"
         },
         {
          "font": {
           "color": "#FFFFFF",
           "size": 7
          },
          "showarrow": false,
          "text": "0.31",
          "x": 8,
          "xref": "x",
          "y": 2,
          "yref": "y"
         },
         {
          "font": {
           "color": "#FFFFFF",
           "size": 7
          },
          "showarrow": false,
          "text": "0.37",
          "x": 9,
          "xref": "x",
          "y": 2,
          "yref": "y"
         },
         {
          "font": {
           "color": "#FFFFFF",
           "size": 7
          },
          "showarrow": false,
          "text": "0.42",
          "x": 10,
          "xref": "x",
          "y": 2,
          "yref": "y"
         },
         {
          "font": {
           "color": "#FFFFFF",
           "size": 7
          },
          "showarrow": false,
          "text": "0.47",
          "x": 11,
          "xref": "x",
          "y": 2,
          "yref": "y"
         },
         {
          "font": {
           "color": "#000000",
           "size": 7
          },
          "showarrow": false,
          "text": "0.51",
          "x": 12,
          "xref": "x",
          "y": 2,
          "yref": "y"
         },
         {
          "font": {
           "color": "#000000",
           "size": 7
          },
          "showarrow": false,
          "text": "0.55",
          "x": 13,
          "xref": "x",
          "y": 2,
          "yref": "y"
         },
         {
          "font": {
           "color": "#000000",
           "size": 7
          },
          "showarrow": false,
          "text": "0.58",
          "x": 14,
          "xref": "x",
          "y": 2,
          "yref": "y"
         },
         {
          "font": {
           "color": "#000000",
           "size": 7
          },
          "showarrow": false,
          "text": "0.6",
          "x": 15,
          "xref": "x",
          "y": 2,
          "yref": "y"
         },
         {
          "font": {
           "color": "#FFFFFF",
           "size": 7
          },
          "showarrow": false,
          "text": "0.14",
          "x": 0,
          "xref": "x",
          "y": 3,
          "yref": "y"
         },
         {
          "font": {
           "color": "#FFFFFF",
           "size": 7
          },
          "showarrow": false,
          "text": "0.15",
          "x": 1,
          "xref": "x",
          "y": 3,
          "yref": "y"
         },
         {
          "font": {
           "color": "#FFFFFF",
           "size": 7
          },
          "showarrow": false,
          "text": "0.18",
          "x": 2,
          "xref": "x",
          "y": 3,
          "yref": "y"
         },
         {
          "font": {
           "color": "#FFFFFF",
           "size": 7
          },
          "showarrow": false,
          "text": "0.22",
          "x": 3,
          "xref": "x",
          "y": 3,
          "yref": "y"
         },
         {
          "font": {
           "color": "#FFFFFF",
           "size": 7
          },
          "showarrow": false,
          "text": "0.25",
          "x": 4,
          "xref": "x",
          "y": 3,
          "yref": "y"
         },
         {
          "font": {
           "color": "#FFFFFF",
           "size": 7
          },
          "showarrow": false,
          "text": "0.26",
          "x": 5,
          "xref": "x",
          "y": 3,
          "yref": "y"
         },
         {
          "font": {
           "color": "#FFFFFF",
           "size": 7
          },
          "showarrow": false,
          "text": "0.28",
          "x": 6,
          "xref": "x",
          "y": 3,
          "yref": "y"
         },
         {
          "font": {
           "color": "#FFFFFF",
           "size": 7
          },
          "showarrow": false,
          "text": "0.34",
          "x": 7,
          "xref": "x",
          "y": 3,
          "yref": "y"
         },
         {
          "font": {
           "color": "#FFFFFF",
           "size": 7
          },
          "showarrow": false,
          "text": "0.39",
          "x": 8,
          "xref": "x",
          "y": 3,
          "yref": "y"
         },
         {
          "font": {
           "color": "#FFFFFF",
           "size": 7
          },
          "showarrow": false,
          "text": "0.44",
          "x": 9,
          "xref": "x",
          "y": 3,
          "yref": "y"
         },
         {
          "font": {
           "color": "#FFFFFF",
           "size": 7
          },
          "showarrow": false,
          "text": "0.48",
          "x": 10,
          "xref": "x",
          "y": 3,
          "yref": "y"
         },
         {
          "font": {
           "color": "#000000",
           "size": 7
          },
          "showarrow": false,
          "text": "0.51",
          "x": 11,
          "xref": "x",
          "y": 3,
          "yref": "y"
         },
         {
          "font": {
           "color": "#000000",
           "size": 7
          },
          "showarrow": false,
          "text": "0.55",
          "x": 12,
          "xref": "x",
          "y": 3,
          "yref": "y"
         },
         {
          "font": {
           "color": "#000000",
           "size": 7
          },
          "showarrow": false,
          "text": "0.58",
          "x": 13,
          "xref": "x",
          "y": 3,
          "yref": "y"
         },
         {
          "font": {
           "color": "#000000",
           "size": 7
          },
          "showarrow": false,
          "text": "0.61",
          "x": 14,
          "xref": "x",
          "y": 3,
          "yref": "y"
         },
         {
          "font": {
           "color": "#000000",
           "size": 7
          },
          "showarrow": false,
          "text": "0.62",
          "x": 15,
          "xref": "x",
          "y": 3,
          "yref": "y"
         },
         {
          "font": {
           "color": "#FFFFFF",
           "size": 7
          },
          "showarrow": false,
          "text": "0.17",
          "x": 0,
          "xref": "x",
          "y": 4,
          "yref": "y"
         },
         {
          "font": {
           "color": "#FFFFFF",
           "size": 7
          },
          "showarrow": false,
          "text": "0.2",
          "x": 1,
          "xref": "x",
          "y": 4,
          "yref": "y"
         },
         {
          "font": {
           "color": "#FFFFFF",
           "size": 7
          },
          "showarrow": false,
          "text": "0.24",
          "x": 2,
          "xref": "x",
          "y": 4,
          "yref": "y"
         },
         {
          "font": {
           "color": "#FFFFFF",
           "size": 7
          },
          "showarrow": false,
          "text": "0.28",
          "x": 3,
          "xref": "x",
          "y": 4,
          "yref": "y"
         },
         {
          "font": {
           "color": "#FFFFFF",
           "size": 7
          },
          "showarrow": false,
          "text": "0.32",
          "x": 4,
          "xref": "x",
          "y": 4,
          "yref": "y"
         },
         {
          "font": {
           "color": "#FFFFFF",
           "size": 7
          },
          "showarrow": false,
          "text": "0.34",
          "x": 5,
          "xref": "x",
          "y": 4,
          "yref": "y"
         },
         {
          "font": {
           "color": "#FFFFFF",
           "size": 7
          },
          "showarrow": false,
          "text": "0.39",
          "x": 6,
          "xref": "x",
          "y": 4,
          "yref": "y"
         },
         {
          "font": {
           "color": "#FFFFFF",
           "size": 7
          },
          "showarrow": false,
          "text": "0.42",
          "x": 7,
          "xref": "x",
          "y": 4,
          "yref": "y"
         },
         {
          "font": {
           "color": "#FFFFFF",
           "size": 7
          },
          "showarrow": false,
          "text": "0.46",
          "x": 8,
          "xref": "x",
          "y": 4,
          "yref": "y"
         },
         {
          "font": {
           "color": "#FFFFFF",
           "size": 7
          },
          "showarrow": false,
          "text": "0.48",
          "x": 9,
          "xref": "x",
          "y": 4,
          "yref": "y"
         },
         {
          "font": {
           "color": "#000000",
           "size": 7
          },
          "showarrow": false,
          "text": "0.51",
          "x": 10,
          "xref": "x",
          "y": 4,
          "yref": "y"
         },
         {
          "font": {
           "color": "#000000",
           "size": 7
          },
          "showarrow": false,
          "text": "0.54",
          "x": 11,
          "xref": "x",
          "y": 4,
          "yref": "y"
         },
         {
          "font": {
           "color": "#000000",
           "size": 7
          },
          "showarrow": false,
          "text": "0.57",
          "x": 12,
          "xref": "x",
          "y": 4,
          "yref": "y"
         },
         {
          "font": {
           "color": "#000000",
           "size": 7
          },
          "showarrow": false,
          "text": "0.6",
          "x": 13,
          "xref": "x",
          "y": 4,
          "yref": "y"
         },
         {
          "font": {
           "color": "#000000",
           "size": 7
          },
          "showarrow": false,
          "text": "0.63",
          "x": 14,
          "xref": "x",
          "y": 4,
          "yref": "y"
         },
         {
          "font": {
           "color": "#000000",
           "size": 7
          },
          "showarrow": false,
          "text": "0.66",
          "x": 15,
          "xref": "x",
          "y": 4,
          "yref": "y"
         },
         {
          "font": {
           "color": "#FFFFFF",
           "size": 7
          },
          "showarrow": false,
          "text": "0.21",
          "x": 0,
          "xref": "x",
          "y": 5,
          "yref": "y"
         },
         {
          "font": {
           "color": "#FFFFFF",
           "size": 7
          },
          "showarrow": false,
          "text": "0.24",
          "x": 1,
          "xref": "x",
          "y": 5,
          "yref": "y"
         },
         {
          "font": {
           "color": "#FFFFFF",
           "size": 7
          },
          "showarrow": false,
          "text": "0.27",
          "x": 2,
          "xref": "x",
          "y": 5,
          "yref": "y"
         },
         {
          "font": {
           "color": "#FFFFFF",
           "size": 7
          },
          "showarrow": false,
          "text": "0.33",
          "x": 3,
          "xref": "x",
          "y": 5,
          "yref": "y"
         },
         {
          "font": {
           "color": "#FFFFFF",
           "size": 7
          },
          "showarrow": false,
          "text": "0.37",
          "x": 4,
          "xref": "x",
          "y": 5,
          "yref": "y"
         },
         {
          "font": {
           "color": "#FFFFFF",
           "size": 7
          },
          "showarrow": false,
          "text": "0.4",
          "x": 5,
          "xref": "x",
          "y": 5,
          "yref": "y"
         },
         {
          "font": {
           "color": "#FFFFFF",
           "size": 7
          },
          "showarrow": false,
          "text": "0.43",
          "x": 6,
          "xref": "x",
          "y": 5,
          "yref": "y"
         },
         {
          "font": {
           "color": "#FFFFFF",
           "size": 7
          },
          "showarrow": false,
          "text": "0.47",
          "x": 7,
          "xref": "x",
          "y": 5,
          "yref": "y"
         },
         {
          "font": {
           "color": "#000000",
           "size": 7
          },
          "showarrow": false,
          "text": "0.5",
          "x": 8,
          "xref": "x",
          "y": 5,
          "yref": "y"
         },
         {
          "font": {
           "color": "#000000",
           "size": 7
          },
          "showarrow": false,
          "text": "0.52",
          "x": 9,
          "xref": "x",
          "y": 5,
          "yref": "y"
         },
         {
          "font": {
           "color": "#000000",
           "size": 7
          },
          "showarrow": false,
          "text": "0.54",
          "x": 10,
          "xref": "x",
          "y": 5,
          "yref": "y"
         },
         {
          "font": {
           "color": "#000000",
           "size": 7
          },
          "showarrow": false,
          "text": "0.57",
          "x": 11,
          "xref": "x",
          "y": 5,
          "yref": "y"
         },
         {
          "font": {
           "color": "#000000",
           "size": 7
          },
          "showarrow": false,
          "text": "0.59",
          "x": 12,
          "xref": "x",
          "y": 5,
          "yref": "y"
         },
         {
          "font": {
           "color": "#000000",
           "size": 7
          },
          "showarrow": false,
          "text": "0.63",
          "x": 13,
          "xref": "x",
          "y": 5,
          "yref": "y"
         },
         {
          "font": {
           "color": "#000000",
           "size": 7
          },
          "showarrow": false,
          "text": "0.66",
          "x": 14,
          "xref": "x",
          "y": 5,
          "yref": "y"
         },
         {
          "font": {
           "color": "#000000",
           "size": 7
          },
          "showarrow": false,
          "text": "0.68",
          "x": 15,
          "xref": "x",
          "y": 5,
          "yref": "y"
         },
         {
          "font": {
           "color": "#FFFFFF",
           "size": 7
          },
          "showarrow": false,
          "text": "0.23",
          "x": 0,
          "xref": "x",
          "y": 6,
          "yref": "y"
         },
         {
          "font": {
           "color": "#FFFFFF",
           "size": 7
          },
          "showarrow": false,
          "text": "0.26",
          "x": 1,
          "xref": "x",
          "y": 6,
          "yref": "y"
         },
         {
          "font": {
           "color": "#FFFFFF",
           "size": 7
          },
          "showarrow": false,
          "text": "0.31",
          "x": 2,
          "xref": "x",
          "y": 6,
          "yref": "y"
         },
         {
          "font": {
           "color": "#FFFFFF",
           "size": 7
          },
          "showarrow": false,
          "text": "0.38",
          "x": 3,
          "xref": "x",
          "y": 6,
          "yref": "y"
         },
         {
          "font": {
           "color": "#FFFFFF",
           "size": 7
          },
          "showarrow": false,
          "text": "0.41",
          "x": 4,
          "xref": "x",
          "y": 6,
          "yref": "y"
         },
         {
          "font": {
           "color": "#FFFFFF",
           "size": 7
          },
          "showarrow": false,
          "text": "0.43",
          "x": 5,
          "xref": "x",
          "y": 6,
          "yref": "y"
         },
         {
          "font": {
           "color": "#FFFFFF",
           "size": 7
          },
          "showarrow": false,
          "text": "0.47",
          "x": 6,
          "xref": "x",
          "y": 6,
          "yref": "y"
         },
         {
          "font": {
           "color": "#000000",
           "size": 7
          },
          "showarrow": false,
          "text": "0.51",
          "x": 7,
          "xref": "x",
          "y": 6,
          "yref": "y"
         },
         {
          "font": {
           "color": "#000000",
           "size": 7
          },
          "showarrow": false,
          "text": "0.53",
          "x": 8,
          "xref": "x",
          "y": 6,
          "yref": "y"
         },
         {
          "font": {
           "color": "#000000",
           "size": 7
          },
          "showarrow": false,
          "text": "0.54",
          "x": 9,
          "xref": "x",
          "y": 6,
          "yref": "y"
         },
         {
          "font": {
           "color": "#000000",
           "size": 7
          },
          "showarrow": false,
          "text": "0.56",
          "x": 10,
          "xref": "x",
          "y": 6,
          "yref": "y"
         },
         {
          "font": {
           "color": "#000000",
           "size": 7
          },
          "showarrow": false,
          "text": "0.6",
          "x": 11,
          "xref": "x",
          "y": 6,
          "yref": "y"
         },
         {
          "font": {
           "color": "#000000",
           "size": 7
          },
          "showarrow": false,
          "text": "0.63",
          "x": 12,
          "xref": "x",
          "y": 6,
          "yref": "y"
         },
         {
          "font": {
           "color": "#000000",
           "size": 7
          },
          "showarrow": false,
          "text": "0.67",
          "x": 13,
          "xref": "x",
          "y": 6,
          "yref": "y"
         },
         {
          "font": {
           "color": "#000000",
           "size": 7
          },
          "showarrow": false,
          "text": "0.71",
          "x": 14,
          "xref": "x",
          "y": 6,
          "yref": "y"
         },
         {
          "font": {
           "color": "#000000",
           "size": 7
          },
          "showarrow": false,
          "text": "0.72",
          "x": 15,
          "xref": "x",
          "y": 6,
          "yref": "y"
         },
         {
          "font": {
           "color": "#FFFFFF",
           "size": 7
          },
          "showarrow": false,
          "text": "0.24",
          "x": 0,
          "xref": "x",
          "y": 7,
          "yref": "y"
         },
         {
          "font": {
           "color": "#FFFFFF",
           "size": 7
          },
          "showarrow": false,
          "text": "0.28",
          "x": 1,
          "xref": "x",
          "y": 7,
          "yref": "y"
         },
         {
          "font": {
           "color": "#FFFFFF",
           "size": 7
          },
          "showarrow": false,
          "text": "0.35",
          "x": 2,
          "xref": "x",
          "y": 7,
          "yref": "y"
         },
         {
          "font": {
           "color": "#FFFFFF",
           "size": 7
          },
          "showarrow": false,
          "text": "0.4",
          "x": 3,
          "xref": "x",
          "y": 7,
          "yref": "y"
         },
         {
          "font": {
           "color": "#FFFFFF",
           "size": 7
          },
          "showarrow": false,
          "text": "0.43",
          "x": 4,
          "xref": "x",
          "y": 7,
          "yref": "y"
         },
         {
          "font": {
           "color": "#FFFFFF",
           "size": 7
          },
          "showarrow": false,
          "text": "0.47",
          "x": 5,
          "xref": "x",
          "y": 7,
          "yref": "y"
         },
         {
          "font": {
           "color": "#000000",
           "size": 7
          },
          "showarrow": false,
          "text": "0.5",
          "x": 6,
          "xref": "x",
          "y": 7,
          "yref": "y"
         },
         {
          "font": {
           "color": "#000000",
           "size": 7
          },
          "showarrow": false,
          "text": "0.53",
          "x": 7,
          "xref": "x",
          "y": 7,
          "yref": "y"
         },
         {
          "font": {
           "color": "#000000",
           "size": 7
          },
          "showarrow": false,
          "text": "0.55",
          "x": 8,
          "xref": "x",
          "y": 7,
          "yref": "y"
         },
         {
          "font": {
           "color": "#000000",
           "size": 7
          },
          "showarrow": false,
          "text": "0.56",
          "x": 9,
          "xref": "x",
          "y": 7,
          "yref": "y"
         },
         {
          "font": {
           "color": "#000000",
           "size": 7
          },
          "showarrow": false,
          "text": "0.59",
          "x": 10,
          "xref": "x",
          "y": 7,
          "yref": "y"
         },
         {
          "font": {
           "color": "#000000",
           "size": 7
          },
          "showarrow": false,
          "text": "0.63",
          "x": 11,
          "xref": "x",
          "y": 7,
          "yref": "y"
         },
         {
          "font": {
           "color": "#000000",
           "size": 7
          },
          "showarrow": false,
          "text": "0.68",
          "x": 12,
          "xref": "x",
          "y": 7,
          "yref": "y"
         },
         {
          "font": {
           "color": "#000000",
           "size": 7
          },
          "showarrow": false,
          "text": "0.72",
          "x": 13,
          "xref": "x",
          "y": 7,
          "yref": "y"
         },
         {
          "font": {
           "color": "#000000",
           "size": 7
          },
          "showarrow": false,
          "text": "0.73",
          "x": 14,
          "xref": "x",
          "y": 7,
          "yref": "y"
         },
         {
          "font": {
           "color": "#000000",
           "size": 7
          },
          "showarrow": false,
          "text": "0.74",
          "x": 15,
          "xref": "x",
          "y": 7,
          "yref": "y"
         },
         {
          "font": {
           "color": "#FFFFFF",
           "size": 7
          },
          "showarrow": false,
          "text": "0.26",
          "x": 0,
          "xref": "x",
          "y": 8,
          "yref": "y"
         },
         {
          "font": {
           "color": "#FFFFFF",
           "size": 7
          },
          "showarrow": false,
          "text": "0.29",
          "x": 1,
          "xref": "x",
          "y": 8,
          "yref": "y"
         },
         {
          "font": {
           "color": "#FFFFFF",
           "size": 7
          },
          "showarrow": false,
          "text": "0.35",
          "x": 2,
          "xref": "x",
          "y": 8,
          "yref": "y"
         },
         {
          "font": {
           "color": "#FFFFFF",
           "size": 7
          },
          "showarrow": false,
          "text": "0.41",
          "x": 3,
          "xref": "x",
          "y": 8,
          "yref": "y"
         },
         {
          "font": {
           "color": "#FFFFFF",
           "size": 7
          },
          "showarrow": false,
          "text": "0.45",
          "x": 4,
          "xref": "x",
          "y": 8,
          "yref": "y"
         },
         {
          "font": {
           "color": "#FFFFFF",
           "size": 7
          },
          "showarrow": false,
          "text": "0.48",
          "x": 5,
          "xref": "x",
          "y": 8,
          "yref": "y"
         },
         {
          "font": {
           "color": "#000000",
           "size": 7
          },
          "showarrow": false,
          "text": "0.52",
          "x": 6,
          "xref": "x",
          "y": 8,
          "yref": "y"
         },
         {
          "font": {
           "color": "#000000",
           "size": 7
          },
          "showarrow": false,
          "text": "0.55",
          "x": 7,
          "xref": "x",
          "y": 8,
          "yref": "y"
         },
         {
          "font": {
           "color": "#000000",
           "size": 7
          },
          "showarrow": false,
          "text": "0.56",
          "x": 8,
          "xref": "x",
          "y": 8,
          "yref": "y"
         },
         {
          "font": {
           "color": "#000000",
           "size": 7
          },
          "showarrow": false,
          "text": "0.58",
          "x": 9,
          "xref": "x",
          "y": 8,
          "yref": "y"
         },
         {
          "font": {
           "color": "#000000",
           "size": 7
          },
          "showarrow": false,
          "text": "0.61",
          "x": 10,
          "xref": "x",
          "y": 8,
          "yref": "y"
         },
         {
          "font": {
           "color": "#000000",
           "size": 7
          },
          "showarrow": false,
          "text": "0.65",
          "x": 11,
          "xref": "x",
          "y": 8,
          "yref": "y"
         },
         {
          "font": {
           "color": "#000000",
           "size": 7
          },
          "showarrow": false,
          "text": "0.71",
          "x": 12,
          "xref": "x",
          "y": 8,
          "yref": "y"
         },
         {
          "font": {
           "color": "#000000",
           "size": 7
          },
          "showarrow": false,
          "text": "0.74",
          "x": 13,
          "xref": "x",
          "y": 8,
          "yref": "y"
         },
         {
          "font": {
           "color": "#000000",
           "size": 7
          },
          "showarrow": false,
          "text": "0.75",
          "x": 14,
          "xref": "x",
          "y": 8,
          "yref": "y"
         },
         {
          "font": {
           "color": "#000000",
           "size": 7
          },
          "showarrow": false,
          "text": "0.76",
          "x": 15,
          "xref": "x",
          "y": 8,
          "yref": "y"
         },
         {
          "font": {
           "color": "#FFFFFF",
           "size": 7
          },
          "showarrow": false,
          "text": "0.26",
          "x": 0,
          "xref": "x",
          "y": 9,
          "yref": "y"
         },
         {
          "font": {
           "color": "#FFFFFF",
           "size": 7
          },
          "showarrow": false,
          "text": "0.3",
          "x": 1,
          "xref": "x",
          "y": 9,
          "yref": "y"
         },
         {
          "font": {
           "color": "#FFFFFF",
           "size": 7
          },
          "showarrow": false,
          "text": "0.35",
          "x": 2,
          "xref": "x",
          "y": 9,
          "yref": "y"
         },
         {
          "font": {
           "color": "#FFFFFF",
           "size": 7
          },
          "showarrow": false,
          "text": "0.41",
          "x": 3,
          "xref": "x",
          "y": 9,
          "yref": "y"
         },
         {
          "font": {
           "color": "#FFFFFF",
           "size": 7
          },
          "showarrow": false,
          "text": "0.47",
          "x": 4,
          "xref": "x",
          "y": 9,
          "yref": "y"
         },
         {
          "font": {
           "color": "#000000",
           "size": 7
          },
          "showarrow": false,
          "text": "0.5",
          "x": 5,
          "xref": "x",
          "y": 9,
          "yref": "y"
         },
         {
          "font": {
           "color": "#000000",
           "size": 7
          },
          "showarrow": false,
          "text": "0.54",
          "x": 6,
          "xref": "x",
          "y": 9,
          "yref": "y"
         },
         {
          "font": {
           "color": "#000000",
           "size": 7
          },
          "showarrow": false,
          "text": "0.57",
          "x": 7,
          "xref": "x",
          "y": 9,
          "yref": "y"
         },
         {
          "font": {
           "color": "#000000",
           "size": 7
          },
          "showarrow": false,
          "text": "0.59",
          "x": 8,
          "xref": "x",
          "y": 9,
          "yref": "y"
         },
         {
          "font": {
           "color": "#000000",
           "size": 7
          },
          "showarrow": false,
          "text": "0.61",
          "x": 9,
          "xref": "x",
          "y": 9,
          "yref": "y"
         },
         {
          "font": {
           "color": "#000000",
           "size": 7
          },
          "showarrow": false,
          "text": "0.64",
          "x": 10,
          "xref": "x",
          "y": 9,
          "yref": "y"
         },
         {
          "font": {
           "color": "#000000",
           "size": 7
          },
          "showarrow": false,
          "text": "0.69",
          "x": 11,
          "xref": "x",
          "y": 9,
          "yref": "y"
         },
         {
          "font": {
           "color": "#000000",
           "size": 7
          },
          "showarrow": false,
          "text": "0.73",
          "x": 12,
          "xref": "x",
          "y": 9,
          "yref": "y"
         },
         {
          "font": {
           "color": "#000000",
           "size": 7
          },
          "showarrow": false,
          "text": "0.76",
          "x": 13,
          "xref": "x",
          "y": 9,
          "yref": "y"
         },
         {
          "font": {
           "color": "#000000",
           "size": 7
          },
          "showarrow": false,
          "text": "0.77",
          "x": 14,
          "xref": "x",
          "y": 9,
          "yref": "y"
         },
         {
          "font": {
           "color": "#000000",
           "size": 7
          },
          "showarrow": false,
          "text": "0.78",
          "x": 15,
          "xref": "x",
          "y": 9,
          "yref": "y"
         },
         {
          "font": {
           "color": "#FFFFFF",
           "size": 7
          },
          "showarrow": false,
          "text": "0.28",
          "x": 0,
          "xref": "x",
          "y": 10,
          "yref": "y"
         },
         {
          "font": {
           "color": "#FFFFFF",
           "size": 7
          },
          "showarrow": false,
          "text": "0.32",
          "x": 1,
          "xref": "x",
          "y": 10,
          "yref": "y"
         },
         {
          "font": {
           "color": "#FFFFFF",
           "size": 7
          },
          "showarrow": false,
          "text": "0.38",
          "x": 2,
          "xref": "x",
          "y": 10,
          "yref": "y"
         },
         {
          "font": {
           "color": "#FFFFFF",
           "size": 7
          },
          "showarrow": false,
          "text": "0.44",
          "x": 3,
          "xref": "x",
          "y": 10,
          "yref": "y"
         },
         {
          "font": {
           "color": "#FFFFFF",
           "size": 7
          },
          "showarrow": false,
          "text": "0.49",
          "x": 4,
          "xref": "x",
          "y": 10,
          "yref": "y"
         },
         {
          "font": {
           "color": "#000000",
           "size": 7
          },
          "showarrow": false,
          "text": "0.53",
          "x": 5,
          "xref": "x",
          "y": 10,
          "yref": "y"
         },
         {
          "font": {
           "color": "#000000",
           "size": 7
          },
          "showarrow": false,
          "text": "0.57",
          "x": 6,
          "xref": "x",
          "y": 10,
          "yref": "y"
         },
         {
          "font": {
           "color": "#000000",
           "size": 7
          },
          "showarrow": false,
          "text": "0.6",
          "x": 7,
          "xref": "x",
          "y": 10,
          "yref": "y"
         },
         {
          "font": {
           "color": "#000000",
           "size": 7
          },
          "showarrow": false,
          "text": "0.62",
          "x": 8,
          "xref": "x",
          "y": 10,
          "yref": "y"
         },
         {
          "font": {
           "color": "#000000",
           "size": 7
          },
          "showarrow": false,
          "text": "0.65",
          "x": 9,
          "xref": "x",
          "y": 10,
          "yref": "y"
         },
         {
          "font": {
           "color": "#000000",
           "size": 7
          },
          "showarrow": false,
          "text": "0.67",
          "x": 10,
          "xref": "x",
          "y": 10,
          "yref": "y"
         },
         {
          "font": {
           "color": "#000000",
           "size": 7
          },
          "showarrow": false,
          "text": "0.71",
          "x": 11,
          "xref": "x",
          "y": 10,
          "yref": "y"
         },
         {
          "font": {
           "color": "#000000",
           "size": 7
          },
          "showarrow": false,
          "text": "0.76",
          "x": 12,
          "xref": "x",
          "y": 10,
          "yref": "y"
         },
         {
          "font": {
           "color": "#000000",
           "size": 7
          },
          "showarrow": false,
          "text": "0.78",
          "x": 13,
          "xref": "x",
          "y": 10,
          "yref": "y"
         },
         {
          "font": {
           "color": "#000000",
           "size": 7
          },
          "showarrow": false,
          "text": "0.8",
          "x": 14,
          "xref": "x",
          "y": 10,
          "yref": "y"
         },
         {
          "font": {
           "color": "#000000",
           "size": 7
          },
          "showarrow": false,
          "text": "0.8",
          "x": 15,
          "xref": "x",
          "y": 10,
          "yref": "y"
         },
         {
          "font": {
           "color": "#FFFFFF",
           "size": 7
          },
          "showarrow": false,
          "text": "0.31",
          "x": 0,
          "xref": "x",
          "y": 11,
          "yref": "y"
         },
         {
          "font": {
           "color": "#FFFFFF",
           "size": 7
          },
          "showarrow": false,
          "text": "0.35",
          "x": 1,
          "xref": "x",
          "y": 11,
          "yref": "y"
         },
         {
          "font": {
           "color": "#FFFFFF",
           "size": 7
          },
          "showarrow": false,
          "text": "0.43",
          "x": 2,
          "xref": "x",
          "y": 11,
          "yref": "y"
         },
         {
          "font": {
           "color": "#FFFFFF",
           "size": 7
          },
          "showarrow": false,
          "text": "0.47",
          "x": 3,
          "xref": "x",
          "y": 11,
          "yref": "y"
         },
         {
          "font": {
           "color": "#000000",
           "size": 7
          },
          "showarrow": false,
          "text": "0.52",
          "x": 4,
          "xref": "x",
          "y": 11,
          "yref": "y"
         },
         {
          "font": {
           "color": "#000000",
           "size": 7
          },
          "showarrow": false,
          "text": "0.57",
          "x": 5,
          "xref": "x",
          "y": 11,
          "yref": "y"
         },
         {
          "font": {
           "color": "#000000",
           "size": 7
          },
          "showarrow": false,
          "text": "0.61",
          "x": 6,
          "xref": "x",
          "y": 11,
          "yref": "y"
         },
         {
          "font": {
           "color": "#000000",
           "size": 7
          },
          "showarrow": false,
          "text": "0.64",
          "x": 7,
          "xref": "x",
          "y": 11,
          "yref": "y"
         },
         {
          "font": {
           "color": "#000000",
           "size": 7
          },
          "showarrow": false,
          "text": "0.66",
          "x": 8,
          "xref": "x",
          "y": 11,
          "yref": "y"
         },
         {
          "font": {
           "color": "#000000",
           "size": 7
          },
          "showarrow": false,
          "text": "0.68",
          "x": 9,
          "xref": "x",
          "y": 11,
          "yref": "y"
         },
         {
          "font": {
           "color": "#000000",
           "size": 7
          },
          "showarrow": false,
          "text": "0.7",
          "x": 10,
          "xref": "x",
          "y": 11,
          "yref": "y"
         },
         {
          "font": {
           "color": "#000000",
           "size": 7
          },
          "showarrow": false,
          "text": "0.74",
          "x": 11,
          "xref": "x",
          "y": 11,
          "yref": "y"
         },
         {
          "font": {
           "color": "#000000",
           "size": 7
          },
          "showarrow": false,
          "text": "0.78",
          "x": 12,
          "xref": "x",
          "y": 11,
          "yref": "y"
         },
         {
          "font": {
           "color": "#000000",
           "size": 7
          },
          "showarrow": false,
          "text": "0.82",
          "x": 13,
          "xref": "x",
          "y": 11,
          "yref": "y"
         },
         {
          "font": {
           "color": "#000000",
           "size": 7
          },
          "showarrow": false,
          "text": "0.83",
          "x": 14,
          "xref": "x",
          "y": 11,
          "yref": "y"
         },
         {
          "font": {
           "color": "#000000",
           "size": 7
          },
          "showarrow": false,
          "text": "0.83",
          "x": 15,
          "xref": "x",
          "y": 11,
          "yref": "y"
         },
         {
          "font": {
           "color": "#FFFFFF",
           "size": 7
          },
          "showarrow": false,
          "text": "0.38",
          "x": 0,
          "xref": "x",
          "y": 12,
          "yref": "y"
         },
         {
          "font": {
           "color": "#FFFFFF",
           "size": 7
          },
          "showarrow": false,
          "text": "0.43",
          "x": 1,
          "xref": "x",
          "y": 12,
          "yref": "y"
         },
         {
          "font": {
           "color": "#000000",
           "size": 7
          },
          "showarrow": false,
          "text": "0.51",
          "x": 2,
          "xref": "x",
          "y": 12,
          "yref": "y"
         },
         {
          "font": {
           "color": "#000000",
           "size": 7
          },
          "showarrow": false,
          "text": "0.53",
          "x": 3,
          "xref": "x",
          "y": 12,
          "yref": "y"
         },
         {
          "font": {
           "color": "#000000",
           "size": 7
          },
          "showarrow": false,
          "text": "0.59",
          "x": 4,
          "xref": "x",
          "y": 12,
          "yref": "y"
         },
         {
          "font": {
           "color": "#000000",
           "size": 7
          },
          "showarrow": false,
          "text": "0.61",
          "x": 5,
          "xref": "x",
          "y": 12,
          "yref": "y"
         },
         {
          "font": {
           "color": "#000000",
           "size": 7
          },
          "showarrow": false,
          "text": "0.65",
          "x": 6,
          "xref": "x",
          "y": 12,
          "yref": "y"
         },
         {
          "font": {
           "color": "#000000",
           "size": 7
          },
          "showarrow": false,
          "text": "0.66",
          "x": 7,
          "xref": "x",
          "y": 12,
          "yref": "y"
         },
         {
          "font": {
           "color": "#000000",
           "size": 7
          },
          "showarrow": false,
          "text": "0.68",
          "x": 8,
          "xref": "x",
          "y": 12,
          "yref": "y"
         },
         {
          "font": {
           "color": "#000000",
           "size": 7
          },
          "showarrow": false,
          "text": "0.7",
          "x": 9,
          "xref": "x",
          "y": 12,
          "yref": "y"
         },
         {
          "font": {
           "color": "#000000",
           "size": 7
          },
          "showarrow": false,
          "text": "0.72",
          "x": 10,
          "xref": "x",
          "y": 12,
          "yref": "y"
         },
         {
          "font": {
           "color": "#000000",
           "size": 7
          },
          "showarrow": false,
          "text": "0.76",
          "x": 11,
          "xref": "x",
          "y": 12,
          "yref": "y"
         },
         {
          "font": {
           "color": "#000000",
           "size": 7
          },
          "showarrow": false,
          "text": "0.8",
          "x": 12,
          "xref": "x",
          "y": 12,
          "yref": "y"
         },
         {
          "font": {
           "color": "#000000",
           "size": 7
          },
          "showarrow": false,
          "text": "0.85",
          "x": 13,
          "xref": "x",
          "y": 12,
          "yref": "y"
         },
         {
          "font": {
           "color": "#000000",
           "size": 7
          },
          "showarrow": false,
          "text": "0.87",
          "x": 14,
          "xref": "x",
          "y": 12,
          "yref": "y"
         },
         {
          "font": {
           "color": "#000000",
           "size": 7
          },
          "showarrow": false,
          "text": "0.88",
          "x": 15,
          "xref": "x",
          "y": 12,
          "yref": "y"
         },
         {
          "font": {
           "color": "#FFFFFF",
           "size": 7
          },
          "showarrow": false,
          "text": "0.46",
          "x": 0,
          "xref": "x",
          "y": 13,
          "yref": "y"
         },
         {
          "font": {
           "color": "#000000",
           "size": 7
          },
          "showarrow": false,
          "text": "0.5",
          "x": 1,
          "xref": "x",
          "y": 13,
          "yref": "y"
         },
         {
          "font": {
           "color": "#000000",
           "size": 7
          },
          "showarrow": false,
          "text": "0.55",
          "x": 2,
          "xref": "x",
          "y": 13,
          "yref": "y"
         },
         {
          "font": {
           "color": "#000000",
           "size": 7
          },
          "showarrow": false,
          "text": "0.59",
          "x": 3,
          "xref": "x",
          "y": 13,
          "yref": "y"
         },
         {
          "font": {
           "color": "#000000",
           "size": 7
          },
          "showarrow": false,
          "text": "0.63",
          "x": 4,
          "xref": "x",
          "y": 13,
          "yref": "y"
         },
         {
          "font": {
           "color": "#000000",
           "size": 7
          },
          "showarrow": false,
          "text": "0.65",
          "x": 5,
          "xref": "x",
          "y": 13,
          "yref": "y"
         },
         {
          "font": {
           "color": "#000000",
           "size": 7
          },
          "showarrow": false,
          "text": "0.68",
          "x": 6,
          "xref": "x",
          "y": 13,
          "yref": "y"
         },
         {
          "font": {
           "color": "#000000",
           "size": 7
          },
          "showarrow": false,
          "text": "0.69",
          "x": 7,
          "xref": "x",
          "y": 13,
          "yref": "y"
         },
         {
          "font": {
           "color": "#000000",
           "size": 7
          },
          "showarrow": false,
          "text": "0.7",
          "x": 8,
          "xref": "x",
          "y": 13,
          "yref": "y"
         },
         {
          "font": {
           "color": "#000000",
           "size": 7
          },
          "showarrow": false,
          "text": "0.72",
          "x": 9,
          "xref": "x",
          "y": 13,
          "yref": "y"
         },
         {
          "font": {
           "color": "#000000",
           "size": 7
          },
          "showarrow": false,
          "text": "0.74",
          "x": 10,
          "xref": "x",
          "y": 13,
          "yref": "y"
         },
         {
          "font": {
           "color": "#000000",
           "size": 7
          },
          "showarrow": false,
          "text": "0.78",
          "x": 11,
          "xref": "x",
          "y": 13,
          "yref": "y"
         },
         {
          "font": {
           "color": "#000000",
           "size": 7
          },
          "showarrow": false,
          "text": "0.82",
          "x": 12,
          "xref": "x",
          "y": 13,
          "yref": "y"
         },
         {
          "font": {
           "color": "#000000",
           "size": 7
          },
          "showarrow": false,
          "text": "0.87",
          "x": 13,
          "xref": "x",
          "y": 13,
          "yref": "y"
         },
         {
          "font": {
           "color": "#000000",
           "size": 7
          },
          "showarrow": false,
          "text": "0.89",
          "x": 14,
          "xref": "x",
          "y": 13,
          "yref": "y"
         },
         {
          "font": {
           "color": "#000000",
           "size": 7
          },
          "showarrow": false,
          "text": "0.9",
          "x": 15,
          "xref": "x",
          "y": 13,
          "yref": "y"
         },
         {
          "font": {
           "color": "#000000",
           "size": 7
          },
          "showarrow": false,
          "text": "0.51",
          "x": 0,
          "xref": "x",
          "y": 14,
          "yref": "y"
         },
         {
          "font": {
           "color": "#000000",
           "size": 7
          },
          "showarrow": false,
          "text": "0.54",
          "x": 1,
          "xref": "x",
          "y": 14,
          "yref": "y"
         },
         {
          "font": {
           "color": "#000000",
           "size": 7
          },
          "showarrow": false,
          "text": "0.58",
          "x": 2,
          "xref": "x",
          "y": 14,
          "yref": "y"
         },
         {
          "font": {
           "color": "#000000",
           "size": 7
          },
          "showarrow": false,
          "text": "0.61",
          "x": 3,
          "xref": "x",
          "y": 14,
          "yref": "y"
         },
         {
          "font": {
           "color": "#000000",
           "size": 7
          },
          "showarrow": false,
          "text": "0.65",
          "x": 4,
          "xref": "x",
          "y": 14,
          "yref": "y"
         },
         {
          "font": {
           "color": "#000000",
           "size": 7
          },
          "showarrow": false,
          "text": "0.68",
          "x": 5,
          "xref": "x",
          "y": 14,
          "yref": "y"
         },
         {
          "font": {
           "color": "#000000",
           "size": 7
          },
          "showarrow": false,
          "text": "0.7",
          "x": 6,
          "xref": "x",
          "y": 14,
          "yref": "y"
         },
         {
          "font": {
           "color": "#000000",
           "size": 7
          },
          "showarrow": false,
          "text": "0.72",
          "x": 7,
          "xref": "x",
          "y": 14,
          "yref": "y"
         },
         {
          "font": {
           "color": "#000000",
           "size": 7
          },
          "showarrow": false,
          "text": "0.72",
          "x": 8,
          "xref": "x",
          "y": 14,
          "yref": "y"
         },
         {
          "font": {
           "color": "#000000",
           "size": 7
          },
          "showarrow": false,
          "text": "0.74",
          "x": 9,
          "xref": "x",
          "y": 14,
          "yref": "y"
         },
         {
          "font": {
           "color": "#000000",
           "size": 7
          },
          "showarrow": false,
          "text": "0.76",
          "x": 10,
          "xref": "x",
          "y": 14,
          "yref": "y"
         },
         {
          "font": {
           "color": "#000000",
           "size": 7
          },
          "showarrow": false,
          "text": "0.79",
          "x": 11,
          "xref": "x",
          "y": 14,
          "yref": "y"
         },
         {
          "font": {
           "color": "#000000",
           "size": 7
          },
          "showarrow": false,
          "text": "0.85",
          "x": 12,
          "xref": "x",
          "y": 14,
          "yref": "y"
         },
         {
          "font": {
           "color": "#000000",
           "size": 7
          },
          "showarrow": false,
          "text": "0.89",
          "x": 13,
          "xref": "x",
          "y": 14,
          "yref": "y"
         },
         {
          "font": {
           "color": "#000000",
           "size": 7
          },
          "showarrow": false,
          "text": "0.9",
          "x": 14,
          "xref": "x",
          "y": 14,
          "yref": "y"
         },
         {
          "font": {
           "color": "#000000",
           "size": 7
          },
          "showarrow": false,
          "text": "0.91",
          "x": 15,
          "xref": "x",
          "y": 14,
          "yref": "y"
         },
         {
          "font": {
           "color": "#000000",
           "size": 7
          },
          "showarrow": false,
          "text": "0.54",
          "x": 0,
          "xref": "x",
          "y": 15,
          "yref": "y"
         },
         {
          "font": {
           "color": "#000000",
           "size": 7
          },
          "showarrow": false,
          "text": "0.56",
          "x": 1,
          "xref": "x",
          "y": 15,
          "yref": "y"
         },
         {
          "font": {
           "color": "#000000",
           "size": 7
          },
          "showarrow": false,
          "text": "0.6",
          "x": 2,
          "xref": "x",
          "y": 15,
          "yref": "y"
         },
         {
          "font": {
           "color": "#000000",
           "size": 7
          },
          "showarrow": false,
          "text": "0.63",
          "x": 3,
          "xref": "x",
          "y": 15,
          "yref": "y"
         },
         {
          "font": {
           "color": "#000000",
           "size": 7
          },
          "showarrow": false,
          "text": "0.66",
          "x": 4,
          "xref": "x",
          "y": 15,
          "yref": "y"
         },
         {
          "font": {
           "color": "#000000",
           "size": 7
          },
          "showarrow": false,
          "text": "0.69",
          "x": 5,
          "xref": "x",
          "y": 15,
          "yref": "y"
         },
         {
          "font": {
           "color": "#000000",
           "size": 7
          },
          "showarrow": false,
          "text": "0.71",
          "x": 6,
          "xref": "x",
          "y": 15,
          "yref": "y"
         },
         {
          "font": {
           "color": "#000000",
           "size": 7
          },
          "showarrow": false,
          "text": "0.72",
          "x": 7,
          "xref": "x",
          "y": 15,
          "yref": "y"
         },
         {
          "font": {
           "color": "#000000",
           "size": 7
          },
          "showarrow": false,
          "text": "0.74",
          "x": 8,
          "xref": "x",
          "y": 15,
          "yref": "y"
         },
         {
          "font": {
           "color": "#000000",
           "size": 7
          },
          "showarrow": false,
          "text": "0.76",
          "x": 9,
          "xref": "x",
          "y": 15,
          "yref": "y"
         },
         {
          "font": {
           "color": "#000000",
           "size": 7
          },
          "showarrow": false,
          "text": "0.78",
          "x": 10,
          "xref": "x",
          "y": 15,
          "yref": "y"
         },
         {
          "font": {
           "color": "#000000",
           "size": 7
          },
          "showarrow": false,
          "text": "0.82",
          "x": 11,
          "xref": "x",
          "y": 15,
          "yref": "y"
         },
         {
          "font": {
           "color": "#000000",
           "size": 7
          },
          "showarrow": false,
          "text": "0.86",
          "x": 12,
          "xref": "x",
          "y": 15,
          "yref": "y"
         },
         {
          "font": {
           "color": "#000000",
           "size": 7
          },
          "showarrow": false,
          "text": "0.9",
          "x": 13,
          "xref": "x",
          "y": 15,
          "yref": "y"
         },
         {
          "font": {
           "color": "#000000",
           "size": 7
          },
          "showarrow": false,
          "text": "0.91",
          "x": 14,
          "xref": "x",
          "y": 15,
          "yref": "y"
         },
         {
          "font": {
           "color": "#000000",
           "size": 7
          },
          "showarrow": false,
          "text": "0.92",
          "x": 15,
          "xref": "x",
          "y": 15,
          "yref": "y"
         }
        ],
        "template": {
         "data": {
          "bar": [
           {
            "error_x": {
             "color": "#2a3f5f"
            },
            "error_y": {
             "color": "#2a3f5f"
            },
            "marker": {
             "line": {
              "color": "#E5ECF6",
              "width": 0.5
             }
            },
            "type": "bar"
           }
          ],
          "barpolar": [
           {
            "marker": {
             "line": {
              "color": "#E5ECF6",
              "width": 0.5
             }
            },
            "type": "barpolar"
           }
          ],
          "carpet": [
           {
            "aaxis": {
             "endlinecolor": "#2a3f5f",
             "gridcolor": "white",
             "linecolor": "white",
             "minorgridcolor": "white",
             "startlinecolor": "#2a3f5f"
            },
            "baxis": {
             "endlinecolor": "#2a3f5f",
             "gridcolor": "white",
             "linecolor": "white",
             "minorgridcolor": "white",
             "startlinecolor": "#2a3f5f"
            },
            "type": "carpet"
           }
          ],
          "choropleth": [
           {
            "colorbar": {
             "outlinewidth": 0,
             "ticks": ""
            },
            "type": "choropleth"
           }
          ],
          "contour": [
           {
            "colorbar": {
             "outlinewidth": 0,
             "ticks": ""
            },
            "colorscale": [
             [
              0.0,
              "#0d0887"
             ],
             [
              0.1111111111111111,
              "#46039f"
             ],
             [
              0.2222222222222222,
              "#7201a8"
             ],
             [
              0.3333333333333333,
              "#9c179e"
             ],
             [
              0.4444444444444444,
              "#bd3786"
             ],
             [
              0.5555555555555556,
              "#d8576b"
             ],
             [
              0.6666666666666666,
              "#ed7953"
             ],
             [
              0.7777777777777778,
              "#fb9f3a"
             ],
             [
              0.8888888888888888,
              "#fdca26"
             ],
             [
              1.0,
              "#f0f921"
             ]
            ],
            "type": "contour"
           }
          ],
          "contourcarpet": [
           {
            "colorbar": {
             "outlinewidth": 0,
             "ticks": ""
            },
            "type": "contourcarpet"
           }
          ],
          "heatmap": [
           {
            "colorbar": {
             "outlinewidth": 0,
             "ticks": ""
            },
            "colorscale": [
             [
              0.0,
              "#0d0887"
             ],
             [
              0.1111111111111111,
              "#46039f"
             ],
             [
              0.2222222222222222,
              "#7201a8"
             ],
             [
              0.3333333333333333,
              "#9c179e"
             ],
             [
              0.4444444444444444,
              "#bd3786"
             ],
             [
              0.5555555555555556,
              "#d8576b"
             ],
             [
              0.6666666666666666,
              "#ed7953"
             ],
             [
              0.7777777777777778,
              "#fb9f3a"
             ],
             [
              0.8888888888888888,
              "#fdca26"
             ],
             [
              1.0,
              "#f0f921"
             ]
            ],
            "type": "heatmap"
           }
          ],
          "heatmapgl": [
           {
            "colorbar": {
             "outlinewidth": 0,
             "ticks": ""
            },
            "colorscale": [
             [
              0.0,
              "#0d0887"
             ],
             [
              0.1111111111111111,
              "#46039f"
             ],
             [
              0.2222222222222222,
              "#7201a8"
             ],
             [
              0.3333333333333333,
              "#9c179e"
             ],
             [
              0.4444444444444444,
              "#bd3786"
             ],
             [
              0.5555555555555556,
              "#d8576b"
             ],
             [
              0.6666666666666666,
              "#ed7953"
             ],
             [
              0.7777777777777778,
              "#fb9f3a"
             ],
             [
              0.8888888888888888,
              "#fdca26"
             ],
             [
              1.0,
              "#f0f921"
             ]
            ],
            "type": "heatmapgl"
           }
          ],
          "histogram": [
           {
            "marker": {
             "colorbar": {
              "outlinewidth": 0,
              "ticks": ""
             }
            },
            "type": "histogram"
           }
          ],
          "histogram2d": [
           {
            "colorbar": {
             "outlinewidth": 0,
             "ticks": ""
            },
            "colorscale": [
             [
              0.0,
              "#0d0887"
             ],
             [
              0.1111111111111111,
              "#46039f"
             ],
             [
              0.2222222222222222,
              "#7201a8"
             ],
             [
              0.3333333333333333,
              "#9c179e"
             ],
             [
              0.4444444444444444,
              "#bd3786"
             ],
             [
              0.5555555555555556,
              "#d8576b"
             ],
             [
              0.6666666666666666,
              "#ed7953"
             ],
             [
              0.7777777777777778,
              "#fb9f3a"
             ],
             [
              0.8888888888888888,
              "#fdca26"
             ],
             [
              1.0,
              "#f0f921"
             ]
            ],
            "type": "histogram2d"
           }
          ],
          "histogram2dcontour": [
           {
            "colorbar": {
             "outlinewidth": 0,
             "ticks": ""
            },
            "colorscale": [
             [
              0.0,
              "#0d0887"
             ],
             [
              0.1111111111111111,
              "#46039f"
             ],
             [
              0.2222222222222222,
              "#7201a8"
             ],
             [
              0.3333333333333333,
              "#9c179e"
             ],
             [
              0.4444444444444444,
              "#bd3786"
             ],
             [
              0.5555555555555556,
              "#d8576b"
             ],
             [
              0.6666666666666666,
              "#ed7953"
             ],
             [
              0.7777777777777778,
              "#fb9f3a"
             ],
             [
              0.8888888888888888,
              "#fdca26"
             ],
             [
              1.0,
              "#f0f921"
             ]
            ],
            "type": "histogram2dcontour"
           }
          ],
          "mesh3d": [
           {
            "colorbar": {
             "outlinewidth": 0,
             "ticks": ""
            },
            "type": "mesh3d"
           }
          ],
          "parcoords": [
           {
            "line": {
             "colorbar": {
              "outlinewidth": 0,
              "ticks": ""
             }
            },
            "type": "parcoords"
           }
          ],
          "pie": [
           {
            "automargin": true,
            "type": "pie"
           }
          ],
          "scatter": [
           {
            "marker": {
             "colorbar": {
              "outlinewidth": 0,
              "ticks": ""
             }
            },
            "type": "scatter"
           }
          ],
          "scatter3d": [
           {
            "line": {
             "colorbar": {
              "outlinewidth": 0,
              "ticks": ""
             }
            },
            "marker": {
             "colorbar": {
              "outlinewidth": 0,
              "ticks": ""
             }
            },
            "type": "scatter3d"
           }
          ],
          "scattercarpet": [
           {
            "marker": {
             "colorbar": {
              "outlinewidth": 0,
              "ticks": ""
             }
            },
            "type": "scattercarpet"
           }
          ],
          "scattergeo": [
           {
            "marker": {
             "colorbar": {
              "outlinewidth": 0,
              "ticks": ""
             }
            },
            "type": "scattergeo"
           }
          ],
          "scattergl": [
           {
            "marker": {
             "colorbar": {
              "outlinewidth": 0,
              "ticks": ""
             }
            },
            "type": "scattergl"
           }
          ],
          "scattermapbox": [
           {
            "marker": {
             "colorbar": {
              "outlinewidth": 0,
              "ticks": ""
             }
            },
            "type": "scattermapbox"
           }
          ],
          "scatterpolar": [
           {
            "marker": {
             "colorbar": {
              "outlinewidth": 0,
              "ticks": ""
             }
            },
            "type": "scatterpolar"
           }
          ],
          "scatterpolargl": [
           {
            "marker": {
             "colorbar": {
              "outlinewidth": 0,
              "ticks": ""
             }
            },
            "type": "scatterpolargl"
           }
          ],
          "scatterternary": [
           {
            "marker": {
             "colorbar": {
              "outlinewidth": 0,
              "ticks": ""
             }
            },
            "type": "scatterternary"
           }
          ],
          "surface": [
           {
            "colorbar": {
             "outlinewidth": 0,
             "ticks": ""
            },
            "colorscale": [
             [
              0.0,
              "#0d0887"
             ],
             [
              0.1111111111111111,
              "#46039f"
             ],
             [
              0.2222222222222222,
              "#7201a8"
             ],
             [
              0.3333333333333333,
              "#9c179e"
             ],
             [
              0.4444444444444444,
              "#bd3786"
             ],
             [
              0.5555555555555556,
              "#d8576b"
             ],
             [
              0.6666666666666666,
              "#ed7953"
             ],
             [
              0.7777777777777778,
              "#fb9f3a"
             ],
             [
              0.8888888888888888,
              "#fdca26"
             ],
             [
              1.0,
              "#f0f921"
             ]
            ],
            "type": "surface"
           }
          ],
          "table": [
           {
            "cells": {
             "fill": {
              "color": "#EBF0F8"
             },
             "line": {
              "color": "white"
             }
            },
            "header": {
             "fill": {
              "color": "#C8D4E3"
             },
             "line": {
              "color": "white"
             }
            },
            "type": "table"
           }
          ]
         },
         "layout": {
          "annotationdefaults": {
           "arrowcolor": "#2a3f5f",
           "arrowhead": 0,
           "arrowwidth": 1
          },
          "coloraxis": {
           "colorbar": {
            "outlinewidth": 0,
            "ticks": ""
           }
          },
          "colorscale": {
           "diverging": [
            [
             0,
             "#8e0152"
            ],
            [
             0.1,
             "#c51b7d"
            ],
            [
             0.2,
             "#de77ae"
            ],
            [
             0.3,
             "#f1b6da"
            ],
            [
             0.4,
             "#fde0ef"
            ],
            [
             0.5,
             "#f7f7f7"
            ],
            [
             0.6,
             "#e6f5d0"
            ],
            [
             0.7,
             "#b8e186"
            ],
            [
             0.8,
             "#7fbc41"
            ],
            [
             0.9,
             "#4d9221"
            ],
            [
             1,
             "#276419"
            ]
           ],
           "sequential": [
            [
             0.0,
             "#0d0887"
            ],
            [
             0.1111111111111111,
             "#46039f"
            ],
            [
             0.2222222222222222,
             "#7201a8"
            ],
            [
             0.3333333333333333,
             "#9c179e"
            ],
            [
             0.4444444444444444,
             "#bd3786"
            ],
            [
             0.5555555555555556,
             "#d8576b"
            ],
            [
             0.6666666666666666,
             "#ed7953"
            ],
            [
             0.7777777777777778,
             "#fb9f3a"
            ],
            [
             0.8888888888888888,
             "#fdca26"
            ],
            [
             1.0,
             "#f0f921"
            ]
           ],
           "sequentialminus": [
            [
             0.0,
             "#0d0887"
            ],
            [
             0.1111111111111111,
             "#46039f"
            ],
            [
             0.2222222222222222,
             "#7201a8"
            ],
            [
             0.3333333333333333,
             "#9c179e"
            ],
            [
             0.4444444444444444,
             "#bd3786"
            ],
            [
             0.5555555555555556,
             "#d8576b"
            ],
            [
             0.6666666666666666,
             "#ed7953"
            ],
            [
             0.7777777777777778,
             "#fb9f3a"
            ],
            [
             0.8888888888888888,
             "#fdca26"
            ],
            [
             1.0,
             "#f0f921"
            ]
           ]
          },
          "colorway": [
           "#636efa",
           "#EF553B",
           "#00cc96",
           "#ab63fa",
           "#FFA15A",
           "#19d3f3",
           "#FF6692",
           "#B6E880",
           "#FF97FF",
           "#FECB52"
          ],
          "font": {
           "color": "#2a3f5f"
          },
          "geo": {
           "bgcolor": "white",
           "lakecolor": "white",
           "landcolor": "#E5ECF6",
           "showlakes": true,
           "showland": true,
           "subunitcolor": "white"
          },
          "hoverlabel": {
           "align": "left"
          },
          "hovermode": "closest",
          "mapbox": {
           "style": "light"
          },
          "paper_bgcolor": "white",
          "plot_bgcolor": "#E5ECF6",
          "polar": {
           "angularaxis": {
            "gridcolor": "white",
            "linecolor": "white",
            "ticks": ""
           },
           "bgcolor": "#E5ECF6",
           "radialaxis": {
            "gridcolor": "white",
            "linecolor": "white",
            "ticks": ""
           }
          },
          "scene": {
           "xaxis": {
            "backgroundcolor": "#E5ECF6",
            "gridcolor": "white",
            "gridwidth": 2,
            "linecolor": "white",
            "showbackground": true,
            "ticks": "",
            "zerolinecolor": "white"
           },
           "yaxis": {
            "backgroundcolor": "#E5ECF6",
            "gridcolor": "white",
            "gridwidth": 2,
            "linecolor": "white",
            "showbackground": true,
            "ticks": "",
            "zerolinecolor": "white"
           },
           "zaxis": {
            "backgroundcolor": "#E5ECF6",
            "gridcolor": "white",
            "gridwidth": 2,
            "linecolor": "white",
            "showbackground": true,
            "ticks": "",
            "zerolinecolor": "white"
           }
          },
          "shapedefaults": {
           "line": {
            "color": "#2a3f5f"
           }
          },
          "ternary": {
           "aaxis": {
            "gridcolor": "white",
            "linecolor": "white",
            "ticks": ""
           },
           "baxis": {
            "gridcolor": "white",
            "linecolor": "white",
            "ticks": ""
           },
           "bgcolor": "#E5ECF6",
           "caxis": {
            "gridcolor": "white",
            "linecolor": "white",
            "ticks": ""
           }
          },
          "title": {
           "x": 0.05
          },
          "xaxis": {
           "automargin": true,
           "gridcolor": "white",
           "linecolor": "white",
           "ticks": "",
           "title": {
            "standoff": 15
           },
           "zerolinecolor": "white",
           "zerolinewidth": 2
          },
          "yaxis": {
           "automargin": true,
           "gridcolor": "white",
           "linecolor": "white",
           "ticks": "",
           "title": {
            "standoff": 15
           },
           "zerolinecolor": "white",
           "zerolinewidth": 2
          }
         }
        },
        "title": {
         "text": "RED"
        },
        "xaxis": {
         "gridcolor": "rgb(0, 0, 0)",
         "showticklabels": false,
         "side": "top",
         "ticks": ""
        },
        "yaxis": {
         "showticklabels": false,
         "ticks": "",
         "ticksuffix": "  "
        }
       }
      },
      "text/html": "<div>\n        \n        \n            <div id=\"e03ce5d3-b275-4662-97f4-3ff74351cc9b\" class=\"plotly-graph-div\" style=\"height:525px; width:100%;\"></div>\n            <script type=\"text/javascript\">\n                require([\"plotly\"], function(Plotly) {\n                    window.PLOTLYENV=window.PLOTLYENV || {};\n                    \n                if (document.getElementById(\"e03ce5d3-b275-4662-97f4-3ff74351cc9b\")) {\n                    Plotly.newPlot(\n                        'e03ce5d3-b275-4662-97f4-3ff74351cc9b',\n                        [{\"colorscale\": [[0.0, \"#0d0887\"], [0.1111111111111111, \"#46039f\"], [0.2222222222222222, \"#7201a8\"], [0.3333333333333333, \"#9c179e\"], [0.4444444444444444, \"#bd3786\"], [0.5555555555555556, \"#d8576b\"], [0.6666666666666666, \"#ed7953\"], [0.7777777777777778, \"#fb9f3a\"], [0.8888888888888888, \"#fdca26\"], [1.0, \"#f0f921\"]], \"reversescale\": false, \"showscale\": true, \"type\": \"heatmap\", \"z\": [[0.07, 0.08, 0.1, 0.12, 0.13, 0.15, 0.15, 0.18, 0.21, 0.28, 0.31, 0.38, 0.46, 0.5, 0.54, 0.56], [0.07, 0.09, 0.11, 0.13, 0.14, 0.16, 0.17, 0.21, 0.27, 0.32, 0.36, 0.42, 0.47, 0.52, 0.56, 0.58], [0.1, 0.1, 0.12, 0.15, 0.19, 0.2, 0.22, 0.26, 0.31, 0.37, 0.42, 0.47, 0.51, 0.55, 0.58, 0.6], [0.14, 0.15, 0.18, 0.22, 0.25, 0.26, 0.28, 0.34, 0.39, 0.44, 0.48, 0.51, 0.55, 0.58, 0.61, 0.62], [0.17, 0.2, 0.24, 0.28, 0.32, 0.34, 0.39, 0.42, 0.46, 0.48, 0.51, 0.54, 0.57, 0.6, 0.63, 0.66], [0.21, 0.24, 0.27, 0.33, 0.37, 0.4, 0.43, 0.47, 0.5, 0.52, 0.54, 0.57, 0.59, 0.63, 0.66, 0.68], [0.23, 0.26, 0.31, 0.38, 0.41, 0.43, 0.47, 0.51, 0.53, 0.54, 0.56, 0.6, 0.63, 0.67, 0.71, 0.72], [0.24, 0.28, 0.35, 0.4, 0.43, 0.47, 0.5, 0.53, 0.55, 0.56, 0.59, 0.63, 0.68, 0.72, 0.73, 0.74], [0.26, 0.29, 0.35, 0.41, 0.45, 0.48, 0.52, 0.55, 0.56, 0.58, 0.61, 0.65, 0.71, 0.74, 0.75, 0.76], [0.26, 0.3, 0.35, 0.41, 0.47, 0.5, 0.54, 0.57, 0.59, 0.61, 0.64, 0.69, 0.73, 0.76, 0.77, 0.78], [0.28, 0.32, 0.38, 0.44, 0.49, 0.53, 0.57, 0.6, 0.62, 0.65, 0.67, 0.71, 0.76, 0.78, 0.8, 0.8], [0.31, 0.35, 0.43, 0.47, 0.52, 0.57, 0.61, 0.64, 0.66, 0.68, 0.7, 0.74, 0.78, 0.82, 0.83, 0.83], [0.38, 0.43, 0.51, 0.53, 0.59, 0.61, 0.65, 0.66, 0.68, 0.7, 0.72, 0.76, 0.8, 0.85, 0.87, 0.88], [0.46, 0.5, 0.55, 0.59, 0.63, 0.65, 0.68, 0.69, 0.7, 0.72, 0.74, 0.78, 0.82, 0.87, 0.89, 0.9], [0.51, 0.54, 0.58, 0.61, 0.65, 0.68, 0.7, 0.72, 0.72, 0.74, 0.76, 0.79, 0.85, 0.89, 0.9, 0.91], [0.54, 0.56, 0.6, 0.63, 0.66, 0.69, 0.71, 0.72, 0.74, 0.76, 0.78, 0.82, 0.86, 0.9, 0.91, 0.92]]}],\n                        {\"annotations\": [{\"font\": {\"color\": \"#FFFFFF\", \"size\": 7}, \"showarrow\": false, \"text\": \"0.07\", \"x\": 0, \"xref\": \"x\", \"y\": 0, \"yref\": \"y\"}, {\"font\": {\"color\": \"#FFFFFF\", \"size\": 7}, \"showarrow\": false, \"text\": \"0.08\", \"x\": 1, \"xref\": \"x\", \"y\": 0, \"yref\": \"y\"}, {\"font\": {\"color\": \"#FFFFFF\", \"size\": 7}, \"showarrow\": false, \"text\": \"0.1\", \"x\": 2, \"xref\": \"x\", \"y\": 0, \"yref\": \"y\"}, {\"font\": {\"color\": \"#FFFFFF\", \"size\": 7}, \"showarrow\": false, \"text\": \"0.12\", \"x\": 3, \"xref\": \"x\", \"y\": 0, \"yref\": \"y\"}, {\"font\": {\"color\": \"#FFFFFF\", \"size\": 7}, \"showarrow\": false, \"text\": \"0.13\", \"x\": 4, \"xref\": \"x\", \"y\": 0, \"yref\": \"y\"}, {\"font\": {\"color\": \"#FFFFFF\", \"size\": 7}, \"showarrow\": false, \"text\": \"0.15\", \"x\": 5, \"xref\": \"x\", \"y\": 0, \"yref\": \"y\"}, {\"font\": {\"color\": \"#FFFFFF\", \"size\": 7}, \"showarrow\": false, \"text\": \"0.15\", \"x\": 6, \"xref\": \"x\", \"y\": 0, \"yref\": \"y\"}, {\"font\": {\"color\": \"#FFFFFF\", \"size\": 7}, \"showarrow\": false, \"text\": \"0.18\", \"x\": 7, \"xref\": \"x\", \"y\": 0, \"yref\": \"y\"}, {\"font\": {\"color\": \"#FFFFFF\", \"size\": 7}, \"showarrow\": false, \"text\": \"0.21\", \"x\": 8, \"xref\": \"x\", \"y\": 0, \"yref\": \"y\"}, {\"font\": {\"color\": \"#FFFFFF\", \"size\": 7}, \"showarrow\": false, \"text\": \"0.28\", \"x\": 9, \"xref\": \"x\", \"y\": 0, \"yref\": \"y\"}, {\"font\": {\"color\": \"#FFFFFF\", \"size\": 7}, \"showarrow\": false, \"text\": \"0.31\", \"x\": 10, \"xref\": \"x\", \"y\": 0, \"yref\": \"y\"}, {\"font\": {\"color\": \"#FFFFFF\", \"size\": 7}, \"showarrow\": false, \"text\": \"0.38\", \"x\": 11, \"xref\": \"x\", \"y\": 0, \"yref\": \"y\"}, {\"font\": {\"color\": \"#FFFFFF\", \"size\": 7}, \"showarrow\": false, \"text\": \"0.46\", \"x\": 12, \"xref\": \"x\", \"y\": 0, \"yref\": \"y\"}, {\"font\": {\"color\": \"#000000\", \"size\": 7}, \"showarrow\": false, \"text\": \"0.5\", \"x\": 13, \"xref\": \"x\", \"y\": 0, \"yref\": \"y\"}, {\"font\": {\"color\": \"#000000\", \"size\": 7}, \"showarrow\": false, \"text\": \"0.54\", \"x\": 14, \"xref\": \"x\", \"y\": 0, \"yref\": \"y\"}, {\"font\": {\"color\": \"#000000\", \"size\": 7}, \"showarrow\": false, \"text\": \"0.56\", \"x\": 15, \"xref\": \"x\", \"y\": 0, \"yref\": \"y\"}, {\"font\": {\"color\": \"#FFFFFF\", \"size\": 7}, \"showarrow\": false, \"text\": \"0.07\", \"x\": 0, \"xref\": \"x\", \"y\": 1, \"yref\": \"y\"}, {\"font\": {\"color\": \"#FFFFFF\", \"size\": 7}, \"showarrow\": false, \"text\": \"0.09\", \"x\": 1, \"xref\": \"x\", \"y\": 1, \"yref\": \"y\"}, {\"font\": {\"color\": \"#FFFFFF\", \"size\": 7}, \"showarrow\": false, \"text\": \"0.11\", \"x\": 2, \"xref\": \"x\", \"y\": 1, \"yref\": \"y\"}, {\"font\": {\"color\": \"#FFFFFF\", \"size\": 7}, \"showarrow\": false, \"text\": \"0.13\", \"x\": 3, \"xref\": \"x\", \"y\": 1, \"yref\": \"y\"}, {\"font\": {\"color\": \"#FFFFFF\", \"size\": 7}, \"showarrow\": false, \"text\": \"0.14\", \"x\": 4, \"xref\": \"x\", \"y\": 1, \"yref\": \"y\"}, {\"font\": {\"color\": \"#FFFFFF\", \"size\": 7}, \"showarrow\": false, \"text\": \"0.16\", \"x\": 5, \"xref\": \"x\", \"y\": 1, \"yref\": \"y\"}, {\"font\": {\"color\": \"#FFFFFF\", \"size\": 7}, \"showarrow\": false, \"text\": \"0.17\", \"x\": 6, \"xref\": \"x\", \"y\": 1, \"yref\": \"y\"}, {\"font\": {\"color\": \"#FFFFFF\", \"size\": 7}, \"showarrow\": false, \"text\": \"0.21\", \"x\": 7, \"xref\": \"x\", \"y\": 1, \"yref\": \"y\"}, {\"font\": {\"color\": \"#FFFFFF\", \"size\": 7}, \"showarrow\": false, \"text\": \"0.27\", \"x\": 8, \"xref\": \"x\", \"y\": 1, \"yref\": \"y\"}, {\"font\": {\"color\": \"#FFFFFF\", \"size\": 7}, \"showarrow\": false, \"text\": \"0.32\", \"x\": 9, \"xref\": \"x\", \"y\": 1, \"yref\": \"y\"}, {\"font\": {\"color\": \"#FFFFFF\", \"size\": 7}, \"showarrow\": false, \"text\": \"0.36\", \"x\": 10, \"xref\": \"x\", \"y\": 1, \"yref\": \"y\"}, {\"font\": {\"color\": \"#FFFFFF\", \"size\": 7}, \"showarrow\": false, \"text\": \"0.42\", \"x\": 11, \"xref\": \"x\", \"y\": 1, \"yref\": \"y\"}, {\"font\": {\"color\": \"#FFFFFF\", \"size\": 7}, \"showarrow\": false, \"text\": \"0.47\", \"x\": 12, \"xref\": \"x\", \"y\": 1, \"yref\": \"y\"}, {\"font\": {\"color\": \"#000000\", \"size\": 7}, \"showarrow\": false, \"text\": \"0.52\", \"x\": 13, \"xref\": \"x\", \"y\": 1, \"yref\": \"y\"}, {\"font\": {\"color\": \"#000000\", \"size\": 7}, \"showarrow\": false, \"text\": \"0.56\", \"x\": 14, \"xref\": \"x\", \"y\": 1, \"yref\": \"y\"}, {\"font\": {\"color\": \"#000000\", \"size\": 7}, \"showarrow\": false, \"text\": \"0.58\", \"x\": 15, \"xref\": \"x\", \"y\": 1, \"yref\": \"y\"}, {\"font\": {\"color\": \"#FFFFFF\", \"size\": 7}, \"showarrow\": false, \"text\": \"0.1\", \"x\": 0, \"xref\": \"x\", \"y\": 2, \"yref\": \"y\"}, {\"font\": {\"color\": \"#FFFFFF\", \"size\": 7}, \"showarrow\": false, \"text\": \"0.1\", \"x\": 1, \"xref\": \"x\", \"y\": 2, \"yref\": \"y\"}, {\"font\": {\"color\": \"#FFFFFF\", \"size\": 7}, \"showarrow\": false, \"text\": \"0.12\", \"x\": 2, \"xref\": \"x\", \"y\": 2, \"yref\": \"y\"}, {\"font\": {\"color\": \"#FFFFFF\", \"size\": 7}, \"showarrow\": false, \"text\": \"0.15\", \"x\": 3, \"xref\": \"x\", \"y\": 2, \"yref\": \"y\"}, {\"font\": {\"color\": \"#FFFFFF\", \"size\": 7}, \"showarrow\": false, \"text\": \"0.19\", \"x\": 4, \"xref\": \"x\", \"y\": 2, \"yref\": \"y\"}, {\"font\": {\"color\": \"#FFFFFF\", \"size\": 7}, \"showarrow\": false, \"text\": \"0.2\", \"x\": 5, \"xref\": \"x\", \"y\": 2, \"yref\": \"y\"}, {\"font\": {\"color\": \"#FFFFFF\", \"size\": 7}, \"showarrow\": false, \"text\": \"0.22\", \"x\": 6, \"xref\": \"x\", \"y\": 2, \"yref\": \"y\"}, {\"font\": {\"color\": \"#FFFFFF\", \"size\": 7}, \"showarrow\": false, \"text\": \"0.26\", \"x\": 7, \"xref\": \"x\", \"y\": 2, \"yref\": \"y\"}, {\"font\": {\"color\": \"#FFFFFF\", \"size\": 7}, \"showarrow\": false, \"text\": \"0.31\", \"x\": 8, \"xref\": \"x\", \"y\": 2, \"yref\": \"y\"}, {\"font\": {\"color\": \"#FFFFFF\", \"size\": 7}, \"showarrow\": false, \"text\": \"0.37\", \"x\": 9, \"xref\": \"x\", \"y\": 2, \"yref\": \"y\"}, {\"font\": {\"color\": \"#FFFFFF\", \"size\": 7}, \"showarrow\": false, \"text\": \"0.42\", \"x\": 10, \"xref\": \"x\", \"y\": 2, \"yref\": \"y\"}, {\"font\": {\"color\": \"#FFFFFF\", \"size\": 7}, \"showarrow\": false, \"text\": \"0.47\", \"x\": 11, \"xref\": \"x\", \"y\": 2, \"yref\": \"y\"}, {\"font\": {\"color\": \"#000000\", \"size\": 7}, \"showarrow\": false, \"text\": \"0.51\", \"x\": 12, \"xref\": \"x\", \"y\": 2, \"yref\": \"y\"}, {\"font\": {\"color\": \"#000000\", \"size\": 7}, \"showarrow\": false, \"text\": \"0.55\", \"x\": 13, \"xref\": \"x\", \"y\": 2, \"yref\": \"y\"}, {\"font\": {\"color\": \"#000000\", \"size\": 7}, \"showarrow\": false, \"text\": \"0.58\", \"x\": 14, \"xref\": \"x\", \"y\": 2, \"yref\": \"y\"}, {\"font\": {\"color\": \"#000000\", \"size\": 7}, \"showarrow\": false, \"text\": \"0.6\", \"x\": 15, \"xref\": \"x\", \"y\": 2, \"yref\": \"y\"}, {\"font\": {\"color\": \"#FFFFFF\", \"size\": 7}, \"showarrow\": false, \"text\": \"0.14\", \"x\": 0, \"xref\": \"x\", \"y\": 3, \"yref\": \"y\"}, {\"font\": {\"color\": \"#FFFFFF\", \"size\": 7}, \"showarrow\": false, \"text\": \"0.15\", \"x\": 1, \"xref\": \"x\", \"y\": 3, \"yref\": \"y\"}, {\"font\": {\"color\": \"#FFFFFF\", \"size\": 7}, \"showarrow\": false, \"text\": \"0.18\", \"x\": 2, \"xref\": \"x\", \"y\": 3, \"yref\": \"y\"}, {\"font\": {\"color\": \"#FFFFFF\", \"size\": 7}, \"showarrow\": false, \"text\": \"0.22\", \"x\": 3, \"xref\": \"x\", \"y\": 3, \"yref\": \"y\"}, {\"font\": {\"color\": \"#FFFFFF\", \"size\": 7}, \"showarrow\": false, \"text\": \"0.25\", \"x\": 4, \"xref\": \"x\", \"y\": 3, \"yref\": \"y\"}, {\"font\": {\"color\": \"#FFFFFF\", \"size\": 7}, \"showarrow\": false, \"text\": \"0.26\", \"x\": 5, \"xref\": \"x\", \"y\": 3, \"yref\": \"y\"}, {\"font\": {\"color\": \"#FFFFFF\", \"size\": 7}, \"showarrow\": false, \"text\": \"0.28\", \"x\": 6, \"xref\": \"x\", \"y\": 3, \"yref\": \"y\"}, {\"font\": {\"color\": \"#FFFFFF\", \"size\": 7}, \"showarrow\": false, \"text\": \"0.34\", \"x\": 7, \"xref\": \"x\", \"y\": 3, \"yref\": \"y\"}, {\"font\": {\"color\": \"#FFFFFF\", \"size\": 7}, \"showarrow\": false, \"text\": \"0.39\", \"x\": 8, \"xref\": \"x\", \"y\": 3, \"yref\": \"y\"}, {\"font\": {\"color\": \"#FFFFFF\", \"size\": 7}, \"showarrow\": false, \"text\": \"0.44\", \"x\": 9, \"xref\": \"x\", \"y\": 3, \"yref\": \"y\"}, {\"font\": {\"color\": \"#FFFFFF\", \"size\": 7}, \"showarrow\": false, \"text\": \"0.48\", \"x\": 10, \"xref\": \"x\", \"y\": 3, \"yref\": \"y\"}, {\"font\": {\"color\": \"#000000\", \"size\": 7}, \"showarrow\": false, \"text\": \"0.51\", \"x\": 11, \"xref\": \"x\", \"y\": 3, \"yref\": \"y\"}, {\"font\": {\"color\": \"#000000\", \"size\": 7}, \"showarrow\": false, \"text\": \"0.55\", \"x\": 12, \"xref\": \"x\", \"y\": 3, \"yref\": \"y\"}, {\"font\": {\"color\": \"#000000\", \"size\": 7}, \"showarrow\": false, \"text\": \"0.58\", \"x\": 13, \"xref\": \"x\", \"y\": 3, \"yref\": \"y\"}, {\"font\": {\"color\": \"#000000\", \"size\": 7}, \"showarrow\": false, \"text\": \"0.61\", \"x\": 14, \"xref\": \"x\", \"y\": 3, \"yref\": \"y\"}, {\"font\": {\"color\": \"#000000\", \"size\": 7}, \"showarrow\": false, \"text\": \"0.62\", \"x\": 15, \"xref\": \"x\", \"y\": 3, \"yref\": \"y\"}, {\"font\": {\"color\": \"#FFFFFF\", \"size\": 7}, \"showarrow\": false, \"text\": \"0.17\", \"x\": 0, \"xref\": \"x\", \"y\": 4, \"yref\": \"y\"}, {\"font\": {\"color\": \"#FFFFFF\", \"size\": 7}, \"showarrow\": false, \"text\": \"0.2\", \"x\": 1, \"xref\": \"x\", \"y\": 4, \"yref\": \"y\"}, {\"font\": {\"color\": \"#FFFFFF\", \"size\": 7}, \"showarrow\": false, \"text\": \"0.24\", \"x\": 2, \"xref\": \"x\", \"y\": 4, \"yref\": \"y\"}, {\"font\": {\"color\": \"#FFFFFF\", \"size\": 7}, \"showarrow\": false, \"text\": \"0.28\", \"x\": 3, \"xref\": \"x\", \"y\": 4, \"yref\": \"y\"}, {\"font\": {\"color\": \"#FFFFFF\", \"size\": 7}, \"showarrow\": false, \"text\": \"0.32\", \"x\": 4, \"xref\": \"x\", \"y\": 4, \"yref\": \"y\"}, {\"font\": {\"color\": \"#FFFFFF\", \"size\": 7}, \"showarrow\": false, \"text\": \"0.34\", \"x\": 5, \"xref\": \"x\", \"y\": 4, \"yref\": \"y\"}, {\"font\": {\"color\": \"#FFFFFF\", \"size\": 7}, \"showarrow\": false, \"text\": \"0.39\", \"x\": 6, \"xref\": \"x\", \"y\": 4, \"yref\": \"y\"}, {\"font\": {\"color\": \"#FFFFFF\", \"size\": 7}, \"showarrow\": false, \"text\": \"0.42\", \"x\": 7, \"xref\": \"x\", \"y\": 4, \"yref\": \"y\"}, {\"font\": {\"color\": \"#FFFFFF\", \"size\": 7}, \"showarrow\": false, \"text\": \"0.46\", \"x\": 8, \"xref\": \"x\", \"y\": 4, \"yref\": \"y\"}, {\"font\": {\"color\": \"#FFFFFF\", \"size\": 7}, \"showarrow\": false, \"text\": \"0.48\", \"x\": 9, \"xref\": \"x\", \"y\": 4, \"yref\": \"y\"}, {\"font\": {\"color\": \"#000000\", \"size\": 7}, \"showarrow\": false, \"text\": \"0.51\", \"x\": 10, \"xref\": \"x\", \"y\": 4, \"yref\": \"y\"}, {\"font\": {\"color\": \"#000000\", \"size\": 7}, \"showarrow\": false, \"text\": \"0.54\", \"x\": 11, \"xref\": \"x\", \"y\": 4, \"yref\": \"y\"}, {\"font\": {\"color\": \"#000000\", \"size\": 7}, \"showarrow\": false, \"text\": \"0.57\", \"x\": 12, \"xref\": \"x\", \"y\": 4, \"yref\": \"y\"}, {\"font\": {\"color\": \"#000000\", \"size\": 7}, \"showarrow\": false, \"text\": \"0.6\", \"x\": 13, \"xref\": \"x\", \"y\": 4, \"yref\": \"y\"}, {\"font\": {\"color\": \"#000000\", \"size\": 7}, \"showarrow\": false, \"text\": \"0.63\", \"x\": 14, \"xref\": \"x\", \"y\": 4, \"yref\": \"y\"}, {\"font\": {\"color\": \"#000000\", \"size\": 7}, \"showarrow\": false, \"text\": \"0.66\", \"x\": 15, \"xref\": \"x\", \"y\": 4, \"yref\": \"y\"}, {\"font\": {\"color\": \"#FFFFFF\", \"size\": 7}, \"showarrow\": false, \"text\": \"0.21\", \"x\": 0, \"xref\": \"x\", \"y\": 5, \"yref\": \"y\"}, {\"font\": {\"color\": \"#FFFFFF\", \"size\": 7}, \"showarrow\": false, \"text\": \"0.24\", \"x\": 1, \"xref\": \"x\", \"y\": 5, \"yref\": \"y\"}, {\"font\": {\"color\": \"#FFFFFF\", \"size\": 7}, \"showarrow\": false, \"text\": \"0.27\", \"x\": 2, \"xref\": \"x\", \"y\": 5, \"yref\": \"y\"}, {\"font\": {\"color\": \"#FFFFFF\", \"size\": 7}, \"showarrow\": false, \"text\": \"0.33\", \"x\": 3, \"xref\": \"x\", \"y\": 5, \"yref\": \"y\"}, {\"font\": {\"color\": \"#FFFFFF\", \"size\": 7}, \"showarrow\": false, \"text\": \"0.37\", \"x\": 4, \"xref\": \"x\", \"y\": 5, \"yref\": \"y\"}, {\"font\": {\"color\": \"#FFFFFF\", \"size\": 7}, \"showarrow\": false, \"text\": \"0.4\", \"x\": 5, \"xref\": \"x\", \"y\": 5, \"yref\": \"y\"}, {\"font\": {\"color\": \"#FFFFFF\", \"size\": 7}, \"showarrow\": false, \"text\": \"0.43\", \"x\": 6, \"xref\": \"x\", \"y\": 5, \"yref\": \"y\"}, {\"font\": {\"color\": \"#FFFFFF\", \"size\": 7}, \"showarrow\": false, \"text\": \"0.47\", \"x\": 7, \"xref\": \"x\", \"y\": 5, \"yref\": \"y\"}, {\"font\": {\"color\": \"#000000\", \"size\": 7}, \"showarrow\": false, \"text\": \"0.5\", \"x\": 8, \"xref\": \"x\", \"y\": 5, \"yref\": \"y\"}, {\"font\": {\"color\": \"#000000\", \"size\": 7}, \"showarrow\": false, \"text\": \"0.52\", \"x\": 9, \"xref\": \"x\", \"y\": 5, \"yref\": \"y\"}, {\"font\": {\"color\": \"#000000\", \"size\": 7}, \"showarrow\": false, \"text\": \"0.54\", \"x\": 10, \"xref\": \"x\", \"y\": 5, \"yref\": \"y\"}, {\"font\": {\"color\": \"#000000\", \"size\": 7}, \"showarrow\": false, \"text\": \"0.57\", \"x\": 11, \"xref\": \"x\", \"y\": 5, \"yref\": \"y\"}, {\"font\": {\"color\": \"#000000\", \"size\": 7}, \"showarrow\": false, \"text\": \"0.59\", \"x\": 12, \"xref\": \"x\", \"y\": 5, \"yref\": \"y\"}, {\"font\": {\"color\": \"#000000\", \"size\": 7}, \"showarrow\": false, \"text\": \"0.63\", \"x\": 13, \"xref\": \"x\", \"y\": 5, \"yref\": \"y\"}, {\"font\": {\"color\": \"#000000\", \"size\": 7}, \"showarrow\": false, \"text\": \"0.66\", \"x\": 14, \"xref\": \"x\", \"y\": 5, \"yref\": \"y\"}, {\"font\": {\"color\": \"#000000\", \"size\": 7}, \"showarrow\": false, \"text\": \"0.68\", \"x\": 15, \"xref\": \"x\", \"y\": 5, \"yref\": \"y\"}, {\"font\": {\"color\": \"#FFFFFF\", \"size\": 7}, \"showarrow\": false, \"text\": \"0.23\", \"x\": 0, \"xref\": \"x\", \"y\": 6, \"yref\": \"y\"}, {\"font\": {\"color\": \"#FFFFFF\", \"size\": 7}, \"showarrow\": false, \"text\": \"0.26\", \"x\": 1, \"xref\": \"x\", \"y\": 6, \"yref\": \"y\"}, {\"font\": {\"color\": \"#FFFFFF\", \"size\": 7}, \"showarrow\": false, \"text\": \"0.31\", \"x\": 2, \"xref\": \"x\", \"y\": 6, \"yref\": \"y\"}, {\"font\": {\"color\": \"#FFFFFF\", \"size\": 7}, \"showarrow\": false, \"text\": \"0.38\", \"x\": 3, \"xref\": \"x\", \"y\": 6, \"yref\": \"y\"}, {\"font\": {\"color\": \"#FFFFFF\", \"size\": 7}, \"showarrow\": false, \"text\": \"0.41\", \"x\": 4, \"xref\": \"x\", \"y\": 6, \"yref\": \"y\"}, {\"font\": {\"color\": \"#FFFFFF\", \"size\": 7}, \"showarrow\": false, \"text\": \"0.43\", \"x\": 5, \"xref\": \"x\", \"y\": 6, \"yref\": \"y\"}, {\"font\": {\"color\": \"#FFFFFF\", \"size\": 7}, \"showarrow\": false, \"text\": \"0.47\", \"x\": 6, \"xref\": \"x\", \"y\": 6, \"yref\": \"y\"}, {\"font\": {\"color\": \"#000000\", \"size\": 7}, \"showarrow\": false, \"text\": \"0.51\", \"x\": 7, \"xref\": \"x\", \"y\": 6, \"yref\": \"y\"}, {\"font\": {\"color\": \"#000000\", \"size\": 7}, \"showarrow\": false, \"text\": \"0.53\", \"x\": 8, \"xref\": \"x\", \"y\": 6, \"yref\": \"y\"}, {\"font\": {\"color\": \"#000000\", \"size\": 7}, \"showarrow\": false, \"text\": \"0.54\", \"x\": 9, \"xref\": \"x\", \"y\": 6, \"yref\": \"y\"}, {\"font\": {\"color\": \"#000000\", \"size\": 7}, \"showarrow\": false, \"text\": \"0.56\", \"x\": 10, \"xref\": \"x\", \"y\": 6, \"yref\": \"y\"}, {\"font\": {\"color\": \"#000000\", \"size\": 7}, \"showarrow\": false, \"text\": \"0.6\", \"x\": 11, \"xref\": \"x\", \"y\": 6, \"yref\": \"y\"}, {\"font\": {\"color\": \"#000000\", \"size\": 7}, \"showarrow\": false, \"text\": \"0.63\", \"x\": 12, \"xref\": \"x\", \"y\": 6, \"yref\": \"y\"}, {\"font\": {\"color\": \"#000000\", \"size\": 7}, \"showarrow\": false, \"text\": \"0.67\", \"x\": 13, \"xref\": \"x\", \"y\": 6, \"yref\": \"y\"}, {\"font\": {\"color\": \"#000000\", \"size\": 7}, \"showarrow\": false, \"text\": \"0.71\", \"x\": 14, \"xref\": \"x\", \"y\": 6, \"yref\": \"y\"}, {\"font\": {\"color\": \"#000000\", \"size\": 7}, \"showarrow\": false, \"text\": \"0.72\", \"x\": 15, \"xref\": \"x\", \"y\": 6, \"yref\": \"y\"}, {\"font\": {\"color\": \"#FFFFFF\", \"size\": 7}, \"showarrow\": false, \"text\": \"0.24\", \"x\": 0, \"xref\": \"x\", \"y\": 7, \"yref\": \"y\"}, {\"font\": {\"color\": \"#FFFFFF\", \"size\": 7}, \"showarrow\": false, \"text\": \"0.28\", \"x\": 1, \"xref\": \"x\", \"y\": 7, \"yref\": \"y\"}, {\"font\": {\"color\": \"#FFFFFF\", \"size\": 7}, \"showarrow\": false, \"text\": \"0.35\", \"x\": 2, \"xref\": \"x\", \"y\": 7, \"yref\": \"y\"}, {\"font\": {\"color\": \"#FFFFFF\", \"size\": 7}, \"showarrow\": false, \"text\": \"0.4\", \"x\": 3, \"xref\": \"x\", \"y\": 7, \"yref\": \"y\"}, {\"font\": {\"color\": \"#FFFFFF\", \"size\": 7}, \"showarrow\": false, \"text\": \"0.43\", \"x\": 4, \"xref\": \"x\", \"y\": 7, \"yref\": \"y\"}, {\"font\": {\"color\": \"#FFFFFF\", \"size\": 7}, \"showarrow\": false, \"text\": \"0.47\", \"x\": 5, \"xref\": \"x\", \"y\": 7, \"yref\": \"y\"}, {\"font\": {\"color\": \"#000000\", \"size\": 7}, \"showarrow\": false, \"text\": \"0.5\", \"x\": 6, \"xref\": \"x\", \"y\": 7, \"yref\": \"y\"}, {\"font\": {\"color\": \"#000000\", \"size\": 7}, \"showarrow\": false, \"text\": \"0.53\", \"x\": 7, \"xref\": \"x\", \"y\": 7, \"yref\": \"y\"}, {\"font\": {\"color\": \"#000000\", \"size\": 7}, \"showarrow\": false, \"text\": \"0.55\", \"x\": 8, \"xref\": \"x\", \"y\": 7, \"yref\": \"y\"}, {\"font\": {\"color\": \"#000000\", \"size\": 7}, \"showarrow\": false, \"text\": \"0.56\", \"x\": 9, \"xref\": \"x\", \"y\": 7, \"yref\": \"y\"}, {\"font\": {\"color\": \"#000000\", \"size\": 7}, \"showarrow\": false, \"text\": \"0.59\", \"x\": 10, \"xref\": \"x\", \"y\": 7, \"yref\": \"y\"}, {\"font\": {\"color\": \"#000000\", \"size\": 7}, \"showarrow\": false, \"text\": \"0.63\", \"x\": 11, \"xref\": \"x\", \"y\": 7, \"yref\": \"y\"}, {\"font\": {\"color\": \"#000000\", \"size\": 7}, \"showarrow\": false, \"text\": \"0.68\", \"x\": 12, \"xref\": \"x\", \"y\": 7, \"yref\": \"y\"}, {\"font\": {\"color\": \"#000000\", \"size\": 7}, \"showarrow\": false, \"text\": \"0.72\", \"x\": 13, \"xref\": \"x\", \"y\": 7, \"yref\": \"y\"}, {\"font\": {\"color\": \"#000000\", \"size\": 7}, \"showarrow\": false, \"text\": \"0.73\", \"x\": 14, \"xref\": \"x\", \"y\": 7, \"yref\": \"y\"}, {\"font\": {\"color\": \"#000000\", \"size\": 7}, \"showarrow\": false, \"text\": \"0.74\", \"x\": 15, \"xref\": \"x\", \"y\": 7, \"yref\": \"y\"}, {\"font\": {\"color\": \"#FFFFFF\", \"size\": 7}, \"showarrow\": false, \"text\": \"0.26\", \"x\": 0, \"xref\": \"x\", \"y\": 8, \"yref\": \"y\"}, {\"font\": {\"color\": \"#FFFFFF\", \"size\": 7}, \"showarrow\": false, \"text\": \"0.29\", \"x\": 1, \"xref\": \"x\", \"y\": 8, \"yref\": \"y\"}, {\"font\": {\"color\": \"#FFFFFF\", \"size\": 7}, \"showarrow\": false, \"text\": \"0.35\", \"x\": 2, \"xref\": \"x\", \"y\": 8, \"yref\": \"y\"}, {\"font\": {\"color\": \"#FFFFFF\", \"size\": 7}, \"showarrow\": false, \"text\": \"0.41\", \"x\": 3, \"xref\": \"x\", \"y\": 8, \"yref\": \"y\"}, {\"font\": {\"color\": \"#FFFFFF\", \"size\": 7}, \"showarrow\": false, \"text\": \"0.45\", \"x\": 4, \"xref\": \"x\", \"y\": 8, \"yref\": \"y\"}, {\"font\": {\"color\": \"#FFFFFF\", \"size\": 7}, \"showarrow\": false, \"text\": \"0.48\", \"x\": 5, \"xref\": \"x\", \"y\": 8, \"yref\": \"y\"}, {\"font\": {\"color\": \"#000000\", \"size\": 7}, \"showarrow\": false, \"text\": \"0.52\", \"x\": 6, \"xref\": \"x\", \"y\": 8, \"yref\": \"y\"}, {\"font\": {\"color\": \"#000000\", \"size\": 7}, \"showarrow\": false, \"text\": \"0.55\", \"x\": 7, \"xref\": \"x\", \"y\": 8, \"yref\": \"y\"}, {\"font\": {\"color\": \"#000000\", \"size\": 7}, \"showarrow\": false, \"text\": \"0.56\", \"x\": 8, \"xref\": \"x\", \"y\": 8, \"yref\": \"y\"}, {\"font\": {\"color\": \"#000000\", \"size\": 7}, \"showarrow\": false, \"text\": \"0.58\", \"x\": 9, \"xref\": \"x\", \"y\": 8, \"yref\": \"y\"}, {\"font\": {\"color\": \"#000000\", \"size\": 7}, \"showarrow\": false, \"text\": \"0.61\", \"x\": 10, \"xref\": \"x\", \"y\": 8, \"yref\": \"y\"}, {\"font\": {\"color\": \"#000000\", \"size\": 7}, \"showarrow\": false, \"text\": \"0.65\", \"x\": 11, \"xref\": \"x\", \"y\": 8, \"yref\": \"y\"}, {\"font\": {\"color\": \"#000000\", \"size\": 7}, \"showarrow\": false, \"text\": \"0.71\", \"x\": 12, \"xref\": \"x\", \"y\": 8, \"yref\": \"y\"}, {\"font\": {\"color\": \"#000000\", \"size\": 7}, \"showarrow\": false, \"text\": \"0.74\", \"x\": 13, \"xref\": \"x\", \"y\": 8, \"yref\": \"y\"}, {\"font\": {\"color\": \"#000000\", \"size\": 7}, \"showarrow\": false, \"text\": \"0.75\", \"x\": 14, \"xref\": \"x\", \"y\": 8, \"yref\": \"y\"}, {\"font\": {\"color\": \"#000000\", \"size\": 7}, \"showarrow\": false, \"text\": \"0.76\", \"x\": 15, \"xref\": \"x\", \"y\": 8, \"yref\": \"y\"}, {\"font\": {\"color\": \"#FFFFFF\", \"size\": 7}, \"showarrow\": false, \"text\": \"0.26\", \"x\": 0, \"xref\": \"x\", \"y\": 9, \"yref\": \"y\"}, {\"font\": {\"color\": \"#FFFFFF\", \"size\": 7}, \"showarrow\": false, \"text\": \"0.3\", \"x\": 1, \"xref\": \"x\", \"y\": 9, \"yref\": \"y\"}, {\"font\": {\"color\": \"#FFFFFF\", \"size\": 7}, \"showarrow\": false, \"text\": \"0.35\", \"x\": 2, \"xref\": \"x\", \"y\": 9, \"yref\": \"y\"}, {\"font\": {\"color\": \"#FFFFFF\", \"size\": 7}, \"showarrow\": false, \"text\": \"0.41\", \"x\": 3, \"xref\": \"x\", \"y\": 9, \"yref\": \"y\"}, {\"font\": {\"color\": \"#FFFFFF\", \"size\": 7}, \"showarrow\": false, \"text\": \"0.47\", \"x\": 4, \"xref\": \"x\", \"y\": 9, \"yref\": \"y\"}, {\"font\": {\"color\": \"#000000\", \"size\": 7}, \"showarrow\": false, \"text\": \"0.5\", \"x\": 5, \"xref\": \"x\", \"y\": 9, \"yref\": \"y\"}, {\"font\": {\"color\": \"#000000\", \"size\": 7}, \"showarrow\": false, \"text\": \"0.54\", \"x\": 6, \"xref\": \"x\", \"y\": 9, \"yref\": \"y\"}, {\"font\": {\"color\": \"#000000\", \"size\": 7}, \"showarrow\": false, \"text\": \"0.57\", \"x\": 7, \"xref\": \"x\", \"y\": 9, \"yref\": \"y\"}, {\"font\": {\"color\": \"#000000\", \"size\": 7}, \"showarrow\": false, \"text\": \"0.59\", \"x\": 8, \"xref\": \"x\", \"y\": 9, \"yref\": \"y\"}, {\"font\": {\"color\": \"#000000\", \"size\": 7}, \"showarrow\": false, \"text\": \"0.61\", \"x\": 9, \"xref\": \"x\", \"y\": 9, \"yref\": \"y\"}, {\"font\": {\"color\": \"#000000\", \"size\": 7}, \"showarrow\": false, \"text\": \"0.64\", \"x\": 10, \"xref\": \"x\", \"y\": 9, \"yref\": \"y\"}, {\"font\": {\"color\": \"#000000\", \"size\": 7}, \"showarrow\": false, \"text\": \"0.69\", \"x\": 11, \"xref\": \"x\", \"y\": 9, \"yref\": \"y\"}, {\"font\": {\"color\": \"#000000\", \"size\": 7}, \"showarrow\": false, \"text\": \"0.73\", \"x\": 12, \"xref\": \"x\", \"y\": 9, \"yref\": \"y\"}, {\"font\": {\"color\": \"#000000\", \"size\": 7}, \"showarrow\": false, \"text\": \"0.76\", \"x\": 13, \"xref\": \"x\", \"y\": 9, \"yref\": \"y\"}, {\"font\": {\"color\": \"#000000\", \"size\": 7}, \"showarrow\": false, \"text\": \"0.77\", \"x\": 14, \"xref\": \"x\", \"y\": 9, \"yref\": \"y\"}, {\"font\": {\"color\": \"#000000\", \"size\": 7}, \"showarrow\": false, \"text\": \"0.78\", \"x\": 15, \"xref\": \"x\", \"y\": 9, \"yref\": \"y\"}, {\"font\": {\"color\": \"#FFFFFF\", \"size\": 7}, \"showarrow\": false, \"text\": \"0.28\", \"x\": 0, \"xref\": \"x\", \"y\": 10, \"yref\": \"y\"}, {\"font\": {\"color\": \"#FFFFFF\", \"size\": 7}, \"showarrow\": false, \"text\": \"0.32\", \"x\": 1, \"xref\": \"x\", \"y\": 10, \"yref\": \"y\"}, {\"font\": {\"color\": \"#FFFFFF\", \"size\": 7}, \"showarrow\": false, \"text\": \"0.38\", \"x\": 2, \"xref\": \"x\", \"y\": 10, \"yref\": \"y\"}, {\"font\": {\"color\": \"#FFFFFF\", \"size\": 7}, \"showarrow\": false, \"text\": \"0.44\", \"x\": 3, \"xref\": \"x\", \"y\": 10, \"yref\": \"y\"}, {\"font\": {\"color\": \"#FFFFFF\", \"size\": 7}, \"showarrow\": false, \"text\": \"0.49\", \"x\": 4, \"xref\": \"x\", \"y\": 10, \"yref\": \"y\"}, {\"font\": {\"color\": \"#000000\", \"size\": 7}, \"showarrow\": false, \"text\": \"0.53\", \"x\": 5, \"xref\": \"x\", \"y\": 10, \"yref\": \"y\"}, {\"font\": {\"color\": \"#000000\", \"size\": 7}, \"showarrow\": false, \"text\": \"0.57\", \"x\": 6, \"xref\": \"x\", \"y\": 10, \"yref\": \"y\"}, {\"font\": {\"color\": \"#000000\", \"size\": 7}, \"showarrow\": false, \"text\": \"0.6\", \"x\": 7, \"xref\": \"x\", \"y\": 10, \"yref\": \"y\"}, {\"font\": {\"color\": \"#000000\", \"size\": 7}, \"showarrow\": false, \"text\": \"0.62\", \"x\": 8, \"xref\": \"x\", \"y\": 10, \"yref\": \"y\"}, {\"font\": {\"color\": \"#000000\", \"size\": 7}, \"showarrow\": false, \"text\": \"0.65\", \"x\": 9, \"xref\": \"x\", \"y\": 10, \"yref\": \"y\"}, {\"font\": {\"color\": \"#000000\", \"size\": 7}, \"showarrow\": false, \"text\": \"0.67\", \"x\": 10, \"xref\": \"x\", \"y\": 10, \"yref\": \"y\"}, {\"font\": {\"color\": \"#000000\", \"size\": 7}, \"showarrow\": false, \"text\": \"0.71\", \"x\": 11, \"xref\": \"x\", \"y\": 10, \"yref\": \"y\"}, {\"font\": {\"color\": \"#000000\", \"size\": 7}, \"showarrow\": false, \"text\": \"0.76\", \"x\": 12, \"xref\": \"x\", \"y\": 10, \"yref\": \"y\"}, {\"font\": {\"color\": \"#000000\", \"size\": 7}, \"showarrow\": false, \"text\": \"0.78\", \"x\": 13, \"xref\": \"x\", \"y\": 10, \"yref\": \"y\"}, {\"font\": {\"color\": \"#000000\", \"size\": 7}, \"showarrow\": false, \"text\": \"0.8\", \"x\": 14, \"xref\": \"x\", \"y\": 10, \"yref\": \"y\"}, {\"font\": {\"color\": \"#000000\", \"size\": 7}, \"showarrow\": false, \"text\": \"0.8\", \"x\": 15, \"xref\": \"x\", \"y\": 10, \"yref\": \"y\"}, {\"font\": {\"color\": \"#FFFFFF\", \"size\": 7}, \"showarrow\": false, \"text\": \"0.31\", \"x\": 0, \"xref\": \"x\", \"y\": 11, \"yref\": \"y\"}, {\"font\": {\"color\": \"#FFFFFF\", \"size\": 7}, \"showarrow\": false, \"text\": \"0.35\", \"x\": 1, \"xref\": \"x\", \"y\": 11, \"yref\": \"y\"}, {\"font\": {\"color\": \"#FFFFFF\", \"size\": 7}, \"showarrow\": false, \"text\": \"0.43\", \"x\": 2, \"xref\": \"x\", \"y\": 11, \"yref\": \"y\"}, {\"font\": {\"color\": \"#FFFFFF\", \"size\": 7}, \"showarrow\": false, \"text\": \"0.47\", \"x\": 3, \"xref\": \"x\", \"y\": 11, \"yref\": \"y\"}, {\"font\": {\"color\": \"#000000\", \"size\": 7}, \"showarrow\": false, \"text\": \"0.52\", \"x\": 4, \"xref\": \"x\", \"y\": 11, \"yref\": \"y\"}, {\"font\": {\"color\": \"#000000\", \"size\": 7}, \"showarrow\": false, \"text\": \"0.57\", \"x\": 5, \"xref\": \"x\", \"y\": 11, \"yref\": \"y\"}, {\"font\": {\"color\": \"#000000\", \"size\": 7}, \"showarrow\": false, \"text\": \"0.61\", \"x\": 6, \"xref\": \"x\", \"y\": 11, \"yref\": \"y\"}, {\"font\": {\"color\": \"#000000\", \"size\": 7}, \"showarrow\": false, \"text\": \"0.64\", \"x\": 7, \"xref\": \"x\", \"y\": 11, \"yref\": \"y\"}, {\"font\": {\"color\": \"#000000\", \"size\": 7}, \"showarrow\": false, \"text\": \"0.66\", \"x\": 8, \"xref\": \"x\", \"y\": 11, \"yref\": \"y\"}, {\"font\": {\"color\": \"#000000\", \"size\": 7}, \"showarrow\": false, \"text\": \"0.68\", \"x\": 9, \"xref\": \"x\", \"y\": 11, \"yref\": \"y\"}, {\"font\": {\"color\": \"#000000\", \"size\": 7}, \"showarrow\": false, \"text\": \"0.7\", \"x\": 10, \"xref\": \"x\", \"y\": 11, \"yref\": \"y\"}, {\"font\": {\"color\": \"#000000\", \"size\": 7}, \"showarrow\": false, \"text\": \"0.74\", \"x\": 11, \"xref\": \"x\", \"y\": 11, \"yref\": \"y\"}, {\"font\": {\"color\": \"#000000\", \"size\": 7}, \"showarrow\": false, \"text\": \"0.78\", \"x\": 12, \"xref\": \"x\", \"y\": 11, \"yref\": \"y\"}, {\"font\": {\"color\": \"#000000\", \"size\": 7}, \"showarrow\": false, \"text\": \"0.82\", \"x\": 13, \"xref\": \"x\", \"y\": 11, \"yref\": \"y\"}, {\"font\": {\"color\": \"#000000\", \"size\": 7}, \"showarrow\": false, \"text\": \"0.83\", \"x\": 14, \"xref\": \"x\", \"y\": 11, \"yref\": \"y\"}, {\"font\": {\"color\": \"#000000\", \"size\": 7}, \"showarrow\": false, \"text\": \"0.83\", \"x\": 15, \"xref\": \"x\", \"y\": 11, \"yref\": \"y\"}, {\"font\": {\"color\": \"#FFFFFF\", \"size\": 7}, \"showarrow\": false, \"text\": \"0.38\", \"x\": 0, \"xref\": \"x\", \"y\": 12, \"yref\": \"y\"}, {\"font\": {\"color\": \"#FFFFFF\", \"size\": 7}, \"showarrow\": false, \"text\": \"0.43\", \"x\": 1, \"xref\": \"x\", \"y\": 12, \"yref\": \"y\"}, {\"font\": {\"color\": \"#000000\", \"size\": 7}, \"showarrow\": false, \"text\": \"0.51\", \"x\": 2, \"xref\": \"x\", \"y\": 12, \"yref\": \"y\"}, {\"font\": {\"color\": \"#000000\", \"size\": 7}, \"showarrow\": false, \"text\": \"0.53\", \"x\": 3, \"xref\": \"x\", \"y\": 12, \"yref\": \"y\"}, {\"font\": {\"color\": \"#000000\", \"size\": 7}, \"showarrow\": false, \"text\": \"0.59\", \"x\": 4, \"xref\": \"x\", \"y\": 12, \"yref\": \"y\"}, {\"font\": {\"color\": \"#000000\", \"size\": 7}, \"showarrow\": false, \"text\": \"0.61\", \"x\": 5, \"xref\": \"x\", \"y\": 12, \"yref\": \"y\"}, {\"font\": {\"color\": \"#000000\", \"size\": 7}, \"showarrow\": false, \"text\": \"0.65\", \"x\": 6, \"xref\": \"x\", \"y\": 12, \"yref\": \"y\"}, {\"font\": {\"color\": \"#000000\", \"size\": 7}, \"showarrow\": false, \"text\": \"0.66\", \"x\": 7, \"xref\": \"x\", \"y\": 12, \"yref\": \"y\"}, {\"font\": {\"color\": \"#000000\", \"size\": 7}, \"showarrow\": false, \"text\": \"0.68\", \"x\": 8, \"xref\": \"x\", \"y\": 12, \"yref\": \"y\"}, {\"font\": {\"color\": \"#000000\", \"size\": 7}, \"showarrow\": false, \"text\": \"0.7\", \"x\": 9, \"xref\": \"x\", \"y\": 12, \"yref\": \"y\"}, {\"font\": {\"color\": \"#000000\", \"size\": 7}, \"showarrow\": false, \"text\": \"0.72\", \"x\": 10, \"xref\": \"x\", \"y\": 12, \"yref\": \"y\"}, {\"font\": {\"color\": \"#000000\", \"size\": 7}, \"showarrow\": false, \"text\": \"0.76\", \"x\": 11, \"xref\": \"x\", \"y\": 12, \"yref\": \"y\"}, {\"font\": {\"color\": \"#000000\", \"size\": 7}, \"showarrow\": false, \"text\": \"0.8\", \"x\": 12, \"xref\": \"x\", \"y\": 12, \"yref\": \"y\"}, {\"font\": {\"color\": \"#000000\", \"size\": 7}, \"showarrow\": false, \"text\": \"0.85\", \"x\": 13, \"xref\": \"x\", \"y\": 12, \"yref\": \"y\"}, {\"font\": {\"color\": \"#000000\", \"size\": 7}, \"showarrow\": false, \"text\": \"0.87\", \"x\": 14, \"xref\": \"x\", \"y\": 12, \"yref\": \"y\"}, {\"font\": {\"color\": \"#000000\", \"size\": 7}, \"showarrow\": false, \"text\": \"0.88\", \"x\": 15, \"xref\": \"x\", \"y\": 12, \"yref\": \"y\"}, {\"font\": {\"color\": \"#FFFFFF\", \"size\": 7}, \"showarrow\": false, \"text\": \"0.46\", \"x\": 0, \"xref\": \"x\", \"y\": 13, \"yref\": \"y\"}, {\"font\": {\"color\": \"#000000\", \"size\": 7}, \"showarrow\": false, \"text\": \"0.5\", \"x\": 1, \"xref\": \"x\", \"y\": 13, \"yref\": \"y\"}, {\"font\": {\"color\": \"#000000\", \"size\": 7}, \"showarrow\": false, \"text\": \"0.55\", \"x\": 2, \"xref\": \"x\", \"y\": 13, \"yref\": \"y\"}, {\"font\": {\"color\": \"#000000\", \"size\": 7}, \"showarrow\": false, \"text\": \"0.59\", \"x\": 3, \"xref\": \"x\", \"y\": 13, \"yref\": \"y\"}, {\"font\": {\"color\": \"#000000\", \"size\": 7}, \"showarrow\": false, \"text\": \"0.63\", \"x\": 4, \"xref\": \"x\", \"y\": 13, \"yref\": \"y\"}, {\"font\": {\"color\": \"#000000\", \"size\": 7}, \"showarrow\": false, \"text\": \"0.65\", \"x\": 5, \"xref\": \"x\", \"y\": 13, \"yref\": \"y\"}, {\"font\": {\"color\": \"#000000\", \"size\": 7}, \"showarrow\": false, \"text\": \"0.68\", \"x\": 6, \"xref\": \"x\", \"y\": 13, \"yref\": \"y\"}, {\"font\": {\"color\": \"#000000\", \"size\": 7}, \"showarrow\": false, \"text\": \"0.69\", \"x\": 7, \"xref\": \"x\", \"y\": 13, \"yref\": \"y\"}, {\"font\": {\"color\": \"#000000\", \"size\": 7}, \"showarrow\": false, \"text\": \"0.7\", \"x\": 8, \"xref\": \"x\", \"y\": 13, \"yref\": \"y\"}, {\"font\": {\"color\": \"#000000\", \"size\": 7}, \"showarrow\": false, \"text\": \"0.72\", \"x\": 9, \"xref\": \"x\", \"y\": 13, \"yref\": \"y\"}, {\"font\": {\"color\": \"#000000\", \"size\": 7}, \"showarrow\": false, \"text\": \"0.74\", \"x\": 10, \"xref\": \"x\", \"y\": 13, \"yref\": \"y\"}, {\"font\": {\"color\": \"#000000\", \"size\": 7}, \"showarrow\": false, \"text\": \"0.78\", \"x\": 11, \"xref\": \"x\", \"y\": 13, \"yref\": \"y\"}, {\"font\": {\"color\": \"#000000\", \"size\": 7}, \"showarrow\": false, \"text\": \"0.82\", \"x\": 12, \"xref\": \"x\", \"y\": 13, \"yref\": \"y\"}, {\"font\": {\"color\": \"#000000\", \"size\": 7}, \"showarrow\": false, \"text\": \"0.87\", \"x\": 13, \"xref\": \"x\", \"y\": 13, \"yref\": \"y\"}, {\"font\": {\"color\": \"#000000\", \"size\": 7}, \"showarrow\": false, \"text\": \"0.89\", \"x\": 14, \"xref\": \"x\", \"y\": 13, \"yref\": \"y\"}, {\"font\": {\"color\": \"#000000\", \"size\": 7}, \"showarrow\": false, \"text\": \"0.9\", \"x\": 15, \"xref\": \"x\", \"y\": 13, \"yref\": \"y\"}, {\"font\": {\"color\": \"#000000\", \"size\": 7}, \"showarrow\": false, \"text\": \"0.51\", \"x\": 0, \"xref\": \"x\", \"y\": 14, \"yref\": \"y\"}, {\"font\": {\"color\": \"#000000\", \"size\": 7}, \"showarrow\": false, \"text\": \"0.54\", \"x\": 1, \"xref\": \"x\", \"y\": 14, \"yref\": \"y\"}, {\"font\": {\"color\": \"#000000\", \"size\": 7}, \"showarrow\": false, \"text\": \"0.58\", \"x\": 2, \"xref\": \"x\", \"y\": 14, \"yref\": \"y\"}, {\"font\": {\"color\": \"#000000\", \"size\": 7}, \"showarrow\": false, \"text\": \"0.61\", \"x\": 3, \"xref\": \"x\", \"y\": 14, \"yref\": \"y\"}, {\"font\": {\"color\": \"#000000\", \"size\": 7}, \"showarrow\": false, \"text\": \"0.65\", \"x\": 4, \"xref\": \"x\", \"y\": 14, \"yref\": \"y\"}, {\"font\": {\"color\": \"#000000\", \"size\": 7}, \"showarrow\": false, \"text\": \"0.68\", \"x\": 5, \"xref\": \"x\", \"y\": 14, \"yref\": \"y\"}, {\"font\": {\"color\": \"#000000\", \"size\": 7}, \"showarrow\": false, \"text\": \"0.7\", \"x\": 6, \"xref\": \"x\", \"y\": 14, \"yref\": \"y\"}, {\"font\": {\"color\": \"#000000\", \"size\": 7}, \"showarrow\": false, \"text\": \"0.72\", \"x\": 7, \"xref\": \"x\", \"y\": 14, \"yref\": \"y\"}, {\"font\": {\"color\": \"#000000\", \"size\": 7}, \"showarrow\": false, \"text\": \"0.72\", \"x\": 8, \"xref\": \"x\", \"y\": 14, \"yref\": \"y\"}, {\"font\": {\"color\": \"#000000\", \"size\": 7}, \"showarrow\": false, \"text\": \"0.74\", \"x\": 9, \"xref\": \"x\", \"y\": 14, \"yref\": \"y\"}, {\"font\": {\"color\": \"#000000\", \"size\": 7}, \"showarrow\": false, \"text\": \"0.76\", \"x\": 10, \"xref\": \"x\", \"y\": 14, \"yref\": \"y\"}, {\"font\": {\"color\": \"#000000\", \"size\": 7}, \"showarrow\": false, \"text\": \"0.79\", \"x\": 11, \"xref\": \"x\", \"y\": 14, \"yref\": \"y\"}, {\"font\": {\"color\": \"#000000\", \"size\": 7}, \"showarrow\": false, \"text\": \"0.85\", \"x\": 12, \"xref\": \"x\", \"y\": 14, \"yref\": \"y\"}, {\"font\": {\"color\": \"#000000\", \"size\": 7}, \"showarrow\": false, \"text\": \"0.89\", \"x\": 13, \"xref\": \"x\", \"y\": 14, \"yref\": \"y\"}, {\"font\": {\"color\": \"#000000\", \"size\": 7}, \"showarrow\": false, \"text\": \"0.9\", \"x\": 14, \"xref\": \"x\", \"y\": 14, \"yref\": \"y\"}, {\"font\": {\"color\": \"#000000\", \"size\": 7}, \"showarrow\": false, \"text\": \"0.91\", \"x\": 15, \"xref\": \"x\", \"y\": 14, \"yref\": \"y\"}, {\"font\": {\"color\": \"#000000\", \"size\": 7}, \"showarrow\": false, \"text\": \"0.54\", \"x\": 0, \"xref\": \"x\", \"y\": 15, \"yref\": \"y\"}, {\"font\": {\"color\": \"#000000\", \"size\": 7}, \"showarrow\": false, \"text\": \"0.56\", \"x\": 1, \"xref\": \"x\", \"y\": 15, \"yref\": \"y\"}, {\"font\": {\"color\": \"#000000\", \"size\": 7}, \"showarrow\": false, \"text\": \"0.6\", \"x\": 2, \"xref\": \"x\", \"y\": 15, \"yref\": \"y\"}, {\"font\": {\"color\": \"#000000\", \"size\": 7}, \"showarrow\": false, \"text\": \"0.63\", \"x\": 3, \"xref\": \"x\", \"y\": 15, \"yref\": \"y\"}, {\"font\": {\"color\": \"#000000\", \"size\": 7}, \"showarrow\": false, \"text\": \"0.66\", \"x\": 4, \"xref\": \"x\", \"y\": 15, \"yref\": \"y\"}, {\"font\": {\"color\": \"#000000\", \"size\": 7}, \"showarrow\": false, \"text\": \"0.69\", \"x\": 5, \"xref\": \"x\", \"y\": 15, \"yref\": \"y\"}, {\"font\": {\"color\": \"#000000\", \"size\": 7}, \"showarrow\": false, \"text\": \"0.71\", \"x\": 6, \"xref\": \"x\", \"y\": 15, \"yref\": \"y\"}, {\"font\": {\"color\": \"#000000\", \"size\": 7}, \"showarrow\": false, \"text\": \"0.72\", \"x\": 7, \"xref\": \"x\", \"y\": 15, \"yref\": \"y\"}, {\"font\": {\"color\": \"#000000\", \"size\": 7}, \"showarrow\": false, \"text\": \"0.74\", \"x\": 8, \"xref\": \"x\", \"y\": 15, \"yref\": \"y\"}, {\"font\": {\"color\": \"#000000\", \"size\": 7}, \"showarrow\": false, \"text\": \"0.76\", \"x\": 9, \"xref\": \"x\", \"y\": 15, \"yref\": \"y\"}, {\"font\": {\"color\": \"#000000\", \"size\": 7}, \"showarrow\": false, \"text\": \"0.78\", \"x\": 10, \"xref\": \"x\", \"y\": 15, \"yref\": \"y\"}, {\"font\": {\"color\": \"#000000\", \"size\": 7}, \"showarrow\": false, \"text\": \"0.82\", \"x\": 11, \"xref\": \"x\", \"y\": 15, \"yref\": \"y\"}, {\"font\": {\"color\": \"#000000\", \"size\": 7}, \"showarrow\": false, \"text\": \"0.86\", \"x\": 12, \"xref\": \"x\", \"y\": 15, \"yref\": \"y\"}, {\"font\": {\"color\": \"#000000\", \"size\": 7}, \"showarrow\": false, \"text\": \"0.9\", \"x\": 13, \"xref\": \"x\", \"y\": 15, \"yref\": \"y\"}, {\"font\": {\"color\": \"#000000\", \"size\": 7}, \"showarrow\": false, \"text\": \"0.91\", \"x\": 14, \"xref\": \"x\", \"y\": 15, \"yref\": \"y\"}, {\"font\": {\"color\": \"#000000\", \"size\": 7}, \"showarrow\": false, \"text\": \"0.92\", \"x\": 15, \"xref\": \"x\", \"y\": 15, \"yref\": \"y\"}], \"template\": {\"data\": {\"bar\": [{\"error_x\": {\"color\": \"#2a3f5f\"}, \"error_y\": {\"color\": \"#2a3f5f\"}, \"marker\": {\"line\": {\"color\": \"#E5ECF6\", \"width\": 0.5}}, \"type\": \"bar\"}], \"barpolar\": [{\"marker\": {\"line\": {\"color\": \"#E5ECF6\", \"width\": 0.5}}, \"type\": \"barpolar\"}], \"carpet\": [{\"aaxis\": {\"endlinecolor\": \"#2a3f5f\", \"gridcolor\": \"white\", \"linecolor\": \"white\", \"minorgridcolor\": \"white\", \"startlinecolor\": \"#2a3f5f\"}, \"baxis\": {\"endlinecolor\": \"#2a3f5f\", \"gridcolor\": \"white\", \"linecolor\": \"white\", \"minorgridcolor\": \"white\", \"startlinecolor\": \"#2a3f5f\"}, \"type\": \"carpet\"}], \"choropleth\": [{\"colorbar\": {\"outlinewidth\": 0, \"ticks\": \"\"}, \"type\": \"choropleth\"}], \"contour\": [{\"colorbar\": {\"outlinewidth\": 0, \"ticks\": \"\"}, \"colorscale\": [[0.0, \"#0d0887\"], [0.1111111111111111, \"#46039f\"], [0.2222222222222222, \"#7201a8\"], [0.3333333333333333, \"#9c179e\"], [0.4444444444444444, \"#bd3786\"], [0.5555555555555556, \"#d8576b\"], [0.6666666666666666, \"#ed7953\"], [0.7777777777777778, \"#fb9f3a\"], [0.8888888888888888, \"#fdca26\"], [1.0, \"#f0f921\"]], \"type\": \"contour\"}], \"contourcarpet\": [{\"colorbar\": {\"outlinewidth\": 0, \"ticks\": \"\"}, \"type\": \"contourcarpet\"}], \"heatmap\": [{\"colorbar\": {\"outlinewidth\": 0, \"ticks\": \"\"}, \"colorscale\": [[0.0, \"#0d0887\"], [0.1111111111111111, \"#46039f\"], [0.2222222222222222, \"#7201a8\"], [0.3333333333333333, \"#9c179e\"], [0.4444444444444444, \"#bd3786\"], [0.5555555555555556, \"#d8576b\"], [0.6666666666666666, \"#ed7953\"], [0.7777777777777778, \"#fb9f3a\"], [0.8888888888888888, \"#fdca26\"], [1.0, \"#f0f921\"]], \"type\": \"heatmap\"}], \"heatmapgl\": [{\"colorbar\": {\"outlinewidth\": 0, \"ticks\": \"\"}, \"colorscale\": [[0.0, \"#0d0887\"], [0.1111111111111111, \"#46039f\"], [0.2222222222222222, \"#7201a8\"], [0.3333333333333333, \"#9c179e\"], [0.4444444444444444, \"#bd3786\"], [0.5555555555555556, \"#d8576b\"], [0.6666666666666666, \"#ed7953\"], [0.7777777777777778, \"#fb9f3a\"], [0.8888888888888888, \"#fdca26\"], [1.0, \"#f0f921\"]], \"type\": \"heatmapgl\"}], \"histogram\": [{\"marker\": {\"colorbar\": {\"outlinewidth\": 0, \"ticks\": \"\"}}, \"type\": \"histogram\"}], \"histogram2d\": [{\"colorbar\": {\"outlinewidth\": 0, \"ticks\": \"\"}, \"colorscale\": [[0.0, \"#0d0887\"], [0.1111111111111111, \"#46039f\"], [0.2222222222222222, \"#7201a8\"], [0.3333333333333333, \"#9c179e\"], [0.4444444444444444, \"#bd3786\"], [0.5555555555555556, \"#d8576b\"], [0.6666666666666666, \"#ed7953\"], [0.7777777777777778, \"#fb9f3a\"], [0.8888888888888888, \"#fdca26\"], [1.0, \"#f0f921\"]], \"type\": \"histogram2d\"}], \"histogram2dcontour\": [{\"colorbar\": {\"outlinewidth\": 0, \"ticks\": \"\"}, \"colorscale\": [[0.0, \"#0d0887\"], [0.1111111111111111, \"#46039f\"], [0.2222222222222222, \"#7201a8\"], [0.3333333333333333, \"#9c179e\"], [0.4444444444444444, \"#bd3786\"], [0.5555555555555556, \"#d8576b\"], [0.6666666666666666, \"#ed7953\"], [0.7777777777777778, \"#fb9f3a\"], [0.8888888888888888, \"#fdca26\"], [1.0, \"#f0f921\"]], \"type\": \"histogram2dcontour\"}], \"mesh3d\": [{\"colorbar\": {\"outlinewidth\": 0, \"ticks\": \"\"}, \"type\": \"mesh3d\"}], \"parcoords\": [{\"line\": {\"colorbar\": {\"outlinewidth\": 0, \"ticks\": \"\"}}, \"type\": \"parcoords\"}], \"pie\": [{\"automargin\": true, \"type\": \"pie\"}], \"scatter\": [{\"marker\": {\"colorbar\": {\"outlinewidth\": 0, \"ticks\": \"\"}}, \"type\": \"scatter\"}], \"scatter3d\": [{\"line\": {\"colorbar\": {\"outlinewidth\": 0, \"ticks\": \"\"}}, \"marker\": {\"colorbar\": {\"outlinewidth\": 0, \"ticks\": \"\"}}, \"type\": \"scatter3d\"}], \"scattercarpet\": [{\"marker\": {\"colorbar\": {\"outlinewidth\": 0, \"ticks\": \"\"}}, \"type\": \"scattercarpet\"}], \"scattergeo\": [{\"marker\": {\"colorbar\": {\"outlinewidth\": 0, \"ticks\": \"\"}}, \"type\": \"scattergeo\"}], \"scattergl\": [{\"marker\": {\"colorbar\": {\"outlinewidth\": 0, \"ticks\": \"\"}}, \"type\": \"scattergl\"}], \"scattermapbox\": [{\"marker\": {\"colorbar\": {\"outlinewidth\": 0, \"ticks\": \"\"}}, \"type\": \"scattermapbox\"}], \"scatterpolar\": [{\"marker\": {\"colorbar\": {\"outlinewidth\": 0, \"ticks\": \"\"}}, \"type\": \"scatterpolar\"}], \"scatterpolargl\": [{\"marker\": {\"colorbar\": {\"outlinewidth\": 0, \"ticks\": \"\"}}, \"type\": \"scatterpolargl\"}], \"scatterternary\": [{\"marker\": {\"colorbar\": {\"outlinewidth\": 0, \"ticks\": \"\"}}, \"type\": \"scatterternary\"}], \"surface\": [{\"colorbar\": {\"outlinewidth\": 0, \"ticks\": \"\"}, \"colorscale\": [[0.0, \"#0d0887\"], [0.1111111111111111, \"#46039f\"], [0.2222222222222222, \"#7201a8\"], [0.3333333333333333, \"#9c179e\"], [0.4444444444444444, \"#bd3786\"], [0.5555555555555556, \"#d8576b\"], [0.6666666666666666, \"#ed7953\"], [0.7777777777777778, \"#fb9f3a\"], [0.8888888888888888, \"#fdca26\"], [1.0, \"#f0f921\"]], \"type\": \"surface\"}], \"table\": [{\"cells\": {\"fill\": {\"color\": \"#EBF0F8\"}, \"line\": {\"color\": \"white\"}}, \"header\": {\"fill\": {\"color\": \"#C8D4E3\"}, \"line\": {\"color\": \"white\"}}, \"type\": \"table\"}]}, \"layout\": {\"annotationdefaults\": {\"arrowcolor\": \"#2a3f5f\", \"arrowhead\": 0, \"arrowwidth\": 1}, \"coloraxis\": {\"colorbar\": {\"outlinewidth\": 0, \"ticks\": \"\"}}, \"colorscale\": {\"diverging\": [[0, \"#8e0152\"], [0.1, \"#c51b7d\"], [0.2, \"#de77ae\"], [0.3, \"#f1b6da\"], [0.4, \"#fde0ef\"], [0.5, \"#f7f7f7\"], [0.6, \"#e6f5d0\"], [0.7, \"#b8e186\"], [0.8, \"#7fbc41\"], [0.9, \"#4d9221\"], [1, \"#276419\"]], \"sequential\": [[0.0, \"#0d0887\"], [0.1111111111111111, \"#46039f\"], [0.2222222222222222, \"#7201a8\"], [0.3333333333333333, \"#9c179e\"], [0.4444444444444444, \"#bd3786\"], [0.5555555555555556, \"#d8576b\"], [0.6666666666666666, \"#ed7953\"], [0.7777777777777778, \"#fb9f3a\"], [0.8888888888888888, \"#fdca26\"], [1.0, \"#f0f921\"]], \"sequentialminus\": [[0.0, \"#0d0887\"], [0.1111111111111111, \"#46039f\"], [0.2222222222222222, \"#7201a8\"], [0.3333333333333333, \"#9c179e\"], [0.4444444444444444, \"#bd3786\"], [0.5555555555555556, \"#d8576b\"], [0.6666666666666666, \"#ed7953\"], [0.7777777777777778, \"#fb9f3a\"], [0.8888888888888888, \"#fdca26\"], [1.0, \"#f0f921\"]]}, \"colorway\": [\"#636efa\", \"#EF553B\", \"#00cc96\", \"#ab63fa\", \"#FFA15A\", \"#19d3f3\", \"#FF6692\", \"#B6E880\", \"#FF97FF\", \"#FECB52\"], \"font\": {\"color\": \"#2a3f5f\"}, \"geo\": {\"bgcolor\": \"white\", \"lakecolor\": \"white\", \"landcolor\": \"#E5ECF6\", \"showlakes\": true, \"showland\": true, \"subunitcolor\": \"white\"}, \"hoverlabel\": {\"align\": \"left\"}, \"hovermode\": \"closest\", \"mapbox\": {\"style\": \"light\"}, \"paper_bgcolor\": \"white\", \"plot_bgcolor\": \"#E5ECF6\", \"polar\": {\"angularaxis\": {\"gridcolor\": \"white\", \"linecolor\": \"white\", \"ticks\": \"\"}, \"bgcolor\": \"#E5ECF6\", \"radialaxis\": {\"gridcolor\": \"white\", \"linecolor\": \"white\", \"ticks\": \"\"}}, \"scene\": {\"xaxis\": {\"backgroundcolor\": \"#E5ECF6\", \"gridcolor\": \"white\", \"gridwidth\": 2, \"linecolor\": \"white\", \"showbackground\": true, \"ticks\": \"\", \"zerolinecolor\": \"white\"}, \"yaxis\": {\"backgroundcolor\": \"#E5ECF6\", \"gridcolor\": \"white\", \"gridwidth\": 2, \"linecolor\": \"white\", \"showbackground\": true, \"ticks\": \"\", \"zerolinecolor\": \"white\"}, \"zaxis\": {\"backgroundcolor\": \"#E5ECF6\", \"gridcolor\": \"white\", \"gridwidth\": 2, \"linecolor\": \"white\", \"showbackground\": true, \"ticks\": \"\", \"zerolinecolor\": \"white\"}}, \"shapedefaults\": {\"line\": {\"color\": \"#2a3f5f\"}}, \"ternary\": {\"aaxis\": {\"gridcolor\": \"white\", \"linecolor\": \"white\", \"ticks\": \"\"}, \"baxis\": {\"gridcolor\": \"white\", \"linecolor\": \"white\", \"ticks\": \"\"}, \"bgcolor\": \"#E5ECF6\", \"caxis\": {\"gridcolor\": \"white\", \"linecolor\": \"white\", \"ticks\": \"\"}}, \"title\": {\"x\": 0.05}, \"xaxis\": {\"automargin\": true, \"gridcolor\": \"white\", \"linecolor\": \"white\", \"ticks\": \"\", \"title\": {\"standoff\": 15}, \"zerolinecolor\": \"white\", \"zerolinewidth\": 2}, \"yaxis\": {\"automargin\": true, \"gridcolor\": \"white\", \"linecolor\": \"white\", \"ticks\": \"\", \"title\": {\"standoff\": 15}, \"zerolinecolor\": \"white\", \"zerolinewidth\": 2}}}, \"title\": {\"text\": \"RED\"}, \"xaxis\": {\"gridcolor\": \"rgb(0, 0, 0)\", \"showticklabels\": false, \"side\": \"top\", \"ticks\": \"\"}, \"yaxis\": {\"showticklabels\": false, \"ticks\": \"\", \"ticksuffix\": \"  \"}},\n                        {\"responsive\": true}\n                    ).then(function(){\n                            \nvar gd = document.getElementById('e03ce5d3-b275-4662-97f4-3ff74351cc9b');\nvar x = new MutationObserver(function (mutations, observer) {{\n        var display = window.getComputedStyle(gd).display;\n        if (!display || display === 'none') {{\n            console.log([gd, 'removed!']);\n            Plotly.purge(gd);\n            observer.disconnect();\n        }}\n}});\n\n// Listen for the removal of the full notebook cells\nvar notebookContainer = gd.closest('#notebook-container');\nif (notebookContainer) {{\n    x.observe(notebookContainer, {childList: true});\n}}\n\n// Listen for the clearing of the current output cell\nvar outputEl = gd.closest('.output');\nif (outputEl) {{\n    x.observe(outputEl, {childList: true});\n}}\n\n                        })\n                };\n                });\n            </script>\n        </div>"
     },
     "metadata": {},
     "output_type": "display_data"
    },
    {
     "data": {
      "text/html": "        <script type=\"text/javascript\">\n        window.PlotlyConfig = {MathJaxConfig: 'local'};\n        if (window.MathJax) {MathJax.Hub.Config({SVG: {font: \"STIX-Web\"}});}\n        if (typeof require !== 'undefined') {\n        require.undef(\"plotly\");\n        requirejs.config({\n            paths: {\n                'plotly': ['https://cdn.plot.ly/plotly-latest.min']\n            }\n        });\n        require(['plotly'], function(Plotly) {\n            window._Plotly = Plotly;\n        });\n        }\n        </script>\n        "
     },
     "metadata": {},
     "output_type": "display_data"
    },
    {
     "data": {
      "application/vnd.plotly.v1+json": {
       "config": {
        "linkText": "Export to plot.ly",
        "plotlyServerURL": "https://plot.ly",
        "showLink": false
       },
       "data": [
        {
         "colorscale": [
          [
           0.0,
           "#0d0887"
          ],
          [
           0.1111111111111111,
           "#46039f"
          ],
          [
           0.2222222222222222,
           "#7201a8"
          ],
          [
           0.3333333333333333,
           "#9c179e"
          ],
          [
           0.4444444444444444,
           "#bd3786"
          ],
          [
           0.5555555555555556,
           "#d8576b"
          ],
          [
           0.6666666666666666,
           "#ed7953"
          ],
          [
           0.7777777777777778,
           "#fb9f3a"
          ],
          [
           0.8888888888888888,
           "#fdca26"
          ],
          [
           1.0,
           "#f0f921"
          ]
         ],
         "reversescale": false,
         "showscale": true,
         "type": "heatmap",
         "z": [
          [
           0.7,
           0.68,
           0.65,
           0.61,
           0.57,
           0.53,
           0.49,
           0.44,
           0.38,
           0.31,
           0.26,
           0.2,
           0.11,
           0.08,
           0.06,
           0.05
          ],
          [
           0.71,
           0.68,
           0.65,
           0.62,
           0.58,
           0.54,
           0.49,
           0.44,
           0.38,
           0.33,
           0.28,
           0.24,
           0.16,
           0.11,
           0.08,
           0.07
          ],
          [
           0.73,
           0.7,
           0.67,
           0.63,
           0.6,
           0.57,
           0.51,
           0.43,
           0.38,
           0.33,
           0.3,
           0.28,
           0.23,
           0.17,
           0.12,
           0.11
          ],
          [
           0.74,
           0.73,
           0.7,
           0.66,
           0.62,
           0.59,
           0.53,
           0.45,
           0.39,
           0.35,
           0.32,
           0.3,
           0.26,
           0.23,
           0.18,
           0.15
          ],
          [
           0.75,
           0.74,
           0.72,
           0.67,
           0.64,
           0.62,
           0.58,
           0.5,
           0.45,
           0.38,
           0.34,
           0.32,
           0.28,
           0.25,
           0.21,
           0.19
          ],
          [
           0.75,
           0.74,
           0.72,
           0.68,
           0.65,
           0.63,
           0.6,
           0.56,
           0.5,
           0.45,
           0.37,
           0.34,
           0.3,
           0.25,
           0.23,
           0.21
          ],
          [
           0.78,
           0.76,
           0.72,
           0.69,
           0.66,
           0.64,
           0.61,
           0.59,
           0.55,
           0.51,
           0.44,
           0.35,
           0.31,
           0.28,
           0.25,
           0.25
          ],
          [
           0.82,
           0.8,
           0.75,
           0.7,
           0.68,
           0.65,
           0.62,
           0.6,
           0.57,
           0.54,
           0.49,
           0.4,
           0.33,
           0.28,
           0.27,
           0.26
          ],
          [
           0.85,
           0.82,
           0.78,
           0.73,
           0.69,
           0.67,
           0.63,
           0.6,
           0.58,
           0.56,
           0.51,
           0.43,
           0.35,
           0.3,
           0.28,
           0.27
          ],
          [
           0.87,
           0.85,
           0.81,
           0.76,
           0.71,
           0.67,
           0.64,
           0.61,
           0.59,
           0.57,
           0.52,
           0.45,
           0.37,
           0.31,
           0.28,
           0.27
          ],
          [
           0.88,
           0.86,
           0.82,
           0.78,
           0.74,
           0.7,
           0.65,
           0.62,
           0.6,
           0.57,
           0.54,
           0.47,
           0.38,
           0.31,
           0.26,
           0.25
          ],
          [
           0.89,
           0.87,
           0.82,
           0.79,
           0.75,
           0.7,
           0.65,
           0.62,
           0.6,
           0.57,
           0.55,
           0.48,
           0.4,
           0.3,
           0.26,
           0.24
          ],
          [
           0.88,
           0.85,
           0.81,
           0.79,
           0.74,
           0.7,
           0.66,
           0.63,
           0.6,
           0.58,
           0.55,
           0.47,
           0.39,
           0.28,
           0.23,
           0.2
          ],
          [
           0.85,
           0.83,
           0.81,
           0.78,
           0.74,
           0.71,
           0.67,
           0.64,
           0.6,
           0.58,
           0.55,
           0.47,
           0.39,
           0.26,
           0.22,
           0.19
          ],
          [
           0.83,
           0.82,
           0.79,
           0.77,
           0.74,
           0.71,
           0.68,
           0.64,
           0.61,
           0.57,
           0.54,
           0.49,
           0.37,
           0.27,
           0.21,
           0.18
          ],
          [
           0.82,
           0.81,
           0.78,
           0.76,
           0.74,
           0.71,
           0.68,
           0.65,
           0.62,
           0.57,
           0.53,
           0.47,
           0.38,
           0.29,
           0.23,
           0.2
          ]
         ]
        }
       ],
       "layout": {
        "annotations": [
         {
          "font": {
           "color": "#000000",
           "size": 7
          },
          "showarrow": false,
          "text": "0.7",
          "x": 0,
          "xref": "x",
          "y": 0,
          "yref": "y"
         },
         {
          "font": {
           "color": "#000000",
           "size": 7
          },
          "showarrow": false,
          "text": "0.68",
          "x": 1,
          "xref": "x",
          "y": 0,
          "yref": "y"
         },
         {
          "font": {
           "color": "#000000",
           "size": 7
          },
          "showarrow": false,
          "text": "0.65",
          "x": 2,
          "xref": "x",
          "y": 0,
          "yref": "y"
         },
         {
          "font": {
           "color": "#000000",
           "size": 7
          },
          "showarrow": false,
          "text": "0.61",
          "x": 3,
          "xref": "x",
          "y": 0,
          "yref": "y"
         },
         {
          "font": {
           "color": "#000000",
           "size": 7
          },
          "showarrow": false,
          "text": "0.57",
          "x": 4,
          "xref": "x",
          "y": 0,
          "yref": "y"
         },
         {
          "font": {
           "color": "#000000",
           "size": 7
          },
          "showarrow": false,
          "text": "0.53",
          "x": 5,
          "xref": "x",
          "y": 0,
          "yref": "y"
         },
         {
          "font": {
           "color": "#000000",
           "size": 7
          },
          "showarrow": false,
          "text": "0.49",
          "x": 6,
          "xref": "x",
          "y": 0,
          "yref": "y"
         },
         {
          "font": {
           "color": "#FFFFFF",
           "size": 7
          },
          "showarrow": false,
          "text": "0.44",
          "x": 7,
          "xref": "x",
          "y": 0,
          "yref": "y"
         },
         {
          "font": {
           "color": "#FFFFFF",
           "size": 7
          },
          "showarrow": false,
          "text": "0.38",
          "x": 8,
          "xref": "x",
          "y": 0,
          "yref": "y"
         },
         {
          "font": {
           "color": "#FFFFFF",
           "size": 7
          },
          "showarrow": false,
          "text": "0.31",
          "x": 9,
          "xref": "x",
          "y": 0,
          "yref": "y"
         },
         {
          "font": {
           "color": "#FFFFFF",
           "size": 7
          },
          "showarrow": false,
          "text": "0.26",
          "x": 10,
          "xref": "x",
          "y": 0,
          "yref": "y"
         },
         {
          "font": {
           "color": "#FFFFFF",
           "size": 7
          },
          "showarrow": false,
          "text": "0.2",
          "x": 11,
          "xref": "x",
          "y": 0,
          "yref": "y"
         },
         {
          "font": {
           "color": "#FFFFFF",
           "size": 7
          },
          "showarrow": false,
          "text": "0.11",
          "x": 12,
          "xref": "x",
          "y": 0,
          "yref": "y"
         },
         {
          "font": {
           "color": "#FFFFFF",
           "size": 7
          },
          "showarrow": false,
          "text": "0.08",
          "x": 13,
          "xref": "x",
          "y": 0,
          "yref": "y"
         },
         {
          "font": {
           "color": "#FFFFFF",
           "size": 7
          },
          "showarrow": false,
          "text": "0.06",
          "x": 14,
          "xref": "x",
          "y": 0,
          "yref": "y"
         },
         {
          "font": {
           "color": "#FFFFFF",
           "size": 7
          },
          "showarrow": false,
          "text": "0.05",
          "x": 15,
          "xref": "x",
          "y": 0,
          "yref": "y"
         },
         {
          "font": {
           "color": "#000000",
           "size": 7
          },
          "showarrow": false,
          "text": "0.71",
          "x": 0,
          "xref": "x",
          "y": 1,
          "yref": "y"
         },
         {
          "font": {
           "color": "#000000",
           "size": 7
          },
          "showarrow": false,
          "text": "0.68",
          "x": 1,
          "xref": "x",
          "y": 1,
          "yref": "y"
         },
         {
          "font": {
           "color": "#000000",
           "size": 7
          },
          "showarrow": false,
          "text": "0.65",
          "x": 2,
          "xref": "x",
          "y": 1,
          "yref": "y"
         },
         {
          "font": {
           "color": "#000000",
           "size": 7
          },
          "showarrow": false,
          "text": "0.62",
          "x": 3,
          "xref": "x",
          "y": 1,
          "yref": "y"
         },
         {
          "font": {
           "color": "#000000",
           "size": 7
          },
          "showarrow": false,
          "text": "0.58",
          "x": 4,
          "xref": "x",
          "y": 1,
          "yref": "y"
         },
         {
          "font": {
           "color": "#000000",
           "size": 7
          },
          "showarrow": false,
          "text": "0.54",
          "x": 5,
          "xref": "x",
          "y": 1,
          "yref": "y"
         },
         {
          "font": {
           "color": "#000000",
           "size": 7
          },
          "showarrow": false,
          "text": "0.49",
          "x": 6,
          "xref": "x",
          "y": 1,
          "yref": "y"
         },
         {
          "font": {
           "color": "#FFFFFF",
           "size": 7
          },
          "showarrow": false,
          "text": "0.44",
          "x": 7,
          "xref": "x",
          "y": 1,
          "yref": "y"
         },
         {
          "font": {
           "color": "#FFFFFF",
           "size": 7
          },
          "showarrow": false,
          "text": "0.38",
          "x": 8,
          "xref": "x",
          "y": 1,
          "yref": "y"
         },
         {
          "font": {
           "color": "#FFFFFF",
           "size": 7
          },
          "showarrow": false,
          "text": "0.33",
          "x": 9,
          "xref": "x",
          "y": 1,
          "yref": "y"
         },
         {
          "font": {
           "color": "#FFFFFF",
           "size": 7
          },
          "showarrow": false,
          "text": "0.28",
          "x": 10,
          "xref": "x",
          "y": 1,
          "yref": "y"
         },
         {
          "font": {
           "color": "#FFFFFF",
           "size": 7
          },
          "showarrow": false,
          "text": "0.24",
          "x": 11,
          "xref": "x",
          "y": 1,
          "yref": "y"
         },
         {
          "font": {
           "color": "#FFFFFF",
           "size": 7
          },
          "showarrow": false,
          "text": "0.16",
          "x": 12,
          "xref": "x",
          "y": 1,
          "yref": "y"
         },
         {
          "font": {
           "color": "#FFFFFF",
           "size": 7
          },
          "showarrow": false,
          "text": "0.11",
          "x": 13,
          "xref": "x",
          "y": 1,
          "yref": "y"
         },
         {
          "font": {
           "color": "#FFFFFF",
           "size": 7
          },
          "showarrow": false,
          "text": "0.08",
          "x": 14,
          "xref": "x",
          "y": 1,
          "yref": "y"
         },
         {
          "font": {
           "color": "#FFFFFF",
           "size": 7
          },
          "showarrow": false,
          "text": "0.07",
          "x": 15,
          "xref": "x",
          "y": 1,
          "yref": "y"
         },
         {
          "font": {
           "color": "#000000",
           "size": 7
          },
          "showarrow": false,
          "text": "0.73",
          "x": 0,
          "xref": "x",
          "y": 2,
          "yref": "y"
         },
         {
          "font": {
           "color": "#000000",
           "size": 7
          },
          "showarrow": false,
          "text": "0.7",
          "x": 1,
          "xref": "x",
          "y": 2,
          "yref": "y"
         },
         {
          "font": {
           "color": "#000000",
           "size": 7
          },
          "showarrow": false,
          "text": "0.67",
          "x": 2,
          "xref": "x",
          "y": 2,
          "yref": "y"
         },
         {
          "font": {
           "color": "#000000",
           "size": 7
          },
          "showarrow": false,
          "text": "0.63",
          "x": 3,
          "xref": "x",
          "y": 2,
          "yref": "y"
         },
         {
          "font": {
           "color": "#000000",
           "size": 7
          },
          "showarrow": false,
          "text": "0.6",
          "x": 4,
          "xref": "x",
          "y": 2,
          "yref": "y"
         },
         {
          "font": {
           "color": "#000000",
           "size": 7
          },
          "showarrow": false,
          "text": "0.57",
          "x": 5,
          "xref": "x",
          "y": 2,
          "yref": "y"
         },
         {
          "font": {
           "color": "#000000",
           "size": 7
          },
          "showarrow": false,
          "text": "0.51",
          "x": 6,
          "xref": "x",
          "y": 2,
          "yref": "y"
         },
         {
          "font": {
           "color": "#FFFFFF",
           "size": 7
          },
          "showarrow": false,
          "text": "0.43",
          "x": 7,
          "xref": "x",
          "y": 2,
          "yref": "y"
         },
         {
          "font": {
           "color": "#FFFFFF",
           "size": 7
          },
          "showarrow": false,
          "text": "0.38",
          "x": 8,
          "xref": "x",
          "y": 2,
          "yref": "y"
         },
         {
          "font": {
           "color": "#FFFFFF",
           "size": 7
          },
          "showarrow": false,
          "text": "0.33",
          "x": 9,
          "xref": "x",
          "y": 2,
          "yref": "y"
         },
         {
          "font": {
           "color": "#FFFFFF",
           "size": 7
          },
          "showarrow": false,
          "text": "0.3",
          "x": 10,
          "xref": "x",
          "y": 2,
          "yref": "y"
         },
         {
          "font": {
           "color": "#FFFFFF",
           "size": 7
          },
          "showarrow": false,
          "text": "0.28",
          "x": 11,
          "xref": "x",
          "y": 2,
          "yref": "y"
         },
         {
          "font": {
           "color": "#FFFFFF",
           "size": 7
          },
          "showarrow": false,
          "text": "0.23",
          "x": 12,
          "xref": "x",
          "y": 2,
          "yref": "y"
         },
         {
          "font": {
           "color": "#FFFFFF",
           "size": 7
          },
          "showarrow": false,
          "text": "0.17",
          "x": 13,
          "xref": "x",
          "y": 2,
          "yref": "y"
         },
         {
          "font": {
           "color": "#FFFFFF",
           "size": 7
          },
          "showarrow": false,
          "text": "0.12",
          "x": 14,
          "xref": "x",
          "y": 2,
          "yref": "y"
         },
         {
          "font": {
           "color": "#FFFFFF",
           "size": 7
          },
          "showarrow": false,
          "text": "0.11",
          "x": 15,
          "xref": "x",
          "y": 2,
          "yref": "y"
         },
         {
          "font": {
           "color": "#000000",
           "size": 7
          },
          "showarrow": false,
          "text": "0.74",
          "x": 0,
          "xref": "x",
          "y": 3,
          "yref": "y"
         },
         {
          "font": {
           "color": "#000000",
           "size": 7
          },
          "showarrow": false,
          "text": "0.73",
          "x": 1,
          "xref": "x",
          "y": 3,
          "yref": "y"
         },
         {
          "font": {
           "color": "#000000",
           "size": 7
          },
          "showarrow": false,
          "text": "0.7",
          "x": 2,
          "xref": "x",
          "y": 3,
          "yref": "y"
         },
         {
          "font": {
           "color": "#000000",
           "size": 7
          },
          "showarrow": false,
          "text": "0.66",
          "x": 3,
          "xref": "x",
          "y": 3,
          "yref": "y"
         },
         {
          "font": {
           "color": "#000000",
           "size": 7
          },
          "showarrow": false,
          "text": "0.62",
          "x": 4,
          "xref": "x",
          "y": 3,
          "yref": "y"
         },
         {
          "font": {
           "color": "#000000",
           "size": 7
          },
          "showarrow": false,
          "text": "0.59",
          "x": 5,
          "xref": "x",
          "y": 3,
          "yref": "y"
         },
         {
          "font": {
           "color": "#000000",
           "size": 7
          },
          "showarrow": false,
          "text": "0.53",
          "x": 6,
          "xref": "x",
          "y": 3,
          "yref": "y"
         },
         {
          "font": {
           "color": "#FFFFFF",
           "size": 7
          },
          "showarrow": false,
          "text": "0.45",
          "x": 7,
          "xref": "x",
          "y": 3,
          "yref": "y"
         },
         {
          "font": {
           "color": "#FFFFFF",
           "size": 7
          },
          "showarrow": false,
          "text": "0.39",
          "x": 8,
          "xref": "x",
          "y": 3,
          "yref": "y"
         },
         {
          "font": {
           "color": "#FFFFFF",
           "size": 7
          },
          "showarrow": false,
          "text": "0.35",
          "x": 9,
          "xref": "x",
          "y": 3,
          "yref": "y"
         },
         {
          "font": {
           "color": "#FFFFFF",
           "size": 7
          },
          "showarrow": false,
          "text": "0.32",
          "x": 10,
          "xref": "x",
          "y": 3,
          "yref": "y"
         },
         {
          "font": {
           "color": "#FFFFFF",
           "size": 7
          },
          "showarrow": false,
          "text": "0.3",
          "x": 11,
          "xref": "x",
          "y": 3,
          "yref": "y"
         },
         {
          "font": {
           "color": "#FFFFFF",
           "size": 7
          },
          "showarrow": false,
          "text": "0.26",
          "x": 12,
          "xref": "x",
          "y": 3,
          "yref": "y"
         },
         {
          "font": {
           "color": "#FFFFFF",
           "size": 7
          },
          "showarrow": false,
          "text": "0.23",
          "x": 13,
          "xref": "x",
          "y": 3,
          "yref": "y"
         },
         {
          "font": {
           "color": "#FFFFFF",
           "size": 7
          },
          "showarrow": false,
          "text": "0.18",
          "x": 14,
          "xref": "x",
          "y": 3,
          "yref": "y"
         },
         {
          "font": {
           "color": "#FFFFFF",
           "size": 7
          },
          "showarrow": false,
          "text": "0.15",
          "x": 15,
          "xref": "x",
          "y": 3,
          "yref": "y"
         },
         {
          "font": {
           "color": "#000000",
           "size": 7
          },
          "showarrow": false,
          "text": "0.75",
          "x": 0,
          "xref": "x",
          "y": 4,
          "yref": "y"
         },
         {
          "font": {
           "color": "#000000",
           "size": 7
          },
          "showarrow": false,
          "text": "0.74",
          "x": 1,
          "xref": "x",
          "y": 4,
          "yref": "y"
         },
         {
          "font": {
           "color": "#000000",
           "size": 7
          },
          "showarrow": false,
          "text": "0.72",
          "x": 2,
          "xref": "x",
          "y": 4,
          "yref": "y"
         },
         {
          "font": {
           "color": "#000000",
           "size": 7
          },
          "showarrow": false,
          "text": "0.67",
          "x": 3,
          "xref": "x",
          "y": 4,
          "yref": "y"
         },
         {
          "font": {
           "color": "#000000",
           "size": 7
          },
          "showarrow": false,
          "text": "0.64",
          "x": 4,
          "xref": "x",
          "y": 4,
          "yref": "y"
         },
         {
          "font": {
           "color": "#000000",
           "size": 7
          },
          "showarrow": false,
          "text": "0.62",
          "x": 5,
          "xref": "x",
          "y": 4,
          "yref": "y"
         },
         {
          "font": {
           "color": "#000000",
           "size": 7
          },
          "showarrow": false,
          "text": "0.58",
          "x": 6,
          "xref": "x",
          "y": 4,
          "yref": "y"
         },
         {
          "font": {
           "color": "#000000",
           "size": 7
          },
          "showarrow": false,
          "text": "0.5",
          "x": 7,
          "xref": "x",
          "y": 4,
          "yref": "y"
         },
         {
          "font": {
           "color": "#FFFFFF",
           "size": 7
          },
          "showarrow": false,
          "text": "0.45",
          "x": 8,
          "xref": "x",
          "y": 4,
          "yref": "y"
         },
         {
          "font": {
           "color": "#FFFFFF",
           "size": 7
          },
          "showarrow": false,
          "text": "0.38",
          "x": 9,
          "xref": "x",
          "y": 4,
          "yref": "y"
         },
         {
          "font": {
           "color": "#FFFFFF",
           "size": 7
          },
          "showarrow": false,
          "text": "0.34",
          "x": 10,
          "xref": "x",
          "y": 4,
          "yref": "y"
         },
         {
          "font": {
           "color": "#FFFFFF",
           "size": 7
          },
          "showarrow": false,
          "text": "0.32",
          "x": 11,
          "xref": "x",
          "y": 4,
          "yref": "y"
         },
         {
          "font": {
           "color": "#FFFFFF",
           "size": 7
          },
          "showarrow": false,
          "text": "0.28",
          "x": 12,
          "xref": "x",
          "y": 4,
          "yref": "y"
         },
         {
          "font": {
           "color": "#FFFFFF",
           "size": 7
          },
          "showarrow": false,
          "text": "0.25",
          "x": 13,
          "xref": "x",
          "y": 4,
          "yref": "y"
         },
         {
          "font": {
           "color": "#FFFFFF",
           "size": 7
          },
          "showarrow": false,
          "text": "0.21",
          "x": 14,
          "xref": "x",
          "y": 4,
          "yref": "y"
         },
         {
          "font": {
           "color": "#FFFFFF",
           "size": 7
          },
          "showarrow": false,
          "text": "0.19",
          "x": 15,
          "xref": "x",
          "y": 4,
          "yref": "y"
         },
         {
          "font": {
           "color": "#000000",
           "size": 7
          },
          "showarrow": false,
          "text": "0.75",
          "x": 0,
          "xref": "x",
          "y": 5,
          "yref": "y"
         },
         {
          "font": {
           "color": "#000000",
           "size": 7
          },
          "showarrow": false,
          "text": "0.74",
          "x": 1,
          "xref": "x",
          "y": 5,
          "yref": "y"
         },
         {
          "font": {
           "color": "#000000",
           "size": 7
          },
          "showarrow": false,
          "text": "0.72",
          "x": 2,
          "xref": "x",
          "y": 5,
          "yref": "y"
         },
         {
          "font": {
           "color": "#000000",
           "size": 7
          },
          "showarrow": false,
          "text": "0.68",
          "x": 3,
          "xref": "x",
          "y": 5,
          "yref": "y"
         },
         {
          "font": {
           "color": "#000000",
           "size": 7
          },
          "showarrow": false,
          "text": "0.65",
          "x": 4,
          "xref": "x",
          "y": 5,
          "yref": "y"
         },
         {
          "font": {
           "color": "#000000",
           "size": 7
          },
          "showarrow": false,
          "text": "0.63",
          "x": 5,
          "xref": "x",
          "y": 5,
          "yref": "y"
         },
         {
          "font": {
           "color": "#000000",
           "size": 7
          },
          "showarrow": false,
          "text": "0.6",
          "x": 6,
          "xref": "x",
          "y": 5,
          "yref": "y"
         },
         {
          "font": {
           "color": "#000000",
           "size": 7
          },
          "showarrow": false,
          "text": "0.56",
          "x": 7,
          "xref": "x",
          "y": 5,
          "yref": "y"
         },
         {
          "font": {
           "color": "#000000",
           "size": 7
          },
          "showarrow": false,
          "text": "0.5",
          "x": 8,
          "xref": "x",
          "y": 5,
          "yref": "y"
         },
         {
          "font": {
           "color": "#FFFFFF",
           "size": 7
          },
          "showarrow": false,
          "text": "0.45",
          "x": 9,
          "xref": "x",
          "y": 5,
          "yref": "y"
         },
         {
          "font": {
           "color": "#FFFFFF",
           "size": 7
          },
          "showarrow": false,
          "text": "0.37",
          "x": 10,
          "xref": "x",
          "y": 5,
          "yref": "y"
         },
         {
          "font": {
           "color": "#FFFFFF",
           "size": 7
          },
          "showarrow": false,
          "text": "0.34",
          "x": 11,
          "xref": "x",
          "y": 5,
          "yref": "y"
         },
         {
          "font": {
           "color": "#FFFFFF",
           "size": 7
          },
          "showarrow": false,
          "text": "0.3",
          "x": 12,
          "xref": "x",
          "y": 5,
          "yref": "y"
         },
         {
          "font": {
           "color": "#FFFFFF",
           "size": 7
          },
          "showarrow": false,
          "text": "0.25",
          "x": 13,
          "xref": "x",
          "y": 5,
          "yref": "y"
         },
         {
          "font": {
           "color": "#FFFFFF",
           "size": 7
          },
          "showarrow": false,
          "text": "0.23",
          "x": 14,
          "xref": "x",
          "y": 5,
          "yref": "y"
         },
         {
          "font": {
           "color": "#FFFFFF",
           "size": 7
          },
          "showarrow": false,
          "text": "0.21",
          "x": 15,
          "xref": "x",
          "y": 5,
          "yref": "y"
         },
         {
          "font": {
           "color": "#000000",
           "size": 7
          },
          "showarrow": false,
          "text": "0.78",
          "x": 0,
          "xref": "x",
          "y": 6,
          "yref": "y"
         },
         {
          "font": {
           "color": "#000000",
           "size": 7
          },
          "showarrow": false,
          "text": "0.76",
          "x": 1,
          "xref": "x",
          "y": 6,
          "yref": "y"
         },
         {
          "font": {
           "color": "#000000",
           "size": 7
          },
          "showarrow": false,
          "text": "0.72",
          "x": 2,
          "xref": "x",
          "y": 6,
          "yref": "y"
         },
         {
          "font": {
           "color": "#000000",
           "size": 7
          },
          "showarrow": false,
          "text": "0.69",
          "x": 3,
          "xref": "x",
          "y": 6,
          "yref": "y"
         },
         {
          "font": {
           "color": "#000000",
           "size": 7
          },
          "showarrow": false,
          "text": "0.66",
          "x": 4,
          "xref": "x",
          "y": 6,
          "yref": "y"
         },
         {
          "font": {
           "color": "#000000",
           "size": 7
          },
          "showarrow": false,
          "text": "0.64",
          "x": 5,
          "xref": "x",
          "y": 6,
          "yref": "y"
         },
         {
          "font": {
           "color": "#000000",
           "size": 7
          },
          "showarrow": false,
          "text": "0.61",
          "x": 6,
          "xref": "x",
          "y": 6,
          "yref": "y"
         },
         {
          "font": {
           "color": "#000000",
           "size": 7
          },
          "showarrow": false,
          "text": "0.59",
          "x": 7,
          "xref": "x",
          "y": 6,
          "yref": "y"
         },
         {
          "font": {
           "color": "#000000",
           "size": 7
          },
          "showarrow": false,
          "text": "0.55",
          "x": 8,
          "xref": "x",
          "y": 6,
          "yref": "y"
         },
         {
          "font": {
           "color": "#000000",
           "size": 7
          },
          "showarrow": false,
          "text": "0.51",
          "x": 9,
          "xref": "x",
          "y": 6,
          "yref": "y"
         },
         {
          "font": {
           "color": "#FFFFFF",
           "size": 7
          },
          "showarrow": false,
          "text": "0.44",
          "x": 10,
          "xref": "x",
          "y": 6,
          "yref": "y"
         },
         {
          "font": {
           "color": "#FFFFFF",
           "size": 7
          },
          "showarrow": false,
          "text": "0.35",
          "x": 11,
          "xref": "x",
          "y": 6,
          "yref": "y"
         },
         {
          "font": {
           "color": "#FFFFFF",
           "size": 7
          },
          "showarrow": false,
          "text": "0.31",
          "x": 12,
          "xref": "x",
          "y": 6,
          "yref": "y"
         },
         {
          "font": {
           "color": "#FFFFFF",
           "size": 7
          },
          "showarrow": false,
          "text": "0.28",
          "x": 13,
          "xref": "x",
          "y": 6,
          "yref": "y"
         },
         {
          "font": {
           "color": "#FFFFFF",
           "size": 7
          },
          "showarrow": false,
          "text": "0.25",
          "x": 14,
          "xref": "x",
          "y": 6,
          "yref": "y"
         },
         {
          "font": {
           "color": "#FFFFFF",
           "size": 7
          },
          "showarrow": false,
          "text": "0.25",
          "x": 15,
          "xref": "x",
          "y": 6,
          "yref": "y"
         },
         {
          "font": {
           "color": "#000000",
           "size": 7
          },
          "showarrow": false,
          "text": "0.82",
          "x": 0,
          "xref": "x",
          "y": 7,
          "yref": "y"
         },
         {
          "font": {
           "color": "#000000",
           "size": 7
          },
          "showarrow": false,
          "text": "0.8",
          "x": 1,
          "xref": "x",
          "y": 7,
          "yref": "y"
         },
         {
          "font": {
           "color": "#000000",
           "size": 7
          },
          "showarrow": false,
          "text": "0.75",
          "x": 2,
          "xref": "x",
          "y": 7,
          "yref": "y"
         },
         {
          "font": {
           "color": "#000000",
           "size": 7
          },
          "showarrow": false,
          "text": "0.7",
          "x": 3,
          "xref": "x",
          "y": 7,
          "yref": "y"
         },
         {
          "font": {
           "color": "#000000",
           "size": 7
          },
          "showarrow": false,
          "text": "0.68",
          "x": 4,
          "xref": "x",
          "y": 7,
          "yref": "y"
         },
         {
          "font": {
           "color": "#000000",
           "size": 7
          },
          "showarrow": false,
          "text": "0.65",
          "x": 5,
          "xref": "x",
          "y": 7,
          "yref": "y"
         },
         {
          "font": {
           "color": "#000000",
           "size": 7
          },
          "showarrow": false,
          "text": "0.62",
          "x": 6,
          "xref": "x",
          "y": 7,
          "yref": "y"
         },
         {
          "font": {
           "color": "#000000",
           "size": 7
          },
          "showarrow": false,
          "text": "0.6",
          "x": 7,
          "xref": "x",
          "y": 7,
          "yref": "y"
         },
         {
          "font": {
           "color": "#000000",
           "size": 7
          },
          "showarrow": false,
          "text": "0.57",
          "x": 8,
          "xref": "x",
          "y": 7,
          "yref": "y"
         },
         {
          "font": {
           "color": "#000000",
           "size": 7
          },
          "showarrow": false,
          "text": "0.54",
          "x": 9,
          "xref": "x",
          "y": 7,
          "yref": "y"
         },
         {
          "font": {
           "color": "#000000",
           "size": 7
          },
          "showarrow": false,
          "text": "0.49",
          "x": 10,
          "xref": "x",
          "y": 7,
          "yref": "y"
         },
         {
          "font": {
           "color": "#FFFFFF",
           "size": 7
          },
          "showarrow": false,
          "text": "0.4",
          "x": 11,
          "xref": "x",
          "y": 7,
          "yref": "y"
         },
         {
          "font": {
           "color": "#FFFFFF",
           "size": 7
          },
          "showarrow": false,
          "text": "0.33",
          "x": 12,
          "xref": "x",
          "y": 7,
          "yref": "y"
         },
         {
          "font": {
           "color": "#FFFFFF",
           "size": 7
          },
          "showarrow": false,
          "text": "0.28",
          "x": 13,
          "xref": "x",
          "y": 7,
          "yref": "y"
         },
         {
          "font": {
           "color": "#FFFFFF",
           "size": 7
          },
          "showarrow": false,
          "text": "0.27",
          "x": 14,
          "xref": "x",
          "y": 7,
          "yref": "y"
         },
         {
          "font": {
           "color": "#FFFFFF",
           "size": 7
          },
          "showarrow": false,
          "text": "0.26",
          "x": 15,
          "xref": "x",
          "y": 7,
          "yref": "y"
         },
         {
          "font": {
           "color": "#000000",
           "size": 7
          },
          "showarrow": false,
          "text": "0.85",
          "x": 0,
          "xref": "x",
          "y": 8,
          "yref": "y"
         },
         {
          "font": {
           "color": "#000000",
           "size": 7
          },
          "showarrow": false,
          "text": "0.82",
          "x": 1,
          "xref": "x",
          "y": 8,
          "yref": "y"
         },
         {
          "font": {
           "color": "#000000",
           "size": 7
          },
          "showarrow": false,
          "text": "0.78",
          "x": 2,
          "xref": "x",
          "y": 8,
          "yref": "y"
         },
         {
          "font": {
           "color": "#000000",
           "size": 7
          },
          "showarrow": false,
          "text": "0.73",
          "x": 3,
          "xref": "x",
          "y": 8,
          "yref": "y"
         },
         {
          "font": {
           "color": "#000000",
           "size": 7
          },
          "showarrow": false,
          "text": "0.69",
          "x": 4,
          "xref": "x",
          "y": 8,
          "yref": "y"
         },
         {
          "font": {
           "color": "#000000",
           "size": 7
          },
          "showarrow": false,
          "text": "0.67",
          "x": 5,
          "xref": "x",
          "y": 8,
          "yref": "y"
         },
         {
          "font": {
           "color": "#000000",
           "size": 7
          },
          "showarrow": false,
          "text": "0.63",
          "x": 6,
          "xref": "x",
          "y": 8,
          "yref": "y"
         },
         {
          "font": {
           "color": "#000000",
           "size": 7
          },
          "showarrow": false,
          "text": "0.6",
          "x": 7,
          "xref": "x",
          "y": 8,
          "yref": "y"
         },
         {
          "font": {
           "color": "#000000",
           "size": 7
          },
          "showarrow": false,
          "text": "0.58",
          "x": 8,
          "xref": "x",
          "y": 8,
          "yref": "y"
         },
         {
          "font": {
           "color": "#000000",
           "size": 7
          },
          "showarrow": false,
          "text": "0.56",
          "x": 9,
          "xref": "x",
          "y": 8,
          "yref": "y"
         },
         {
          "font": {
           "color": "#000000",
           "size": 7
          },
          "showarrow": false,
          "text": "0.51",
          "x": 10,
          "xref": "x",
          "y": 8,
          "yref": "y"
         },
         {
          "font": {
           "color": "#FFFFFF",
           "size": 7
          },
          "showarrow": false,
          "text": "0.43",
          "x": 11,
          "xref": "x",
          "y": 8,
          "yref": "y"
         },
         {
          "font": {
           "color": "#FFFFFF",
           "size": 7
          },
          "showarrow": false,
          "text": "0.35",
          "x": 12,
          "xref": "x",
          "y": 8,
          "yref": "y"
         },
         {
          "font": {
           "color": "#FFFFFF",
           "size": 7
          },
          "showarrow": false,
          "text": "0.3",
          "x": 13,
          "xref": "x",
          "y": 8,
          "yref": "y"
         },
         {
          "font": {
           "color": "#FFFFFF",
           "size": 7
          },
          "showarrow": false,
          "text": "0.28",
          "x": 14,
          "xref": "x",
          "y": 8,
          "yref": "y"
         },
         {
          "font": {
           "color": "#FFFFFF",
           "size": 7
          },
          "showarrow": false,
          "text": "0.27",
          "x": 15,
          "xref": "x",
          "y": 8,
          "yref": "y"
         },
         {
          "font": {
           "color": "#000000",
           "size": 7
          },
          "showarrow": false,
          "text": "0.87",
          "x": 0,
          "xref": "x",
          "y": 9,
          "yref": "y"
         },
         {
          "font": {
           "color": "#000000",
           "size": 7
          },
          "showarrow": false,
          "text": "0.85",
          "x": 1,
          "xref": "x",
          "y": 9,
          "yref": "y"
         },
         {
          "font": {
           "color": "#000000",
           "size": 7
          },
          "showarrow": false,
          "text": "0.81",
          "x": 2,
          "xref": "x",
          "y": 9,
          "yref": "y"
         },
         {
          "font": {
           "color": "#000000",
           "size": 7
          },
          "showarrow": false,
          "text": "0.76",
          "x": 3,
          "xref": "x",
          "y": 9,
          "yref": "y"
         },
         {
          "font": {
           "color": "#000000",
           "size": 7
          },
          "showarrow": false,
          "text": "0.71",
          "x": 4,
          "xref": "x",
          "y": 9,
          "yref": "y"
         },
         {
          "font": {
           "color": "#000000",
           "size": 7
          },
          "showarrow": false,
          "text": "0.67",
          "x": 5,
          "xref": "x",
          "y": 9,
          "yref": "y"
         },
         {
          "font": {
           "color": "#000000",
           "size": 7
          },
          "showarrow": false,
          "text": "0.64",
          "x": 6,
          "xref": "x",
          "y": 9,
          "yref": "y"
         },
         {
          "font": {
           "color": "#000000",
           "size": 7
          },
          "showarrow": false,
          "text": "0.61",
          "x": 7,
          "xref": "x",
          "y": 9,
          "yref": "y"
         },
         {
          "font": {
           "color": "#000000",
           "size": 7
          },
          "showarrow": false,
          "text": "0.59",
          "x": 8,
          "xref": "x",
          "y": 9,
          "yref": "y"
         },
         {
          "font": {
           "color": "#000000",
           "size": 7
          },
          "showarrow": false,
          "text": "0.57",
          "x": 9,
          "xref": "x",
          "y": 9,
          "yref": "y"
         },
         {
          "font": {
           "color": "#000000",
           "size": 7
          },
          "showarrow": false,
          "text": "0.52",
          "x": 10,
          "xref": "x",
          "y": 9,
          "yref": "y"
         },
         {
          "font": {
           "color": "#FFFFFF",
           "size": 7
          },
          "showarrow": false,
          "text": "0.45",
          "x": 11,
          "xref": "x",
          "y": 9,
          "yref": "y"
         },
         {
          "font": {
           "color": "#FFFFFF",
           "size": 7
          },
          "showarrow": false,
          "text": "0.37",
          "x": 12,
          "xref": "x",
          "y": 9,
          "yref": "y"
         },
         {
          "font": {
           "color": "#FFFFFF",
           "size": 7
          },
          "showarrow": false,
          "text": "0.31",
          "x": 13,
          "xref": "x",
          "y": 9,
          "yref": "y"
         },
         {
          "font": {
           "color": "#FFFFFF",
           "size": 7
          },
          "showarrow": false,
          "text": "0.28",
          "x": 14,
          "xref": "x",
          "y": 9,
          "yref": "y"
         },
         {
          "font": {
           "color": "#FFFFFF",
           "size": 7
          },
          "showarrow": false,
          "text": "0.27",
          "x": 15,
          "xref": "x",
          "y": 9,
          "yref": "y"
         },
         {
          "font": {
           "color": "#000000",
           "size": 7
          },
          "showarrow": false,
          "text": "0.88",
          "x": 0,
          "xref": "x",
          "y": 10,
          "yref": "y"
         },
         {
          "font": {
           "color": "#000000",
           "size": 7
          },
          "showarrow": false,
          "text": "0.86",
          "x": 1,
          "xref": "x",
          "y": 10,
          "yref": "y"
         },
         {
          "font": {
           "color": "#000000",
           "size": 7
          },
          "showarrow": false,
          "text": "0.82",
          "x": 2,
          "xref": "x",
          "y": 10,
          "yref": "y"
         },
         {
          "font": {
           "color": "#000000",
           "size": 7
          },
          "showarrow": false,
          "text": "0.78",
          "x": 3,
          "xref": "x",
          "y": 10,
          "yref": "y"
         },
         {
          "font": {
           "color": "#000000",
           "size": 7
          },
          "showarrow": false,
          "text": "0.74",
          "x": 4,
          "xref": "x",
          "y": 10,
          "yref": "y"
         },
         {
          "font": {
           "color": "#000000",
           "size": 7
          },
          "showarrow": false,
          "text": "0.7",
          "x": 5,
          "xref": "x",
          "y": 10,
          "yref": "y"
         },
         {
          "font": {
           "color": "#000000",
           "size": 7
          },
          "showarrow": false,
          "text": "0.65",
          "x": 6,
          "xref": "x",
          "y": 10,
          "yref": "y"
         },
         {
          "font": {
           "color": "#000000",
           "size": 7
          },
          "showarrow": false,
          "text": "0.62",
          "x": 7,
          "xref": "x",
          "y": 10,
          "yref": "y"
         },
         {
          "font": {
           "color": "#000000",
           "size": 7
          },
          "showarrow": false,
          "text": "0.6",
          "x": 8,
          "xref": "x",
          "y": 10,
          "yref": "y"
         },
         {
          "font": {
           "color": "#000000",
           "size": 7
          },
          "showarrow": false,
          "text": "0.57",
          "x": 9,
          "xref": "x",
          "y": 10,
          "yref": "y"
         },
         {
          "font": {
           "color": "#000000",
           "size": 7
          },
          "showarrow": false,
          "text": "0.54",
          "x": 10,
          "xref": "x",
          "y": 10,
          "yref": "y"
         },
         {
          "font": {
           "color": "#FFFFFF",
           "size": 7
          },
          "showarrow": false,
          "text": "0.47",
          "x": 11,
          "xref": "x",
          "y": 10,
          "yref": "y"
         },
         {
          "font": {
           "color": "#FFFFFF",
           "size": 7
          },
          "showarrow": false,
          "text": "0.38",
          "x": 12,
          "xref": "x",
          "y": 10,
          "yref": "y"
         },
         {
          "font": {
           "color": "#FFFFFF",
           "size": 7
          },
          "showarrow": false,
          "text": "0.31",
          "x": 13,
          "xref": "x",
          "y": 10,
          "yref": "y"
         },
         {
          "font": {
           "color": "#FFFFFF",
           "size": 7
          },
          "showarrow": false,
          "text": "0.26",
          "x": 14,
          "xref": "x",
          "y": 10,
          "yref": "y"
         },
         {
          "font": {
           "color": "#FFFFFF",
           "size": 7
          },
          "showarrow": false,
          "text": "0.25",
          "x": 15,
          "xref": "x",
          "y": 10,
          "yref": "y"
         },
         {
          "font": {
           "color": "#000000",
           "size": 7
          },
          "showarrow": false,
          "text": "0.89",
          "x": 0,
          "xref": "x",
          "y": 11,
          "yref": "y"
         },
         {
          "font": {
           "color": "#000000",
           "size": 7
          },
          "showarrow": false,
          "text": "0.87",
          "x": 1,
          "xref": "x",
          "y": 11,
          "yref": "y"
         },
         {
          "font": {
           "color": "#000000",
           "size": 7
          },
          "showarrow": false,
          "text": "0.82",
          "x": 2,
          "xref": "x",
          "y": 11,
          "yref": "y"
         },
         {
          "font": {
           "color": "#000000",
           "size": 7
          },
          "showarrow": false,
          "text": "0.79",
          "x": 3,
          "xref": "x",
          "y": 11,
          "yref": "y"
         },
         {
          "font": {
           "color": "#000000",
           "size": 7
          },
          "showarrow": false,
          "text": "0.75",
          "x": 4,
          "xref": "x",
          "y": 11,
          "yref": "y"
         },
         {
          "font": {
           "color": "#000000",
           "size": 7
          },
          "showarrow": false,
          "text": "0.7",
          "x": 5,
          "xref": "x",
          "y": 11,
          "yref": "y"
         },
         {
          "font": {
           "color": "#000000",
           "size": 7
          },
          "showarrow": false,
          "text": "0.65",
          "x": 6,
          "xref": "x",
          "y": 11,
          "yref": "y"
         },
         {
          "font": {
           "color": "#000000",
           "size": 7
          },
          "showarrow": false,
          "text": "0.62",
          "x": 7,
          "xref": "x",
          "y": 11,
          "yref": "y"
         },
         {
          "font": {
           "color": "#000000",
           "size": 7
          },
          "showarrow": false,
          "text": "0.6",
          "x": 8,
          "xref": "x",
          "y": 11,
          "yref": "y"
         },
         {
          "font": {
           "color": "#000000",
           "size": 7
          },
          "showarrow": false,
          "text": "0.57",
          "x": 9,
          "xref": "x",
          "y": 11,
          "yref": "y"
         },
         {
          "font": {
           "color": "#000000",
           "size": 7
          },
          "showarrow": false,
          "text": "0.55",
          "x": 10,
          "xref": "x",
          "y": 11,
          "yref": "y"
         },
         {
          "font": {
           "color": "#000000",
           "size": 7
          },
          "showarrow": false,
          "text": "0.48",
          "x": 11,
          "xref": "x",
          "y": 11,
          "yref": "y"
         },
         {
          "font": {
           "color": "#FFFFFF",
           "size": 7
          },
          "showarrow": false,
          "text": "0.4",
          "x": 12,
          "xref": "x",
          "y": 11,
          "yref": "y"
         },
         {
          "font": {
           "color": "#FFFFFF",
           "size": 7
          },
          "showarrow": false,
          "text": "0.3",
          "x": 13,
          "xref": "x",
          "y": 11,
          "yref": "y"
         },
         {
          "font": {
           "color": "#FFFFFF",
           "size": 7
          },
          "showarrow": false,
          "text": "0.26",
          "x": 14,
          "xref": "x",
          "y": 11,
          "yref": "y"
         },
         {
          "font": {
           "color": "#FFFFFF",
           "size": 7
          },
          "showarrow": false,
          "text": "0.24",
          "x": 15,
          "xref": "x",
          "y": 11,
          "yref": "y"
         },
         {
          "font": {
           "color": "#000000",
           "size": 7
          },
          "showarrow": false,
          "text": "0.88",
          "x": 0,
          "xref": "x",
          "y": 12,
          "yref": "y"
         },
         {
          "font": {
           "color": "#000000",
           "size": 7
          },
          "showarrow": false,
          "text": "0.85",
          "x": 1,
          "xref": "x",
          "y": 12,
          "yref": "y"
         },
         {
          "font": {
           "color": "#000000",
           "size": 7
          },
          "showarrow": false,
          "text": "0.81",
          "x": 2,
          "xref": "x",
          "y": 12,
          "yref": "y"
         },
         {
          "font": {
           "color": "#000000",
           "size": 7
          },
          "showarrow": false,
          "text": "0.79",
          "x": 3,
          "xref": "x",
          "y": 12,
          "yref": "y"
         },
         {
          "font": {
           "color": "#000000",
           "size": 7
          },
          "showarrow": false,
          "text": "0.74",
          "x": 4,
          "xref": "x",
          "y": 12,
          "yref": "y"
         },
         {
          "font": {
           "color": "#000000",
           "size": 7
          },
          "showarrow": false,
          "text": "0.7",
          "x": 5,
          "xref": "x",
          "y": 12,
          "yref": "y"
         },
         {
          "font": {
           "color": "#000000",
           "size": 7
          },
          "showarrow": false,
          "text": "0.66",
          "x": 6,
          "xref": "x",
          "y": 12,
          "yref": "y"
         },
         {
          "font": {
           "color": "#000000",
           "size": 7
          },
          "showarrow": false,
          "text": "0.63",
          "x": 7,
          "xref": "x",
          "y": 12,
          "yref": "y"
         },
         {
          "font": {
           "color": "#000000",
           "size": 7
          },
          "showarrow": false,
          "text": "0.6",
          "x": 8,
          "xref": "x",
          "y": 12,
          "yref": "y"
         },
         {
          "font": {
           "color": "#000000",
           "size": 7
          },
          "showarrow": false,
          "text": "0.58",
          "x": 9,
          "xref": "x",
          "y": 12,
          "yref": "y"
         },
         {
          "font": {
           "color": "#000000",
           "size": 7
          },
          "showarrow": false,
          "text": "0.55",
          "x": 10,
          "xref": "x",
          "y": 12,
          "yref": "y"
         },
         {
          "font": {
           "color": "#FFFFFF",
           "size": 7
          },
          "showarrow": false,
          "text": "0.47",
          "x": 11,
          "xref": "x",
          "y": 12,
          "yref": "y"
         },
         {
          "font": {
           "color": "#FFFFFF",
           "size": 7
          },
          "showarrow": false,
          "text": "0.39",
          "x": 12,
          "xref": "x",
          "y": 12,
          "yref": "y"
         },
         {
          "font": {
           "color": "#FFFFFF",
           "size": 7
          },
          "showarrow": false,
          "text": "0.28",
          "x": 13,
          "xref": "x",
          "y": 12,
          "yref": "y"
         },
         {
          "font": {
           "color": "#FFFFFF",
           "size": 7
          },
          "showarrow": false,
          "text": "0.23",
          "x": 14,
          "xref": "x",
          "y": 12,
          "yref": "y"
         },
         {
          "font": {
           "color": "#FFFFFF",
           "size": 7
          },
          "showarrow": false,
          "text": "0.2",
          "x": 15,
          "xref": "x",
          "y": 12,
          "yref": "y"
         },
         {
          "font": {
           "color": "#000000",
           "size": 7
          },
          "showarrow": false,
          "text": "0.85",
          "x": 0,
          "xref": "x",
          "y": 13,
          "yref": "y"
         },
         {
          "font": {
           "color": "#000000",
           "size": 7
          },
          "showarrow": false,
          "text": "0.83",
          "x": 1,
          "xref": "x",
          "y": 13,
          "yref": "y"
         },
         {
          "font": {
           "color": "#000000",
           "size": 7
          },
          "showarrow": false,
          "text": "0.81",
          "x": 2,
          "xref": "x",
          "y": 13,
          "yref": "y"
         },
         {
          "font": {
           "color": "#000000",
           "size": 7
          },
          "showarrow": false,
          "text": "0.78",
          "x": 3,
          "xref": "x",
          "y": 13,
          "yref": "y"
         },
         {
          "font": {
           "color": "#000000",
           "size": 7
          },
          "showarrow": false,
          "text": "0.74",
          "x": 4,
          "xref": "x",
          "y": 13,
          "yref": "y"
         },
         {
          "font": {
           "color": "#000000",
           "size": 7
          },
          "showarrow": false,
          "text": "0.71",
          "x": 5,
          "xref": "x",
          "y": 13,
          "yref": "y"
         },
         {
          "font": {
           "color": "#000000",
           "size": 7
          },
          "showarrow": false,
          "text": "0.67",
          "x": 6,
          "xref": "x",
          "y": 13,
          "yref": "y"
         },
         {
          "font": {
           "color": "#000000",
           "size": 7
          },
          "showarrow": false,
          "text": "0.64",
          "x": 7,
          "xref": "x",
          "y": 13,
          "yref": "y"
         },
         {
          "font": {
           "color": "#000000",
           "size": 7
          },
          "showarrow": false,
          "text": "0.6",
          "x": 8,
          "xref": "x",
          "y": 13,
          "yref": "y"
         },
         {
          "font": {
           "color": "#000000",
           "size": 7
          },
          "showarrow": false,
          "text": "0.58",
          "x": 9,
          "xref": "x",
          "y": 13,
          "yref": "y"
         },
         {
          "font": {
           "color": "#000000",
           "size": 7
          },
          "showarrow": false,
          "text": "0.55",
          "x": 10,
          "xref": "x",
          "y": 13,
          "yref": "y"
         },
         {
          "font": {
           "color": "#FFFFFF",
           "size": 7
          },
          "showarrow": false,
          "text": "0.47",
          "x": 11,
          "xref": "x",
          "y": 13,
          "yref": "y"
         },
         {
          "font": {
           "color": "#FFFFFF",
           "size": 7
          },
          "showarrow": false,
          "text": "0.39",
          "x": 12,
          "xref": "x",
          "y": 13,
          "yref": "y"
         },
         {
          "font": {
           "color": "#FFFFFF",
           "size": 7
          },
          "showarrow": false,
          "text": "0.26",
          "x": 13,
          "xref": "x",
          "y": 13,
          "yref": "y"
         },
         {
          "font": {
           "color": "#FFFFFF",
           "size": 7
          },
          "showarrow": false,
          "text": "0.22",
          "x": 14,
          "xref": "x",
          "y": 13,
          "yref": "y"
         },
         {
          "font": {
           "color": "#FFFFFF",
           "size": 7
          },
          "showarrow": false,
          "text": "0.19",
          "x": 15,
          "xref": "x",
          "y": 13,
          "yref": "y"
         },
         {
          "font": {
           "color": "#000000",
           "size": 7
          },
          "showarrow": false,
          "text": "0.83",
          "x": 0,
          "xref": "x",
          "y": 14,
          "yref": "y"
         },
         {
          "font": {
           "color": "#000000",
           "size": 7
          },
          "showarrow": false,
          "text": "0.82",
          "x": 1,
          "xref": "x",
          "y": 14,
          "yref": "y"
         },
         {
          "font": {
           "color": "#000000",
           "size": 7
          },
          "showarrow": false,
          "text": "0.79",
          "x": 2,
          "xref": "x",
          "y": 14,
          "yref": "y"
         },
         {
          "font": {
           "color": "#000000",
           "size": 7
          },
          "showarrow": false,
          "text": "0.77",
          "x": 3,
          "xref": "x",
          "y": 14,
          "yref": "y"
         },
         {
          "font": {
           "color": "#000000",
           "size": 7
          },
          "showarrow": false,
          "text": "0.74",
          "x": 4,
          "xref": "x",
          "y": 14,
          "yref": "y"
         },
         {
          "font": {
           "color": "#000000",
           "size": 7
          },
          "showarrow": false,
          "text": "0.71",
          "x": 5,
          "xref": "x",
          "y": 14,
          "yref": "y"
         },
         {
          "font": {
           "color": "#000000",
           "size": 7
          },
          "showarrow": false,
          "text": "0.68",
          "x": 6,
          "xref": "x",
          "y": 14,
          "yref": "y"
         },
         {
          "font": {
           "color": "#000000",
           "size": 7
          },
          "showarrow": false,
          "text": "0.64",
          "x": 7,
          "xref": "x",
          "y": 14,
          "yref": "y"
         },
         {
          "font": {
           "color": "#000000",
           "size": 7
          },
          "showarrow": false,
          "text": "0.61",
          "x": 8,
          "xref": "x",
          "y": 14,
          "yref": "y"
         },
         {
          "font": {
           "color": "#000000",
           "size": 7
          },
          "showarrow": false,
          "text": "0.57",
          "x": 9,
          "xref": "x",
          "y": 14,
          "yref": "y"
         },
         {
          "font": {
           "color": "#000000",
           "size": 7
          },
          "showarrow": false,
          "text": "0.54",
          "x": 10,
          "xref": "x",
          "y": 14,
          "yref": "y"
         },
         {
          "font": {
           "color": "#000000",
           "size": 7
          },
          "showarrow": false,
          "text": "0.49",
          "x": 11,
          "xref": "x",
          "y": 14,
          "yref": "y"
         },
         {
          "font": {
           "color": "#FFFFFF",
           "size": 7
          },
          "showarrow": false,
          "text": "0.37",
          "x": 12,
          "xref": "x",
          "y": 14,
          "yref": "y"
         },
         {
          "font": {
           "color": "#FFFFFF",
           "size": 7
          },
          "showarrow": false,
          "text": "0.27",
          "x": 13,
          "xref": "x",
          "y": 14,
          "yref": "y"
         },
         {
          "font": {
           "color": "#FFFFFF",
           "size": 7
          },
          "showarrow": false,
          "text": "0.21",
          "x": 14,
          "xref": "x",
          "y": 14,
          "yref": "y"
         },
         {
          "font": {
           "color": "#FFFFFF",
           "size": 7
          },
          "showarrow": false,
          "text": "0.18",
          "x": 15,
          "xref": "x",
          "y": 14,
          "yref": "y"
         },
         {
          "font": {
           "color": "#000000",
           "size": 7
          },
          "showarrow": false,
          "text": "0.82",
          "x": 0,
          "xref": "x",
          "y": 15,
          "yref": "y"
         },
         {
          "font": {
           "color": "#000000",
           "size": 7
          },
          "showarrow": false,
          "text": "0.81",
          "x": 1,
          "xref": "x",
          "y": 15,
          "yref": "y"
         },
         {
          "font": {
           "color": "#000000",
           "size": 7
          },
          "showarrow": false,
          "text": "0.78",
          "x": 2,
          "xref": "x",
          "y": 15,
          "yref": "y"
         },
         {
          "font": {
           "color": "#000000",
           "size": 7
          },
          "showarrow": false,
          "text": "0.76",
          "x": 3,
          "xref": "x",
          "y": 15,
          "yref": "y"
         },
         {
          "font": {
           "color": "#000000",
           "size": 7
          },
          "showarrow": false,
          "text": "0.74",
          "x": 4,
          "xref": "x",
          "y": 15,
          "yref": "y"
         },
         {
          "font": {
           "color": "#000000",
           "size": 7
          },
          "showarrow": false,
          "text": "0.71",
          "x": 5,
          "xref": "x",
          "y": 15,
          "yref": "y"
         },
         {
          "font": {
           "color": "#000000",
           "size": 7
          },
          "showarrow": false,
          "text": "0.68",
          "x": 6,
          "xref": "x",
          "y": 15,
          "yref": "y"
         },
         {
          "font": {
           "color": "#000000",
           "size": 7
          },
          "showarrow": false,
          "text": "0.65",
          "x": 7,
          "xref": "x",
          "y": 15,
          "yref": "y"
         },
         {
          "font": {
           "color": "#000000",
           "size": 7
          },
          "showarrow": false,
          "text": "0.62",
          "x": 8,
          "xref": "x",
          "y": 15,
          "yref": "y"
         },
         {
          "font": {
           "color": "#000000",
           "size": 7
          },
          "showarrow": false,
          "text": "0.57",
          "x": 9,
          "xref": "x",
          "y": 15,
          "yref": "y"
         },
         {
          "font": {
           "color": "#000000",
           "size": 7
          },
          "showarrow": false,
          "text": "0.53",
          "x": 10,
          "xref": "x",
          "y": 15,
          "yref": "y"
         },
         {
          "font": {
           "color": "#FFFFFF",
           "size": 7
          },
          "showarrow": false,
          "text": "0.47",
          "x": 11,
          "xref": "x",
          "y": 15,
          "yref": "y"
         },
         {
          "font": {
           "color": "#FFFFFF",
           "size": 7
          },
          "showarrow": false,
          "text": "0.38",
          "x": 12,
          "xref": "x",
          "y": 15,
          "yref": "y"
         },
         {
          "font": {
           "color": "#FFFFFF",
           "size": 7
          },
          "showarrow": false,
          "text": "0.29",
          "x": 13,
          "xref": "x",
          "y": 15,
          "yref": "y"
         },
         {
          "font": {
           "color": "#FFFFFF",
           "size": 7
          },
          "showarrow": false,
          "text": "0.23",
          "x": 14,
          "xref": "x",
          "y": 15,
          "yref": "y"
         },
         {
          "font": {
           "color": "#FFFFFF",
           "size": 7
          },
          "showarrow": false,
          "text": "0.2",
          "x": 15,
          "xref": "x",
          "y": 15,
          "yref": "y"
         }
        ],
        "template": {
         "data": {
          "bar": [
           {
            "error_x": {
             "color": "#2a3f5f"
            },
            "error_y": {
             "color": "#2a3f5f"
            },
            "marker": {
             "line": {
              "color": "#E5ECF6",
              "width": 0.5
             }
            },
            "type": "bar"
           }
          ],
          "barpolar": [
           {
            "marker": {
             "line": {
              "color": "#E5ECF6",
              "width": 0.5
             }
            },
            "type": "barpolar"
           }
          ],
          "carpet": [
           {
            "aaxis": {
             "endlinecolor": "#2a3f5f",
             "gridcolor": "white",
             "linecolor": "white",
             "minorgridcolor": "white",
             "startlinecolor": "#2a3f5f"
            },
            "baxis": {
             "endlinecolor": "#2a3f5f",
             "gridcolor": "white",
             "linecolor": "white",
             "minorgridcolor": "white",
             "startlinecolor": "#2a3f5f"
            },
            "type": "carpet"
           }
          ],
          "choropleth": [
           {
            "colorbar": {
             "outlinewidth": 0,
             "ticks": ""
            },
            "type": "choropleth"
           }
          ],
          "contour": [
           {
            "colorbar": {
             "outlinewidth": 0,
             "ticks": ""
            },
            "colorscale": [
             [
              0.0,
              "#0d0887"
             ],
             [
              0.1111111111111111,
              "#46039f"
             ],
             [
              0.2222222222222222,
              "#7201a8"
             ],
             [
              0.3333333333333333,
              "#9c179e"
             ],
             [
              0.4444444444444444,
              "#bd3786"
             ],
             [
              0.5555555555555556,
              "#d8576b"
             ],
             [
              0.6666666666666666,
              "#ed7953"
             ],
             [
              0.7777777777777778,
              "#fb9f3a"
             ],
             [
              0.8888888888888888,
              "#fdca26"
             ],
             [
              1.0,
              "#f0f921"
             ]
            ],
            "type": "contour"
           }
          ],
          "contourcarpet": [
           {
            "colorbar": {
             "outlinewidth": 0,
             "ticks": ""
            },
            "type": "contourcarpet"
           }
          ],
          "heatmap": [
           {
            "colorbar": {
             "outlinewidth": 0,
             "ticks": ""
            },
            "colorscale": [
             [
              0.0,
              "#0d0887"
             ],
             [
              0.1111111111111111,
              "#46039f"
             ],
             [
              0.2222222222222222,
              "#7201a8"
             ],
             [
              0.3333333333333333,
              "#9c179e"
             ],
             [
              0.4444444444444444,
              "#bd3786"
             ],
             [
              0.5555555555555556,
              "#d8576b"
             ],
             [
              0.6666666666666666,
              "#ed7953"
             ],
             [
              0.7777777777777778,
              "#fb9f3a"
             ],
             [
              0.8888888888888888,
              "#fdca26"
             ],
             [
              1.0,
              "#f0f921"
             ]
            ],
            "type": "heatmap"
           }
          ],
          "heatmapgl": [
           {
            "colorbar": {
             "outlinewidth": 0,
             "ticks": ""
            },
            "colorscale": [
             [
              0.0,
              "#0d0887"
             ],
             [
              0.1111111111111111,
              "#46039f"
             ],
             [
              0.2222222222222222,
              "#7201a8"
             ],
             [
              0.3333333333333333,
              "#9c179e"
             ],
             [
              0.4444444444444444,
              "#bd3786"
             ],
             [
              0.5555555555555556,
              "#d8576b"
             ],
             [
              0.6666666666666666,
              "#ed7953"
             ],
             [
              0.7777777777777778,
              "#fb9f3a"
             ],
             [
              0.8888888888888888,
              "#fdca26"
             ],
             [
              1.0,
              "#f0f921"
             ]
            ],
            "type": "heatmapgl"
           }
          ],
          "histogram": [
           {
            "marker": {
             "colorbar": {
              "outlinewidth": 0,
              "ticks": ""
             }
            },
            "type": "histogram"
           }
          ],
          "histogram2d": [
           {
            "colorbar": {
             "outlinewidth": 0,
             "ticks": ""
            },
            "colorscale": [
             [
              0.0,
              "#0d0887"
             ],
             [
              0.1111111111111111,
              "#46039f"
             ],
             [
              0.2222222222222222,
              "#7201a8"
             ],
             [
              0.3333333333333333,
              "#9c179e"
             ],
             [
              0.4444444444444444,
              "#bd3786"
             ],
             [
              0.5555555555555556,
              "#d8576b"
             ],
             [
              0.6666666666666666,
              "#ed7953"
             ],
             [
              0.7777777777777778,
              "#fb9f3a"
             ],
             [
              0.8888888888888888,
              "#fdca26"
             ],
             [
              1.0,
              "#f0f921"
             ]
            ],
            "type": "histogram2d"
           }
          ],
          "histogram2dcontour": [
           {
            "colorbar": {
             "outlinewidth": 0,
             "ticks": ""
            },
            "colorscale": [
             [
              0.0,
              "#0d0887"
             ],
             [
              0.1111111111111111,
              "#46039f"
             ],
             [
              0.2222222222222222,
              "#7201a8"
             ],
             [
              0.3333333333333333,
              "#9c179e"
             ],
             [
              0.4444444444444444,
              "#bd3786"
             ],
             [
              0.5555555555555556,
              "#d8576b"
             ],
             [
              0.6666666666666666,
              "#ed7953"
             ],
             [
              0.7777777777777778,
              "#fb9f3a"
             ],
             [
              0.8888888888888888,
              "#fdca26"
             ],
             [
              1.0,
              "#f0f921"
             ]
            ],
            "type": "histogram2dcontour"
           }
          ],
          "mesh3d": [
           {
            "colorbar": {
             "outlinewidth": 0,
             "ticks": ""
            },
            "type": "mesh3d"
           }
          ],
          "parcoords": [
           {
            "line": {
             "colorbar": {
              "outlinewidth": 0,
              "ticks": ""
             }
            },
            "type": "parcoords"
           }
          ],
          "pie": [
           {
            "automargin": true,
            "type": "pie"
           }
          ],
          "scatter": [
           {
            "marker": {
             "colorbar": {
              "outlinewidth": 0,
              "ticks": ""
             }
            },
            "type": "scatter"
           }
          ],
          "scatter3d": [
           {
            "line": {
             "colorbar": {
              "outlinewidth": 0,
              "ticks": ""
             }
            },
            "marker": {
             "colorbar": {
              "outlinewidth": 0,
              "ticks": ""
             }
            },
            "type": "scatter3d"
           }
          ],
          "scattercarpet": [
           {
            "marker": {
             "colorbar": {
              "outlinewidth": 0,
              "ticks": ""
             }
            },
            "type": "scattercarpet"
           }
          ],
          "scattergeo": [
           {
            "marker": {
             "colorbar": {
              "outlinewidth": 0,
              "ticks": ""
             }
            },
            "type": "scattergeo"
           }
          ],
          "scattergl": [
           {
            "marker": {
             "colorbar": {
              "outlinewidth": 0,
              "ticks": ""
             }
            },
            "type": "scattergl"
           }
          ],
          "scattermapbox": [
           {
            "marker": {
             "colorbar": {
              "outlinewidth": 0,
              "ticks": ""
             }
            },
            "type": "scattermapbox"
           }
          ],
          "scatterpolar": [
           {
            "marker": {
             "colorbar": {
              "outlinewidth": 0,
              "ticks": ""
             }
            },
            "type": "scatterpolar"
           }
          ],
          "scatterpolargl": [
           {
            "marker": {
             "colorbar": {
              "outlinewidth": 0,
              "ticks": ""
             }
            },
            "type": "scatterpolargl"
           }
          ],
          "scatterternary": [
           {
            "marker": {
             "colorbar": {
              "outlinewidth": 0,
              "ticks": ""
             }
            },
            "type": "scatterternary"
           }
          ],
          "surface": [
           {
            "colorbar": {
             "outlinewidth": 0,
             "ticks": ""
            },
            "colorscale": [
             [
              0.0,
              "#0d0887"
             ],
             [
              0.1111111111111111,
              "#46039f"
             ],
             [
              0.2222222222222222,
              "#7201a8"
             ],
             [
              0.3333333333333333,
              "#9c179e"
             ],
             [
              0.4444444444444444,
              "#bd3786"
             ],
             [
              0.5555555555555556,
              "#d8576b"
             ],
             [
              0.6666666666666666,
              "#ed7953"
             ],
             [
              0.7777777777777778,
              "#fb9f3a"
             ],
             [
              0.8888888888888888,
              "#fdca26"
             ],
             [
              1.0,
              "#f0f921"
             ]
            ],
            "type": "surface"
           }
          ],
          "table": [
           {
            "cells": {
             "fill": {
              "color": "#EBF0F8"
             },
             "line": {
              "color": "white"
             }
            },
            "header": {
             "fill": {
              "color": "#C8D4E3"
             },
             "line": {
              "color": "white"
             }
            },
            "type": "table"
           }
          ]
         },
         "layout": {
          "annotationdefaults": {
           "arrowcolor": "#2a3f5f",
           "arrowhead": 0,
           "arrowwidth": 1
          },
          "coloraxis": {
           "colorbar": {
            "outlinewidth": 0,
            "ticks": ""
           }
          },
          "colorscale": {
           "diverging": [
            [
             0,
             "#8e0152"
            ],
            [
             0.1,
             "#c51b7d"
            ],
            [
             0.2,
             "#de77ae"
            ],
            [
             0.3,
             "#f1b6da"
            ],
            [
             0.4,
             "#fde0ef"
            ],
            [
             0.5,
             "#f7f7f7"
            ],
            [
             0.6,
             "#e6f5d0"
            ],
            [
             0.7,
             "#b8e186"
            ],
            [
             0.8,
             "#7fbc41"
            ],
            [
             0.9,
             "#4d9221"
            ],
            [
             1,
             "#276419"
            ]
           ],
           "sequential": [
            [
             0.0,
             "#0d0887"
            ],
            [
             0.1111111111111111,
             "#46039f"
            ],
            [
             0.2222222222222222,
             "#7201a8"
            ],
            [
             0.3333333333333333,
             "#9c179e"
            ],
            [
             0.4444444444444444,
             "#bd3786"
            ],
            [
             0.5555555555555556,
             "#d8576b"
            ],
            [
             0.6666666666666666,
             "#ed7953"
            ],
            [
             0.7777777777777778,
             "#fb9f3a"
            ],
            [
             0.8888888888888888,
             "#fdca26"
            ],
            [
             1.0,
             "#f0f921"
            ]
           ],
           "sequentialminus": [
            [
             0.0,
             "#0d0887"
            ],
            [
             0.1111111111111111,
             "#46039f"
            ],
            [
             0.2222222222222222,
             "#7201a8"
            ],
            [
             0.3333333333333333,
             "#9c179e"
            ],
            [
             0.4444444444444444,
             "#bd3786"
            ],
            [
             0.5555555555555556,
             "#d8576b"
            ],
            [
             0.6666666666666666,
             "#ed7953"
            ],
            [
             0.7777777777777778,
             "#fb9f3a"
            ],
            [
             0.8888888888888888,
             "#fdca26"
            ],
            [
             1.0,
             "#f0f921"
            ]
           ]
          },
          "colorway": [
           "#636efa",
           "#EF553B",
           "#00cc96",
           "#ab63fa",
           "#FFA15A",
           "#19d3f3",
           "#FF6692",
           "#B6E880",
           "#FF97FF",
           "#FECB52"
          ],
          "font": {
           "color": "#2a3f5f"
          },
          "geo": {
           "bgcolor": "white",
           "lakecolor": "white",
           "landcolor": "#E5ECF6",
           "showlakes": true,
           "showland": true,
           "subunitcolor": "white"
          },
          "hoverlabel": {
           "align": "left"
          },
          "hovermode": "closest",
          "mapbox": {
           "style": "light"
          },
          "paper_bgcolor": "white",
          "plot_bgcolor": "#E5ECF6",
          "polar": {
           "angularaxis": {
            "gridcolor": "white",
            "linecolor": "white",
            "ticks": ""
           },
           "bgcolor": "#E5ECF6",
           "radialaxis": {
            "gridcolor": "white",
            "linecolor": "white",
            "ticks": ""
           }
          },
          "scene": {
           "xaxis": {
            "backgroundcolor": "#E5ECF6",
            "gridcolor": "white",
            "gridwidth": 2,
            "linecolor": "white",
            "showbackground": true,
            "ticks": "",
            "zerolinecolor": "white"
           },
           "yaxis": {
            "backgroundcolor": "#E5ECF6",
            "gridcolor": "white",
            "gridwidth": 2,
            "linecolor": "white",
            "showbackground": true,
            "ticks": "",
            "zerolinecolor": "white"
           },
           "zaxis": {
            "backgroundcolor": "#E5ECF6",
            "gridcolor": "white",
            "gridwidth": 2,
            "linecolor": "white",
            "showbackground": true,
            "ticks": "",
            "zerolinecolor": "white"
           }
          },
          "shapedefaults": {
           "line": {
            "color": "#2a3f5f"
           }
          },
          "ternary": {
           "aaxis": {
            "gridcolor": "white",
            "linecolor": "white",
            "ticks": ""
           },
           "baxis": {
            "gridcolor": "white",
            "linecolor": "white",
            "ticks": ""
           },
           "bgcolor": "#E5ECF6",
           "caxis": {
            "gridcolor": "white",
            "linecolor": "white",
            "ticks": ""
           }
          },
          "title": {
           "x": 0.05
          },
          "xaxis": {
           "automargin": true,
           "gridcolor": "white",
           "linecolor": "white",
           "ticks": "",
           "title": {
            "standoff": 15
           },
           "zerolinecolor": "white",
           "zerolinewidth": 2
          },
          "yaxis": {
           "automargin": true,
           "gridcolor": "white",
           "linecolor": "white",
           "ticks": "",
           "title": {
            "standoff": 15
           },
           "zerolinecolor": "white",
           "zerolinewidth": 2
          }
         }
        },
        "title": {
         "text": "GREEN"
        },
        "xaxis": {
         "gridcolor": "rgb(0, 0, 0)",
         "showticklabels": false,
         "side": "top",
         "ticks": ""
        },
        "yaxis": {
         "showticklabels": false,
         "ticks": "",
         "ticksuffix": "  "
        }
       }
      },
      "text/html": "<div>\n        \n        \n            <div id=\"c1e0d7b4-0f17-4483-9cf6-5620845e803a\" class=\"plotly-graph-div\" style=\"height:525px; width:100%;\"></div>\n            <script type=\"text/javascript\">\n                require([\"plotly\"], function(Plotly) {\n                    window.PLOTLYENV=window.PLOTLYENV || {};\n                    \n                if (document.getElementById(\"c1e0d7b4-0f17-4483-9cf6-5620845e803a\")) {\n                    Plotly.newPlot(\n                        'c1e0d7b4-0f17-4483-9cf6-5620845e803a',\n                        [{\"colorscale\": [[0.0, \"#0d0887\"], [0.1111111111111111, \"#46039f\"], [0.2222222222222222, \"#7201a8\"], [0.3333333333333333, \"#9c179e\"], [0.4444444444444444, \"#bd3786\"], [0.5555555555555556, \"#d8576b\"], [0.6666666666666666, \"#ed7953\"], [0.7777777777777778, \"#fb9f3a\"], [0.8888888888888888, \"#fdca26\"], [1.0, \"#f0f921\"]], \"reversescale\": false, \"showscale\": true, \"type\": \"heatmap\", \"z\": [[0.7, 0.68, 0.65, 0.61, 0.57, 0.53, 0.49, 0.44, 0.38, 0.31, 0.26, 0.2, 0.11, 0.08, 0.06, 0.05], [0.71, 0.68, 0.65, 0.62, 0.58, 0.54, 0.49, 0.44, 0.38, 0.33, 0.28, 0.24, 0.16, 0.11, 0.08, 0.07], [0.73, 0.7, 0.67, 0.63, 0.6, 0.57, 0.51, 0.43, 0.38, 0.33, 0.3, 0.28, 0.23, 0.17, 0.12, 0.11], [0.74, 0.73, 0.7, 0.66, 0.62, 0.59, 0.53, 0.45, 0.39, 0.35, 0.32, 0.3, 0.26, 0.23, 0.18, 0.15], [0.75, 0.74, 0.72, 0.67, 0.64, 0.62, 0.58, 0.5, 0.45, 0.38, 0.34, 0.32, 0.28, 0.25, 0.21, 0.19], [0.75, 0.74, 0.72, 0.68, 0.65, 0.63, 0.6, 0.56, 0.5, 0.45, 0.37, 0.34, 0.3, 0.25, 0.23, 0.21], [0.78, 0.76, 0.72, 0.69, 0.66, 0.64, 0.61, 0.59, 0.55, 0.51, 0.44, 0.35, 0.31, 0.28, 0.25, 0.25], [0.82, 0.8, 0.75, 0.7, 0.68, 0.65, 0.62, 0.6, 0.57, 0.54, 0.49, 0.4, 0.33, 0.28, 0.27, 0.26], [0.85, 0.82, 0.78, 0.73, 0.69, 0.67, 0.63, 0.6, 0.58, 0.56, 0.51, 0.43, 0.35, 0.3, 0.28, 0.27], [0.87, 0.85, 0.81, 0.76, 0.71, 0.67, 0.64, 0.61, 0.59, 0.57, 0.52, 0.45, 0.37, 0.31, 0.28, 0.27], [0.88, 0.86, 0.82, 0.78, 0.74, 0.7, 0.65, 0.62, 0.6, 0.57, 0.54, 0.47, 0.38, 0.31, 0.26, 0.25], [0.89, 0.87, 0.82, 0.79, 0.75, 0.7, 0.65, 0.62, 0.6, 0.57, 0.55, 0.48, 0.4, 0.3, 0.26, 0.24], [0.88, 0.85, 0.81, 0.79, 0.74, 0.7, 0.66, 0.63, 0.6, 0.58, 0.55, 0.47, 0.39, 0.28, 0.23, 0.2], [0.85, 0.83, 0.81, 0.78, 0.74, 0.71, 0.67, 0.64, 0.6, 0.58, 0.55, 0.47, 0.39, 0.26, 0.22, 0.19], [0.83, 0.82, 0.79, 0.77, 0.74, 0.71, 0.68, 0.64, 0.61, 0.57, 0.54, 0.49, 0.37, 0.27, 0.21, 0.18], [0.82, 0.81, 0.78, 0.76, 0.74, 0.71, 0.68, 0.65, 0.62, 0.57, 0.53, 0.47, 0.38, 0.29, 0.23, 0.2]]}],\n                        {\"annotations\": [{\"font\": {\"color\": \"#000000\", \"size\": 7}, \"showarrow\": false, \"text\": \"0.7\", \"x\": 0, \"xref\": \"x\", \"y\": 0, \"yref\": \"y\"}, {\"font\": {\"color\": \"#000000\", \"size\": 7}, \"showarrow\": false, \"text\": \"0.68\", \"x\": 1, \"xref\": \"x\", \"y\": 0, \"yref\": \"y\"}, {\"font\": {\"color\": \"#000000\", \"size\": 7}, \"showarrow\": false, \"text\": \"0.65\", \"x\": 2, \"xref\": \"x\", \"y\": 0, \"yref\": \"y\"}, {\"font\": {\"color\": \"#000000\", \"size\": 7}, \"showarrow\": false, \"text\": \"0.61\", \"x\": 3, \"xref\": \"x\", \"y\": 0, \"yref\": \"y\"}, {\"font\": {\"color\": \"#000000\", \"size\": 7}, \"showarrow\": false, \"text\": \"0.57\", \"x\": 4, \"xref\": \"x\", \"y\": 0, \"yref\": \"y\"}, {\"font\": {\"color\": \"#000000\", \"size\": 7}, \"showarrow\": false, \"text\": \"0.53\", \"x\": 5, \"xref\": \"x\", \"y\": 0, \"yref\": \"y\"}, {\"font\": {\"color\": \"#000000\", \"size\": 7}, \"showarrow\": false, \"text\": \"0.49\", \"x\": 6, \"xref\": \"x\", \"y\": 0, \"yref\": \"y\"}, {\"font\": {\"color\": \"#FFFFFF\", \"size\": 7}, \"showarrow\": false, \"text\": \"0.44\", \"x\": 7, \"xref\": \"x\", \"y\": 0, \"yref\": \"y\"}, {\"font\": {\"color\": \"#FFFFFF\", \"size\": 7}, \"showarrow\": false, \"text\": \"0.38\", \"x\": 8, \"xref\": \"x\", \"y\": 0, \"yref\": \"y\"}, {\"font\": {\"color\": \"#FFFFFF\", \"size\": 7}, \"showarrow\": false, \"text\": \"0.31\", \"x\": 9, \"xref\": \"x\", \"y\": 0, \"yref\": \"y\"}, {\"font\": {\"color\": \"#FFFFFF\", \"size\": 7}, \"showarrow\": false, \"text\": \"0.26\", \"x\": 10, \"xref\": \"x\", \"y\": 0, \"yref\": \"y\"}, {\"font\": {\"color\": \"#FFFFFF\", \"size\": 7}, \"showarrow\": false, \"text\": \"0.2\", \"x\": 11, \"xref\": \"x\", \"y\": 0, \"yref\": \"y\"}, {\"font\": {\"color\": \"#FFFFFF\", \"size\": 7}, \"showarrow\": false, \"text\": \"0.11\", \"x\": 12, \"xref\": \"x\", \"y\": 0, \"yref\": \"y\"}, {\"font\": {\"color\": \"#FFFFFF\", \"size\": 7}, \"showarrow\": false, \"text\": \"0.08\", \"x\": 13, \"xref\": \"x\", \"y\": 0, \"yref\": \"y\"}, {\"font\": {\"color\": \"#FFFFFF\", \"size\": 7}, \"showarrow\": false, \"text\": \"0.06\", \"x\": 14, \"xref\": \"x\", \"y\": 0, \"yref\": \"y\"}, {\"font\": {\"color\": \"#FFFFFF\", \"size\": 7}, \"showarrow\": false, \"text\": \"0.05\", \"x\": 15, \"xref\": \"x\", \"y\": 0, \"yref\": \"y\"}, {\"font\": {\"color\": \"#000000\", \"size\": 7}, \"showarrow\": false, \"text\": \"0.71\", \"x\": 0, \"xref\": \"x\", \"y\": 1, \"yref\": \"y\"}, {\"font\": {\"color\": \"#000000\", \"size\": 7}, \"showarrow\": false, \"text\": \"0.68\", \"x\": 1, \"xref\": \"x\", \"y\": 1, \"yref\": \"y\"}, {\"font\": {\"color\": \"#000000\", \"size\": 7}, \"showarrow\": false, \"text\": \"0.65\", \"x\": 2, \"xref\": \"x\", \"y\": 1, \"yref\": \"y\"}, {\"font\": {\"color\": \"#000000\", \"size\": 7}, \"showarrow\": false, \"text\": \"0.62\", \"x\": 3, \"xref\": \"x\", \"y\": 1, \"yref\": \"y\"}, {\"font\": {\"color\": \"#000000\", \"size\": 7}, \"showarrow\": false, \"text\": \"0.58\", \"x\": 4, \"xref\": \"x\", \"y\": 1, \"yref\": \"y\"}, {\"font\": {\"color\": \"#000000\", \"size\": 7}, \"showarrow\": false, \"text\": \"0.54\", \"x\": 5, \"xref\": \"x\", \"y\": 1, \"yref\": \"y\"}, {\"font\": {\"color\": \"#000000\", \"size\": 7}, \"showarrow\": false, \"text\": \"0.49\", \"x\": 6, \"xref\": \"x\", \"y\": 1, \"yref\": \"y\"}, {\"font\": {\"color\": \"#FFFFFF\", \"size\": 7}, \"showarrow\": false, \"text\": \"0.44\", \"x\": 7, \"xref\": \"x\", \"y\": 1, \"yref\": \"y\"}, {\"font\": {\"color\": \"#FFFFFF\", \"size\": 7}, \"showarrow\": false, \"text\": \"0.38\", \"x\": 8, \"xref\": \"x\", \"y\": 1, \"yref\": \"y\"}, {\"font\": {\"color\": \"#FFFFFF\", \"size\": 7}, \"showarrow\": false, \"text\": \"0.33\", \"x\": 9, \"xref\": \"x\", \"y\": 1, \"yref\": \"y\"}, {\"font\": {\"color\": \"#FFFFFF\", \"size\": 7}, \"showarrow\": false, \"text\": \"0.28\", \"x\": 10, \"xref\": \"x\", \"y\": 1, \"yref\": \"y\"}, {\"font\": {\"color\": \"#FFFFFF\", \"size\": 7}, \"showarrow\": false, \"text\": \"0.24\", \"x\": 11, \"xref\": \"x\", \"y\": 1, \"yref\": \"y\"}, {\"font\": {\"color\": \"#FFFFFF\", \"size\": 7}, \"showarrow\": false, \"text\": \"0.16\", \"x\": 12, \"xref\": \"x\", \"y\": 1, \"yref\": \"y\"}, {\"font\": {\"color\": \"#FFFFFF\", \"size\": 7}, \"showarrow\": false, \"text\": \"0.11\", \"x\": 13, \"xref\": \"x\", \"y\": 1, \"yref\": \"y\"}, {\"font\": {\"color\": \"#FFFFFF\", \"size\": 7}, \"showarrow\": false, \"text\": \"0.08\", \"x\": 14, \"xref\": \"x\", \"y\": 1, \"yref\": \"y\"}, {\"font\": {\"color\": \"#FFFFFF\", \"size\": 7}, \"showarrow\": false, \"text\": \"0.07\", \"x\": 15, \"xref\": \"x\", \"y\": 1, \"yref\": \"y\"}, {\"font\": {\"color\": \"#000000\", \"size\": 7}, \"showarrow\": false, \"text\": \"0.73\", \"x\": 0, \"xref\": \"x\", \"y\": 2, \"yref\": \"y\"}, {\"font\": {\"color\": \"#000000\", \"size\": 7}, \"showarrow\": false, \"text\": \"0.7\", \"x\": 1, \"xref\": \"x\", \"y\": 2, \"yref\": \"y\"}, {\"font\": {\"color\": \"#000000\", \"size\": 7}, \"showarrow\": false, \"text\": \"0.67\", \"x\": 2, \"xref\": \"x\", \"y\": 2, \"yref\": \"y\"}, {\"font\": {\"color\": \"#000000\", \"size\": 7}, \"showarrow\": false, \"text\": \"0.63\", \"x\": 3, \"xref\": \"x\", \"y\": 2, \"yref\": \"y\"}, {\"font\": {\"color\": \"#000000\", \"size\": 7}, \"showarrow\": false, \"text\": \"0.6\", \"x\": 4, \"xref\": \"x\", \"y\": 2, \"yref\": \"y\"}, {\"font\": {\"color\": \"#000000\", \"size\": 7}, \"showarrow\": false, \"text\": \"0.57\", \"x\": 5, \"xref\": \"x\", \"y\": 2, \"yref\": \"y\"}, {\"font\": {\"color\": \"#000000\", \"size\": 7}, \"showarrow\": false, \"text\": \"0.51\", \"x\": 6, \"xref\": \"x\", \"y\": 2, \"yref\": \"y\"}, {\"font\": {\"color\": \"#FFFFFF\", \"size\": 7}, \"showarrow\": false, \"text\": \"0.43\", \"x\": 7, \"xref\": \"x\", \"y\": 2, \"yref\": \"y\"}, {\"font\": {\"color\": \"#FFFFFF\", \"size\": 7}, \"showarrow\": false, \"text\": \"0.38\", \"x\": 8, \"xref\": \"x\", \"y\": 2, \"yref\": \"y\"}, {\"font\": {\"color\": \"#FFFFFF\", \"size\": 7}, \"showarrow\": false, \"text\": \"0.33\", \"x\": 9, \"xref\": \"x\", \"y\": 2, \"yref\": \"y\"}, {\"font\": {\"color\": \"#FFFFFF\", \"size\": 7}, \"showarrow\": false, \"text\": \"0.3\", \"x\": 10, \"xref\": \"x\", \"y\": 2, \"yref\": \"y\"}, {\"font\": {\"color\": \"#FFFFFF\", \"size\": 7}, \"showarrow\": false, \"text\": \"0.28\", \"x\": 11, \"xref\": \"x\", \"y\": 2, \"yref\": \"y\"}, {\"font\": {\"color\": \"#FFFFFF\", \"size\": 7}, \"showarrow\": false, \"text\": \"0.23\", \"x\": 12, \"xref\": \"x\", \"y\": 2, \"yref\": \"y\"}, {\"font\": {\"color\": \"#FFFFFF\", \"size\": 7}, \"showarrow\": false, \"text\": \"0.17\", \"x\": 13, \"xref\": \"x\", \"y\": 2, \"yref\": \"y\"}, {\"font\": {\"color\": \"#FFFFFF\", \"size\": 7}, \"showarrow\": false, \"text\": \"0.12\", \"x\": 14, \"xref\": \"x\", \"y\": 2, \"yref\": \"y\"}, {\"font\": {\"color\": \"#FFFFFF\", \"size\": 7}, \"showarrow\": false, \"text\": \"0.11\", \"x\": 15, \"xref\": \"x\", \"y\": 2, \"yref\": \"y\"}, {\"font\": {\"color\": \"#000000\", \"size\": 7}, \"showarrow\": false, \"text\": \"0.74\", \"x\": 0, \"xref\": \"x\", \"y\": 3, \"yref\": \"y\"}, {\"font\": {\"color\": \"#000000\", \"size\": 7}, \"showarrow\": false, \"text\": \"0.73\", \"x\": 1, \"xref\": \"x\", \"y\": 3, \"yref\": \"y\"}, {\"font\": {\"color\": \"#000000\", \"size\": 7}, \"showarrow\": false, \"text\": \"0.7\", \"x\": 2, \"xref\": \"x\", \"y\": 3, \"yref\": \"y\"}, {\"font\": {\"color\": \"#000000\", \"size\": 7}, \"showarrow\": false, \"text\": \"0.66\", \"x\": 3, \"xref\": \"x\", \"y\": 3, \"yref\": \"y\"}, {\"font\": {\"color\": \"#000000\", \"size\": 7}, \"showarrow\": false, \"text\": \"0.62\", \"x\": 4, \"xref\": \"x\", \"y\": 3, \"yref\": \"y\"}, {\"font\": {\"color\": \"#000000\", \"size\": 7}, \"showarrow\": false, \"text\": \"0.59\", \"x\": 5, \"xref\": \"x\", \"y\": 3, \"yref\": \"y\"}, {\"font\": {\"color\": \"#000000\", \"size\": 7}, \"showarrow\": false, \"text\": \"0.53\", \"x\": 6, \"xref\": \"x\", \"y\": 3, \"yref\": \"y\"}, {\"font\": {\"color\": \"#FFFFFF\", \"size\": 7}, \"showarrow\": false, \"text\": \"0.45\", \"x\": 7, \"xref\": \"x\", \"y\": 3, \"yref\": \"y\"}, {\"font\": {\"color\": \"#FFFFFF\", \"size\": 7}, \"showarrow\": false, \"text\": \"0.39\", \"x\": 8, \"xref\": \"x\", \"y\": 3, \"yref\": \"y\"}, {\"font\": {\"color\": \"#FFFFFF\", \"size\": 7}, \"showarrow\": false, \"text\": \"0.35\", \"x\": 9, \"xref\": \"x\", \"y\": 3, \"yref\": \"y\"}, {\"font\": {\"color\": \"#FFFFFF\", \"size\": 7}, \"showarrow\": false, \"text\": \"0.32\", \"x\": 10, \"xref\": \"x\", \"y\": 3, \"yref\": \"y\"}, {\"font\": {\"color\": \"#FFFFFF\", \"size\": 7}, \"showarrow\": false, \"text\": \"0.3\", \"x\": 11, \"xref\": \"x\", \"y\": 3, \"yref\": \"y\"}, {\"font\": {\"color\": \"#FFFFFF\", \"size\": 7}, \"showarrow\": false, \"text\": \"0.26\", \"x\": 12, \"xref\": \"x\", \"y\": 3, \"yref\": \"y\"}, {\"font\": {\"color\": \"#FFFFFF\", \"size\": 7}, \"showarrow\": false, \"text\": \"0.23\", \"x\": 13, \"xref\": \"x\", \"y\": 3, \"yref\": \"y\"}, {\"font\": {\"color\": \"#FFFFFF\", \"size\": 7}, \"showarrow\": false, \"text\": \"0.18\", \"x\": 14, \"xref\": \"x\", \"y\": 3, \"yref\": \"y\"}, {\"font\": {\"color\": \"#FFFFFF\", \"size\": 7}, \"showarrow\": false, \"text\": \"0.15\", \"x\": 15, \"xref\": \"x\", \"y\": 3, \"yref\": \"y\"}, {\"font\": {\"color\": \"#000000\", \"size\": 7}, \"showarrow\": false, \"text\": \"0.75\", \"x\": 0, \"xref\": \"x\", \"y\": 4, \"yref\": \"y\"}, {\"font\": {\"color\": \"#000000\", \"size\": 7}, \"showarrow\": false, \"text\": \"0.74\", \"x\": 1, \"xref\": \"x\", \"y\": 4, \"yref\": \"y\"}, {\"font\": {\"color\": \"#000000\", \"size\": 7}, \"showarrow\": false, \"text\": \"0.72\", \"x\": 2, \"xref\": \"x\", \"y\": 4, \"yref\": \"y\"}, {\"font\": {\"color\": \"#000000\", \"size\": 7}, \"showarrow\": false, \"text\": \"0.67\", \"x\": 3, \"xref\": \"x\", \"y\": 4, \"yref\": \"y\"}, {\"font\": {\"color\": \"#000000\", \"size\": 7}, \"showarrow\": false, \"text\": \"0.64\", \"x\": 4, \"xref\": \"x\", \"y\": 4, \"yref\": \"y\"}, {\"font\": {\"color\": \"#000000\", \"size\": 7}, \"showarrow\": false, \"text\": \"0.62\", \"x\": 5, \"xref\": \"x\", \"y\": 4, \"yref\": \"y\"}, {\"font\": {\"color\": \"#000000\", \"size\": 7}, \"showarrow\": false, \"text\": \"0.58\", \"x\": 6, \"xref\": \"x\", \"y\": 4, \"yref\": \"y\"}, {\"font\": {\"color\": \"#000000\", \"size\": 7}, \"showarrow\": false, \"text\": \"0.5\", \"x\": 7, \"xref\": \"x\", \"y\": 4, \"yref\": \"y\"}, {\"font\": {\"color\": \"#FFFFFF\", \"size\": 7}, \"showarrow\": false, \"text\": \"0.45\", \"x\": 8, \"xref\": \"x\", \"y\": 4, \"yref\": \"y\"}, {\"font\": {\"color\": \"#FFFFFF\", \"size\": 7}, \"showarrow\": false, \"text\": \"0.38\", \"x\": 9, \"xref\": \"x\", \"y\": 4, \"yref\": \"y\"}, {\"font\": {\"color\": \"#FFFFFF\", \"size\": 7}, \"showarrow\": false, \"text\": \"0.34\", \"x\": 10, \"xref\": \"x\", \"y\": 4, \"yref\": \"y\"}, {\"font\": {\"color\": \"#FFFFFF\", \"size\": 7}, \"showarrow\": false, \"text\": \"0.32\", \"x\": 11, \"xref\": \"x\", \"y\": 4, \"yref\": \"y\"}, {\"font\": {\"color\": \"#FFFFFF\", \"size\": 7}, \"showarrow\": false, \"text\": \"0.28\", \"x\": 12, \"xref\": \"x\", \"y\": 4, \"yref\": \"y\"}, {\"font\": {\"color\": \"#FFFFFF\", \"size\": 7}, \"showarrow\": false, \"text\": \"0.25\", \"x\": 13, \"xref\": \"x\", \"y\": 4, \"yref\": \"y\"}, {\"font\": {\"color\": \"#FFFFFF\", \"size\": 7}, \"showarrow\": false, \"text\": \"0.21\", \"x\": 14, \"xref\": \"x\", \"y\": 4, \"yref\": \"y\"}, {\"font\": {\"color\": \"#FFFFFF\", \"size\": 7}, \"showarrow\": false, \"text\": \"0.19\", \"x\": 15, \"xref\": \"x\", \"y\": 4, \"yref\": \"y\"}, {\"font\": {\"color\": \"#000000\", \"size\": 7}, \"showarrow\": false, \"text\": \"0.75\", \"x\": 0, \"xref\": \"x\", \"y\": 5, \"yref\": \"y\"}, {\"font\": {\"color\": \"#000000\", \"size\": 7}, \"showarrow\": false, \"text\": \"0.74\", \"x\": 1, \"xref\": \"x\", \"y\": 5, \"yref\": \"y\"}, {\"font\": {\"color\": \"#000000\", \"size\": 7}, \"showarrow\": false, \"text\": \"0.72\", \"x\": 2, \"xref\": \"x\", \"y\": 5, \"yref\": \"y\"}, {\"font\": {\"color\": \"#000000\", \"size\": 7}, \"showarrow\": false, \"text\": \"0.68\", \"x\": 3, \"xref\": \"x\", \"y\": 5, \"yref\": \"y\"}, {\"font\": {\"color\": \"#000000\", \"size\": 7}, \"showarrow\": false, \"text\": \"0.65\", \"x\": 4, \"xref\": \"x\", \"y\": 5, \"yref\": \"y\"}, {\"font\": {\"color\": \"#000000\", \"size\": 7}, \"showarrow\": false, \"text\": \"0.63\", \"x\": 5, \"xref\": \"x\", \"y\": 5, \"yref\": \"y\"}, {\"font\": {\"color\": \"#000000\", \"size\": 7}, \"showarrow\": false, \"text\": \"0.6\", \"x\": 6, \"xref\": \"x\", \"y\": 5, \"yref\": \"y\"}, {\"font\": {\"color\": \"#000000\", \"size\": 7}, \"showarrow\": false, \"text\": \"0.56\", \"x\": 7, \"xref\": \"x\", \"y\": 5, \"yref\": \"y\"}, {\"font\": {\"color\": \"#000000\", \"size\": 7}, \"showarrow\": false, \"text\": \"0.5\", \"x\": 8, \"xref\": \"x\", \"y\": 5, \"yref\": \"y\"}, {\"font\": {\"color\": \"#FFFFFF\", \"size\": 7}, \"showarrow\": false, \"text\": \"0.45\", \"x\": 9, \"xref\": \"x\", \"y\": 5, \"yref\": \"y\"}, {\"font\": {\"color\": \"#FFFFFF\", \"size\": 7}, \"showarrow\": false, \"text\": \"0.37\", \"x\": 10, \"xref\": \"x\", \"y\": 5, \"yref\": \"y\"}, {\"font\": {\"color\": \"#FFFFFF\", \"size\": 7}, \"showarrow\": false, \"text\": \"0.34\", \"x\": 11, \"xref\": \"x\", \"y\": 5, \"yref\": \"y\"}, {\"font\": {\"color\": \"#FFFFFF\", \"size\": 7}, \"showarrow\": false, \"text\": \"0.3\", \"x\": 12, \"xref\": \"x\", \"y\": 5, \"yref\": \"y\"}, {\"font\": {\"color\": \"#FFFFFF\", \"size\": 7}, \"showarrow\": false, \"text\": \"0.25\", \"x\": 13, \"xref\": \"x\", \"y\": 5, \"yref\": \"y\"}, {\"font\": {\"color\": \"#FFFFFF\", \"size\": 7}, \"showarrow\": false, \"text\": \"0.23\", \"x\": 14, \"xref\": \"x\", \"y\": 5, \"yref\": \"y\"}, {\"font\": {\"color\": \"#FFFFFF\", \"size\": 7}, \"showarrow\": false, \"text\": \"0.21\", \"x\": 15, \"xref\": \"x\", \"y\": 5, \"yref\": \"y\"}, {\"font\": {\"color\": \"#000000\", \"size\": 7}, \"showarrow\": false, \"text\": \"0.78\", \"x\": 0, \"xref\": \"x\", \"y\": 6, \"yref\": \"y\"}, {\"font\": {\"color\": \"#000000\", \"size\": 7}, \"showarrow\": false, \"text\": \"0.76\", \"x\": 1, \"xref\": \"x\", \"y\": 6, \"yref\": \"y\"}, {\"font\": {\"color\": \"#000000\", \"size\": 7}, \"showarrow\": false, \"text\": \"0.72\", \"x\": 2, \"xref\": \"x\", \"y\": 6, \"yref\": \"y\"}, {\"font\": {\"color\": \"#000000\", \"size\": 7}, \"showarrow\": false, \"text\": \"0.69\", \"x\": 3, \"xref\": \"x\", \"y\": 6, \"yref\": \"y\"}, {\"font\": {\"color\": \"#000000\", \"size\": 7}, \"showarrow\": false, \"text\": \"0.66\", \"x\": 4, \"xref\": \"x\", \"y\": 6, \"yref\": \"y\"}, {\"font\": {\"color\": \"#000000\", \"size\": 7}, \"showarrow\": false, \"text\": \"0.64\", \"x\": 5, \"xref\": \"x\", \"y\": 6, \"yref\": \"y\"}, {\"font\": {\"color\": \"#000000\", \"size\": 7}, \"showarrow\": false, \"text\": \"0.61\", \"x\": 6, \"xref\": \"x\", \"y\": 6, \"yref\": \"y\"}, {\"font\": {\"color\": \"#000000\", \"size\": 7}, \"showarrow\": false, \"text\": \"0.59\", \"x\": 7, \"xref\": \"x\", \"y\": 6, \"yref\": \"y\"}, {\"font\": {\"color\": \"#000000\", \"size\": 7}, \"showarrow\": false, \"text\": \"0.55\", \"x\": 8, \"xref\": \"x\", \"y\": 6, \"yref\": \"y\"}, {\"font\": {\"color\": \"#000000\", \"size\": 7}, \"showarrow\": false, \"text\": \"0.51\", \"x\": 9, \"xref\": \"x\", \"y\": 6, \"yref\": \"y\"}, {\"font\": {\"color\": \"#FFFFFF\", \"size\": 7}, \"showarrow\": false, \"text\": \"0.44\", \"x\": 10, \"xref\": \"x\", \"y\": 6, \"yref\": \"y\"}, {\"font\": {\"color\": \"#FFFFFF\", \"size\": 7}, \"showarrow\": false, \"text\": \"0.35\", \"x\": 11, \"xref\": \"x\", \"y\": 6, \"yref\": \"y\"}, {\"font\": {\"color\": \"#FFFFFF\", \"size\": 7}, \"showarrow\": false, \"text\": \"0.31\", \"x\": 12, \"xref\": \"x\", \"y\": 6, \"yref\": \"y\"}, {\"font\": {\"color\": \"#FFFFFF\", \"size\": 7}, \"showarrow\": false, \"text\": \"0.28\", \"x\": 13, \"xref\": \"x\", \"y\": 6, \"yref\": \"y\"}, {\"font\": {\"color\": \"#FFFFFF\", \"size\": 7}, \"showarrow\": false, \"text\": \"0.25\", \"x\": 14, \"xref\": \"x\", \"y\": 6, \"yref\": \"y\"}, {\"font\": {\"color\": \"#FFFFFF\", \"size\": 7}, \"showarrow\": false, \"text\": \"0.25\", \"x\": 15, \"xref\": \"x\", \"y\": 6, \"yref\": \"y\"}, {\"font\": {\"color\": \"#000000\", \"size\": 7}, \"showarrow\": false, \"text\": \"0.82\", \"x\": 0, \"xref\": \"x\", \"y\": 7, \"yref\": \"y\"}, {\"font\": {\"color\": \"#000000\", \"size\": 7}, \"showarrow\": false, \"text\": \"0.8\", \"x\": 1, \"xref\": \"x\", \"y\": 7, \"yref\": \"y\"}, {\"font\": {\"color\": \"#000000\", \"size\": 7}, \"showarrow\": false, \"text\": \"0.75\", \"x\": 2, \"xref\": \"x\", \"y\": 7, \"yref\": \"y\"}, {\"font\": {\"color\": \"#000000\", \"size\": 7}, \"showarrow\": false, \"text\": \"0.7\", \"x\": 3, \"xref\": \"x\", \"y\": 7, \"yref\": \"y\"}, {\"font\": {\"color\": \"#000000\", \"size\": 7}, \"showarrow\": false, \"text\": \"0.68\", \"x\": 4, \"xref\": \"x\", \"y\": 7, \"yref\": \"y\"}, {\"font\": {\"color\": \"#000000\", \"size\": 7}, \"showarrow\": false, \"text\": \"0.65\", \"x\": 5, \"xref\": \"x\", \"y\": 7, \"yref\": \"y\"}, {\"font\": {\"color\": \"#000000\", \"size\": 7}, \"showarrow\": false, \"text\": \"0.62\", \"x\": 6, \"xref\": \"x\", \"y\": 7, \"yref\": \"y\"}, {\"font\": {\"color\": \"#000000\", \"size\": 7}, \"showarrow\": false, \"text\": \"0.6\", \"x\": 7, \"xref\": \"x\", \"y\": 7, \"yref\": \"y\"}, {\"font\": {\"color\": \"#000000\", \"size\": 7}, \"showarrow\": false, \"text\": \"0.57\", \"x\": 8, \"xref\": \"x\", \"y\": 7, \"yref\": \"y\"}, {\"font\": {\"color\": \"#000000\", \"size\": 7}, \"showarrow\": false, \"text\": \"0.54\", \"x\": 9, \"xref\": \"x\", \"y\": 7, \"yref\": \"y\"}, {\"font\": {\"color\": \"#000000\", \"size\": 7}, \"showarrow\": false, \"text\": \"0.49\", \"x\": 10, \"xref\": \"x\", \"y\": 7, \"yref\": \"y\"}, {\"font\": {\"color\": \"#FFFFFF\", \"size\": 7}, \"showarrow\": false, \"text\": \"0.4\", \"x\": 11, \"xref\": \"x\", \"y\": 7, \"yref\": \"y\"}, {\"font\": {\"color\": \"#FFFFFF\", \"size\": 7}, \"showarrow\": false, \"text\": \"0.33\", \"x\": 12, \"xref\": \"x\", \"y\": 7, \"yref\": \"y\"}, {\"font\": {\"color\": \"#FFFFFF\", \"size\": 7}, \"showarrow\": false, \"text\": \"0.28\", \"x\": 13, \"xref\": \"x\", \"y\": 7, \"yref\": \"y\"}, {\"font\": {\"color\": \"#FFFFFF\", \"size\": 7}, \"showarrow\": false, \"text\": \"0.27\", \"x\": 14, \"xref\": \"x\", \"y\": 7, \"yref\": \"y\"}, {\"font\": {\"color\": \"#FFFFFF\", \"size\": 7}, \"showarrow\": false, \"text\": \"0.26\", \"x\": 15, \"xref\": \"x\", \"y\": 7, \"yref\": \"y\"}, {\"font\": {\"color\": \"#000000\", \"size\": 7}, \"showarrow\": false, \"text\": \"0.85\", \"x\": 0, \"xref\": \"x\", \"y\": 8, \"yref\": \"y\"}, {\"font\": {\"color\": \"#000000\", \"size\": 7}, \"showarrow\": false, \"text\": \"0.82\", \"x\": 1, \"xref\": \"x\", \"y\": 8, \"yref\": \"y\"}, {\"font\": {\"color\": \"#000000\", \"size\": 7}, \"showarrow\": false, \"text\": \"0.78\", \"x\": 2, \"xref\": \"x\", \"y\": 8, \"yref\": \"y\"}, {\"font\": {\"color\": \"#000000\", \"size\": 7}, \"showarrow\": false, \"text\": \"0.73\", \"x\": 3, \"xref\": \"x\", \"y\": 8, \"yref\": \"y\"}, {\"font\": {\"color\": \"#000000\", \"size\": 7}, \"showarrow\": false, \"text\": \"0.69\", \"x\": 4, \"xref\": \"x\", \"y\": 8, \"yref\": \"y\"}, {\"font\": {\"color\": \"#000000\", \"size\": 7}, \"showarrow\": false, \"text\": \"0.67\", \"x\": 5, \"xref\": \"x\", \"y\": 8, \"yref\": \"y\"}, {\"font\": {\"color\": \"#000000\", \"size\": 7}, \"showarrow\": false, \"text\": \"0.63\", \"x\": 6, \"xref\": \"x\", \"y\": 8, \"yref\": \"y\"}, {\"font\": {\"color\": \"#000000\", \"size\": 7}, \"showarrow\": false, \"text\": \"0.6\", \"x\": 7, \"xref\": \"x\", \"y\": 8, \"yref\": \"y\"}, {\"font\": {\"color\": \"#000000\", \"size\": 7}, \"showarrow\": false, \"text\": \"0.58\", \"x\": 8, \"xref\": \"x\", \"y\": 8, \"yref\": \"y\"}, {\"font\": {\"color\": \"#000000\", \"size\": 7}, \"showarrow\": false, \"text\": \"0.56\", \"x\": 9, \"xref\": \"x\", \"y\": 8, \"yref\": \"y\"}, {\"font\": {\"color\": \"#000000\", \"size\": 7}, \"showarrow\": false, \"text\": \"0.51\", \"x\": 10, \"xref\": \"x\", \"y\": 8, \"yref\": \"y\"}, {\"font\": {\"color\": \"#FFFFFF\", \"size\": 7}, \"showarrow\": false, \"text\": \"0.43\", \"x\": 11, \"xref\": \"x\", \"y\": 8, \"yref\": \"y\"}, {\"font\": {\"color\": \"#FFFFFF\", \"size\": 7}, \"showarrow\": false, \"text\": \"0.35\", \"x\": 12, \"xref\": \"x\", \"y\": 8, \"yref\": \"y\"}, {\"font\": {\"color\": \"#FFFFFF\", \"size\": 7}, \"showarrow\": false, \"text\": \"0.3\", \"x\": 13, \"xref\": \"x\", \"y\": 8, \"yref\": \"y\"}, {\"font\": {\"color\": \"#FFFFFF\", \"size\": 7}, \"showarrow\": false, \"text\": \"0.28\", \"x\": 14, \"xref\": \"x\", \"y\": 8, \"yref\": \"y\"}, {\"font\": {\"color\": \"#FFFFFF\", \"size\": 7}, \"showarrow\": false, \"text\": \"0.27\", \"x\": 15, \"xref\": \"x\", \"y\": 8, \"yref\": \"y\"}, {\"font\": {\"color\": \"#000000\", \"size\": 7}, \"showarrow\": false, \"text\": \"0.87\", \"x\": 0, \"xref\": \"x\", \"y\": 9, \"yref\": \"y\"}, {\"font\": {\"color\": \"#000000\", \"size\": 7}, \"showarrow\": false, \"text\": \"0.85\", \"x\": 1, \"xref\": \"x\", \"y\": 9, \"yref\": \"y\"}, {\"font\": {\"color\": \"#000000\", \"size\": 7}, \"showarrow\": false, \"text\": \"0.81\", \"x\": 2, \"xref\": \"x\", \"y\": 9, \"yref\": \"y\"}, {\"font\": {\"color\": \"#000000\", \"size\": 7}, \"showarrow\": false, \"text\": \"0.76\", \"x\": 3, \"xref\": \"x\", \"y\": 9, \"yref\": \"y\"}, {\"font\": {\"color\": \"#000000\", \"size\": 7}, \"showarrow\": false, \"text\": \"0.71\", \"x\": 4, \"xref\": \"x\", \"y\": 9, \"yref\": \"y\"}, {\"font\": {\"color\": \"#000000\", \"size\": 7}, \"showarrow\": false, \"text\": \"0.67\", \"x\": 5, \"xref\": \"x\", \"y\": 9, \"yref\": \"y\"}, {\"font\": {\"color\": \"#000000\", \"size\": 7}, \"showarrow\": false, \"text\": \"0.64\", \"x\": 6, \"xref\": \"x\", \"y\": 9, \"yref\": \"y\"}, {\"font\": {\"color\": \"#000000\", \"size\": 7}, \"showarrow\": false, \"text\": \"0.61\", \"x\": 7, \"xref\": \"x\", \"y\": 9, \"yref\": \"y\"}, {\"font\": {\"color\": \"#000000\", \"size\": 7}, \"showarrow\": false, \"text\": \"0.59\", \"x\": 8, \"xref\": \"x\", \"y\": 9, \"yref\": \"y\"}, {\"font\": {\"color\": \"#000000\", \"size\": 7}, \"showarrow\": false, \"text\": \"0.57\", \"x\": 9, \"xref\": \"x\", \"y\": 9, \"yref\": \"y\"}, {\"font\": {\"color\": \"#000000\", \"size\": 7}, \"showarrow\": false, \"text\": \"0.52\", \"x\": 10, \"xref\": \"x\", \"y\": 9, \"yref\": \"y\"}, {\"font\": {\"color\": \"#FFFFFF\", \"size\": 7}, \"showarrow\": false, \"text\": \"0.45\", \"x\": 11, \"xref\": \"x\", \"y\": 9, \"yref\": \"y\"}, {\"font\": {\"color\": \"#FFFFFF\", \"size\": 7}, \"showarrow\": false, \"text\": \"0.37\", \"x\": 12, \"xref\": \"x\", \"y\": 9, \"yref\": \"y\"}, {\"font\": {\"color\": \"#FFFFFF\", \"size\": 7}, \"showarrow\": false, \"text\": \"0.31\", \"x\": 13, \"xref\": \"x\", \"y\": 9, \"yref\": \"y\"}, {\"font\": {\"color\": \"#FFFFFF\", \"size\": 7}, \"showarrow\": false, \"text\": \"0.28\", \"x\": 14, \"xref\": \"x\", \"y\": 9, \"yref\": \"y\"}, {\"font\": {\"color\": \"#FFFFFF\", \"size\": 7}, \"showarrow\": false, \"text\": \"0.27\", \"x\": 15, \"xref\": \"x\", \"y\": 9, \"yref\": \"y\"}, {\"font\": {\"color\": \"#000000\", \"size\": 7}, \"showarrow\": false, \"text\": \"0.88\", \"x\": 0, \"xref\": \"x\", \"y\": 10, \"yref\": \"y\"}, {\"font\": {\"color\": \"#000000\", \"size\": 7}, \"showarrow\": false, \"text\": \"0.86\", \"x\": 1, \"xref\": \"x\", \"y\": 10, \"yref\": \"y\"}, {\"font\": {\"color\": \"#000000\", \"size\": 7}, \"showarrow\": false, \"text\": \"0.82\", \"x\": 2, \"xref\": \"x\", \"y\": 10, \"yref\": \"y\"}, {\"font\": {\"color\": \"#000000\", \"size\": 7}, \"showarrow\": false, \"text\": \"0.78\", \"x\": 3, \"xref\": \"x\", \"y\": 10, \"yref\": \"y\"}, {\"font\": {\"color\": \"#000000\", \"size\": 7}, \"showarrow\": false, \"text\": \"0.74\", \"x\": 4, \"xref\": \"x\", \"y\": 10, \"yref\": \"y\"}, {\"font\": {\"color\": \"#000000\", \"size\": 7}, \"showarrow\": false, \"text\": \"0.7\", \"x\": 5, \"xref\": \"x\", \"y\": 10, \"yref\": \"y\"}, {\"font\": {\"color\": \"#000000\", \"size\": 7}, \"showarrow\": false, \"text\": \"0.65\", \"x\": 6, \"xref\": \"x\", \"y\": 10, \"yref\": \"y\"}, {\"font\": {\"color\": \"#000000\", \"size\": 7}, \"showarrow\": false, \"text\": \"0.62\", \"x\": 7, \"xref\": \"x\", \"y\": 10, \"yref\": \"y\"}, {\"font\": {\"color\": \"#000000\", \"size\": 7}, \"showarrow\": false, \"text\": \"0.6\", \"x\": 8, \"xref\": \"x\", \"y\": 10, \"yref\": \"y\"}, {\"font\": {\"color\": \"#000000\", \"size\": 7}, \"showarrow\": false, \"text\": \"0.57\", \"x\": 9, \"xref\": \"x\", \"y\": 10, \"yref\": \"y\"}, {\"font\": {\"color\": \"#000000\", \"size\": 7}, \"showarrow\": false, \"text\": \"0.54\", \"x\": 10, \"xref\": \"x\", \"y\": 10, \"yref\": \"y\"}, {\"font\": {\"color\": \"#FFFFFF\", \"size\": 7}, \"showarrow\": false, \"text\": \"0.47\", \"x\": 11, \"xref\": \"x\", \"y\": 10, \"yref\": \"y\"}, {\"font\": {\"color\": \"#FFFFFF\", \"size\": 7}, \"showarrow\": false, \"text\": \"0.38\", \"x\": 12, \"xref\": \"x\", \"y\": 10, \"yref\": \"y\"}, {\"font\": {\"color\": \"#FFFFFF\", \"size\": 7}, \"showarrow\": false, \"text\": \"0.31\", \"x\": 13, \"xref\": \"x\", \"y\": 10, \"yref\": \"y\"}, {\"font\": {\"color\": \"#FFFFFF\", \"size\": 7}, \"showarrow\": false, \"text\": \"0.26\", \"x\": 14, \"xref\": \"x\", \"y\": 10, \"yref\": \"y\"}, {\"font\": {\"color\": \"#FFFFFF\", \"size\": 7}, \"showarrow\": false, \"text\": \"0.25\", \"x\": 15, \"xref\": \"x\", \"y\": 10, \"yref\": \"y\"}, {\"font\": {\"color\": \"#000000\", \"size\": 7}, \"showarrow\": false, \"text\": \"0.89\", \"x\": 0, \"xref\": \"x\", \"y\": 11, \"yref\": \"y\"}, {\"font\": {\"color\": \"#000000\", \"size\": 7}, \"showarrow\": false, \"text\": \"0.87\", \"x\": 1, \"xref\": \"x\", \"y\": 11, \"yref\": \"y\"}, {\"font\": {\"color\": \"#000000\", \"size\": 7}, \"showarrow\": false, \"text\": \"0.82\", \"x\": 2, \"xref\": \"x\", \"y\": 11, \"yref\": \"y\"}, {\"font\": {\"color\": \"#000000\", \"size\": 7}, \"showarrow\": false, \"text\": \"0.79\", \"x\": 3, \"xref\": \"x\", \"y\": 11, \"yref\": \"y\"}, {\"font\": {\"color\": \"#000000\", \"size\": 7}, \"showarrow\": false, \"text\": \"0.75\", \"x\": 4, \"xref\": \"x\", \"y\": 11, \"yref\": \"y\"}, {\"font\": {\"color\": \"#000000\", \"size\": 7}, \"showarrow\": false, \"text\": \"0.7\", \"x\": 5, \"xref\": \"x\", \"y\": 11, \"yref\": \"y\"}, {\"font\": {\"color\": \"#000000\", \"size\": 7}, \"showarrow\": false, \"text\": \"0.65\", \"x\": 6, \"xref\": \"x\", \"y\": 11, \"yref\": \"y\"}, {\"font\": {\"color\": \"#000000\", \"size\": 7}, \"showarrow\": false, \"text\": \"0.62\", \"x\": 7, \"xref\": \"x\", \"y\": 11, \"yref\": \"y\"}, {\"font\": {\"color\": \"#000000\", \"size\": 7}, \"showarrow\": false, \"text\": \"0.6\", \"x\": 8, \"xref\": \"x\", \"y\": 11, \"yref\": \"y\"}, {\"font\": {\"color\": \"#000000\", \"size\": 7}, \"showarrow\": false, \"text\": \"0.57\", \"x\": 9, \"xref\": \"x\", \"y\": 11, \"yref\": \"y\"}, {\"font\": {\"color\": \"#000000\", \"size\": 7}, \"showarrow\": false, \"text\": \"0.55\", \"x\": 10, \"xref\": \"x\", \"y\": 11, \"yref\": \"y\"}, {\"font\": {\"color\": \"#000000\", \"size\": 7}, \"showarrow\": false, \"text\": \"0.48\", \"x\": 11, \"xref\": \"x\", \"y\": 11, \"yref\": \"y\"}, {\"font\": {\"color\": \"#FFFFFF\", \"size\": 7}, \"showarrow\": false, \"text\": \"0.4\", \"x\": 12, \"xref\": \"x\", \"y\": 11, \"yref\": \"y\"}, {\"font\": {\"color\": \"#FFFFFF\", \"size\": 7}, \"showarrow\": false, \"text\": \"0.3\", \"x\": 13, \"xref\": \"x\", \"y\": 11, \"yref\": \"y\"}, {\"font\": {\"color\": \"#FFFFFF\", \"size\": 7}, \"showarrow\": false, \"text\": \"0.26\", \"x\": 14, \"xref\": \"x\", \"y\": 11, \"yref\": \"y\"}, {\"font\": {\"color\": \"#FFFFFF\", \"size\": 7}, \"showarrow\": false, \"text\": \"0.24\", \"x\": 15, \"xref\": \"x\", \"y\": 11, \"yref\": \"y\"}, {\"font\": {\"color\": \"#000000\", \"size\": 7}, \"showarrow\": false, \"text\": \"0.88\", \"x\": 0, \"xref\": \"x\", \"y\": 12, \"yref\": \"y\"}, {\"font\": {\"color\": \"#000000\", \"size\": 7}, \"showarrow\": false, \"text\": \"0.85\", \"x\": 1, \"xref\": \"x\", \"y\": 12, \"yref\": \"y\"}, {\"font\": {\"color\": \"#000000\", \"size\": 7}, \"showarrow\": false, \"text\": \"0.81\", \"x\": 2, \"xref\": \"x\", \"y\": 12, \"yref\": \"y\"}, {\"font\": {\"color\": \"#000000\", \"size\": 7}, \"showarrow\": false, \"text\": \"0.79\", \"x\": 3, \"xref\": \"x\", \"y\": 12, \"yref\": \"y\"}, {\"font\": {\"color\": \"#000000\", \"size\": 7}, \"showarrow\": false, \"text\": \"0.74\", \"x\": 4, \"xref\": \"x\", \"y\": 12, \"yref\": \"y\"}, {\"font\": {\"color\": \"#000000\", \"size\": 7}, \"showarrow\": false, \"text\": \"0.7\", \"x\": 5, \"xref\": \"x\", \"y\": 12, \"yref\": \"y\"}, {\"font\": {\"color\": \"#000000\", \"size\": 7}, \"showarrow\": false, \"text\": \"0.66\", \"x\": 6, \"xref\": \"x\", \"y\": 12, \"yref\": \"y\"}, {\"font\": {\"color\": \"#000000\", \"size\": 7}, \"showarrow\": false, \"text\": \"0.63\", \"x\": 7, \"xref\": \"x\", \"y\": 12, \"yref\": \"y\"}, {\"font\": {\"color\": \"#000000\", \"size\": 7}, \"showarrow\": false, \"text\": \"0.6\", \"x\": 8, \"xref\": \"x\", \"y\": 12, \"yref\": \"y\"}, {\"font\": {\"color\": \"#000000\", \"size\": 7}, \"showarrow\": false, \"text\": \"0.58\", \"x\": 9, \"xref\": \"x\", \"y\": 12, \"yref\": \"y\"}, {\"font\": {\"color\": \"#000000\", \"size\": 7}, \"showarrow\": false, \"text\": \"0.55\", \"x\": 10, \"xref\": \"x\", \"y\": 12, \"yref\": \"y\"}, {\"font\": {\"color\": \"#FFFFFF\", \"size\": 7}, \"showarrow\": false, \"text\": \"0.47\", \"x\": 11, \"xref\": \"x\", \"y\": 12, \"yref\": \"y\"}, {\"font\": {\"color\": \"#FFFFFF\", \"size\": 7}, \"showarrow\": false, \"text\": \"0.39\", \"x\": 12, \"xref\": \"x\", \"y\": 12, \"yref\": \"y\"}, {\"font\": {\"color\": \"#FFFFFF\", \"size\": 7}, \"showarrow\": false, \"text\": \"0.28\", \"x\": 13, \"xref\": \"x\", \"y\": 12, \"yref\": \"y\"}, {\"font\": {\"color\": \"#FFFFFF\", \"size\": 7}, \"showarrow\": false, \"text\": \"0.23\", \"x\": 14, \"xref\": \"x\", \"y\": 12, \"yref\": \"y\"}, {\"font\": {\"color\": \"#FFFFFF\", \"size\": 7}, \"showarrow\": false, \"text\": \"0.2\", \"x\": 15, \"xref\": \"x\", \"y\": 12, \"yref\": \"y\"}, {\"font\": {\"color\": \"#000000\", \"size\": 7}, \"showarrow\": false, \"text\": \"0.85\", \"x\": 0, \"xref\": \"x\", \"y\": 13, \"yref\": \"y\"}, {\"font\": {\"color\": \"#000000\", \"size\": 7}, \"showarrow\": false, \"text\": \"0.83\", \"x\": 1, \"xref\": \"x\", \"y\": 13, \"yref\": \"y\"}, {\"font\": {\"color\": \"#000000\", \"size\": 7}, \"showarrow\": false, \"text\": \"0.81\", \"x\": 2, \"xref\": \"x\", \"y\": 13, \"yref\": \"y\"}, {\"font\": {\"color\": \"#000000\", \"size\": 7}, \"showarrow\": false, \"text\": \"0.78\", \"x\": 3, \"xref\": \"x\", \"y\": 13, \"yref\": \"y\"}, {\"font\": {\"color\": \"#000000\", \"size\": 7}, \"showarrow\": false, \"text\": \"0.74\", \"x\": 4, \"xref\": \"x\", \"y\": 13, \"yref\": \"y\"}, {\"font\": {\"color\": \"#000000\", \"size\": 7}, \"showarrow\": false, \"text\": \"0.71\", \"x\": 5, \"xref\": \"x\", \"y\": 13, \"yref\": \"y\"}, {\"font\": {\"color\": \"#000000\", \"size\": 7}, \"showarrow\": false, \"text\": \"0.67\", \"x\": 6, \"xref\": \"x\", \"y\": 13, \"yref\": \"y\"}, {\"font\": {\"color\": \"#000000\", \"size\": 7}, \"showarrow\": false, \"text\": \"0.64\", \"x\": 7, \"xref\": \"x\", \"y\": 13, \"yref\": \"y\"}, {\"font\": {\"color\": \"#000000\", \"size\": 7}, \"showarrow\": false, \"text\": \"0.6\", \"x\": 8, \"xref\": \"x\", \"y\": 13, \"yref\": \"y\"}, {\"font\": {\"color\": \"#000000\", \"size\": 7}, \"showarrow\": false, \"text\": \"0.58\", \"x\": 9, \"xref\": \"x\", \"y\": 13, \"yref\": \"y\"}, {\"font\": {\"color\": \"#000000\", \"size\": 7}, \"showarrow\": false, \"text\": \"0.55\", \"x\": 10, \"xref\": \"x\", \"y\": 13, \"yref\": \"y\"}, {\"font\": {\"color\": \"#FFFFFF\", \"size\": 7}, \"showarrow\": false, \"text\": \"0.47\", \"x\": 11, \"xref\": \"x\", \"y\": 13, \"yref\": \"y\"}, {\"font\": {\"color\": \"#FFFFFF\", \"size\": 7}, \"showarrow\": false, \"text\": \"0.39\", \"x\": 12, \"xref\": \"x\", \"y\": 13, \"yref\": \"y\"}, {\"font\": {\"color\": \"#FFFFFF\", \"size\": 7}, \"showarrow\": false, \"text\": \"0.26\", \"x\": 13, \"xref\": \"x\", \"y\": 13, \"yref\": \"y\"}, {\"font\": {\"color\": \"#FFFFFF\", \"size\": 7}, \"showarrow\": false, \"text\": \"0.22\", \"x\": 14, \"xref\": \"x\", \"y\": 13, \"yref\": \"y\"}, {\"font\": {\"color\": \"#FFFFFF\", \"size\": 7}, \"showarrow\": false, \"text\": \"0.19\", \"x\": 15, \"xref\": \"x\", \"y\": 13, \"yref\": \"y\"}, {\"font\": {\"color\": \"#000000\", \"size\": 7}, \"showarrow\": false, \"text\": \"0.83\", \"x\": 0, \"xref\": \"x\", \"y\": 14, \"yref\": \"y\"}, {\"font\": {\"color\": \"#000000\", \"size\": 7}, \"showarrow\": false, \"text\": \"0.82\", \"x\": 1, \"xref\": \"x\", \"y\": 14, \"yref\": \"y\"}, {\"font\": {\"color\": \"#000000\", \"size\": 7}, \"showarrow\": false, \"text\": \"0.79\", \"x\": 2, \"xref\": \"x\", \"y\": 14, \"yref\": \"y\"}, {\"font\": {\"color\": \"#000000\", \"size\": 7}, \"showarrow\": false, \"text\": \"0.77\", \"x\": 3, \"xref\": \"x\", \"y\": 14, \"yref\": \"y\"}, {\"font\": {\"color\": \"#000000\", \"size\": 7}, \"showarrow\": false, \"text\": \"0.74\", \"x\": 4, \"xref\": \"x\", \"y\": 14, \"yref\": \"y\"}, {\"font\": {\"color\": \"#000000\", \"size\": 7}, \"showarrow\": false, \"text\": \"0.71\", \"x\": 5, \"xref\": \"x\", \"y\": 14, \"yref\": \"y\"}, {\"font\": {\"color\": \"#000000\", \"size\": 7}, \"showarrow\": false, \"text\": \"0.68\", \"x\": 6, \"xref\": \"x\", \"y\": 14, \"yref\": \"y\"}, {\"font\": {\"color\": \"#000000\", \"size\": 7}, \"showarrow\": false, \"text\": \"0.64\", \"x\": 7, \"xref\": \"x\", \"y\": 14, \"yref\": \"y\"}, {\"font\": {\"color\": \"#000000\", \"size\": 7}, \"showarrow\": false, \"text\": \"0.61\", \"x\": 8, \"xref\": \"x\", \"y\": 14, \"yref\": \"y\"}, {\"font\": {\"color\": \"#000000\", \"size\": 7}, \"showarrow\": false, \"text\": \"0.57\", \"x\": 9, \"xref\": \"x\", \"y\": 14, \"yref\": \"y\"}, {\"font\": {\"color\": \"#000000\", \"size\": 7}, \"showarrow\": false, \"text\": \"0.54\", \"x\": 10, \"xref\": \"x\", \"y\": 14, \"yref\": \"y\"}, {\"font\": {\"color\": \"#000000\", \"size\": 7}, \"showarrow\": false, \"text\": \"0.49\", \"x\": 11, \"xref\": \"x\", \"y\": 14, \"yref\": \"y\"}, {\"font\": {\"color\": \"#FFFFFF\", \"size\": 7}, \"showarrow\": false, \"text\": \"0.37\", \"x\": 12, \"xref\": \"x\", \"y\": 14, \"yref\": \"y\"}, {\"font\": {\"color\": \"#FFFFFF\", \"size\": 7}, \"showarrow\": false, \"text\": \"0.27\", \"x\": 13, \"xref\": \"x\", \"y\": 14, \"yref\": \"y\"}, {\"font\": {\"color\": \"#FFFFFF\", \"size\": 7}, \"showarrow\": false, \"text\": \"0.21\", \"x\": 14, \"xref\": \"x\", \"y\": 14, \"yref\": \"y\"}, {\"font\": {\"color\": \"#FFFFFF\", \"size\": 7}, \"showarrow\": false, \"text\": \"0.18\", \"x\": 15, \"xref\": \"x\", \"y\": 14, \"yref\": \"y\"}, {\"font\": {\"color\": \"#000000\", \"size\": 7}, \"showarrow\": false, \"text\": \"0.82\", \"x\": 0, \"xref\": \"x\", \"y\": 15, \"yref\": \"y\"}, {\"font\": {\"color\": \"#000000\", \"size\": 7}, \"showarrow\": false, \"text\": \"0.81\", \"x\": 1, \"xref\": \"x\", \"y\": 15, \"yref\": \"y\"}, {\"font\": {\"color\": \"#000000\", \"size\": 7}, \"showarrow\": false, \"text\": \"0.78\", \"x\": 2, \"xref\": \"x\", \"y\": 15, \"yref\": \"y\"}, {\"font\": {\"color\": \"#000000\", \"size\": 7}, \"showarrow\": false, \"text\": \"0.76\", \"x\": 3, \"xref\": \"x\", \"y\": 15, \"yref\": \"y\"}, {\"font\": {\"color\": \"#000000\", \"size\": 7}, \"showarrow\": false, \"text\": \"0.74\", \"x\": 4, \"xref\": \"x\", \"y\": 15, \"yref\": \"y\"}, {\"font\": {\"color\": \"#000000\", \"size\": 7}, \"showarrow\": false, \"text\": \"0.71\", \"x\": 5, \"xref\": \"x\", \"y\": 15, \"yref\": \"y\"}, {\"font\": {\"color\": \"#000000\", \"size\": 7}, \"showarrow\": false, \"text\": \"0.68\", \"x\": 6, \"xref\": \"x\", \"y\": 15, \"yref\": \"y\"}, {\"font\": {\"color\": \"#000000\", \"size\": 7}, \"showarrow\": false, \"text\": \"0.65\", \"x\": 7, \"xref\": \"x\", \"y\": 15, \"yref\": \"y\"}, {\"font\": {\"color\": \"#000000\", \"size\": 7}, \"showarrow\": false, \"text\": \"0.62\", \"x\": 8, \"xref\": \"x\", \"y\": 15, \"yref\": \"y\"}, {\"font\": {\"color\": \"#000000\", \"size\": 7}, \"showarrow\": false, \"text\": \"0.57\", \"x\": 9, \"xref\": \"x\", \"y\": 15, \"yref\": \"y\"}, {\"font\": {\"color\": \"#000000\", \"size\": 7}, \"showarrow\": false, \"text\": \"0.53\", \"x\": 10, \"xref\": \"x\", \"y\": 15, \"yref\": \"y\"}, {\"font\": {\"color\": \"#FFFFFF\", \"size\": 7}, \"showarrow\": false, \"text\": \"0.47\", \"x\": 11, \"xref\": \"x\", \"y\": 15, \"yref\": \"y\"}, {\"font\": {\"color\": \"#FFFFFF\", \"size\": 7}, \"showarrow\": false, \"text\": \"0.38\", \"x\": 12, \"xref\": \"x\", \"y\": 15, \"yref\": \"y\"}, {\"font\": {\"color\": \"#FFFFFF\", \"size\": 7}, \"showarrow\": false, \"text\": \"0.29\", \"x\": 13, \"xref\": \"x\", \"y\": 15, \"yref\": \"y\"}, {\"font\": {\"color\": \"#FFFFFF\", \"size\": 7}, \"showarrow\": false, \"text\": \"0.23\", \"x\": 14, \"xref\": \"x\", \"y\": 15, \"yref\": \"y\"}, {\"font\": {\"color\": \"#FFFFFF\", \"size\": 7}, \"showarrow\": false, \"text\": \"0.2\", \"x\": 15, \"xref\": \"x\", \"y\": 15, \"yref\": \"y\"}], \"template\": {\"data\": {\"bar\": [{\"error_x\": {\"color\": \"#2a3f5f\"}, \"error_y\": {\"color\": \"#2a3f5f\"}, \"marker\": {\"line\": {\"color\": \"#E5ECF6\", \"width\": 0.5}}, \"type\": \"bar\"}], \"barpolar\": [{\"marker\": {\"line\": {\"color\": \"#E5ECF6\", \"width\": 0.5}}, \"type\": \"barpolar\"}], \"carpet\": [{\"aaxis\": {\"endlinecolor\": \"#2a3f5f\", \"gridcolor\": \"white\", \"linecolor\": \"white\", \"minorgridcolor\": \"white\", \"startlinecolor\": \"#2a3f5f\"}, \"baxis\": {\"endlinecolor\": \"#2a3f5f\", \"gridcolor\": \"white\", \"linecolor\": \"white\", \"minorgridcolor\": \"white\", \"startlinecolor\": \"#2a3f5f\"}, \"type\": \"carpet\"}], \"choropleth\": [{\"colorbar\": {\"outlinewidth\": 0, \"ticks\": \"\"}, \"type\": \"choropleth\"}], \"contour\": [{\"colorbar\": {\"outlinewidth\": 0, \"ticks\": \"\"}, \"colorscale\": [[0.0, \"#0d0887\"], [0.1111111111111111, \"#46039f\"], [0.2222222222222222, \"#7201a8\"], [0.3333333333333333, \"#9c179e\"], [0.4444444444444444, \"#bd3786\"], [0.5555555555555556, \"#d8576b\"], [0.6666666666666666, \"#ed7953\"], [0.7777777777777778, \"#fb9f3a\"], [0.8888888888888888, \"#fdca26\"], [1.0, \"#f0f921\"]], \"type\": \"contour\"}], \"contourcarpet\": [{\"colorbar\": {\"outlinewidth\": 0, \"ticks\": \"\"}, \"type\": \"contourcarpet\"}], \"heatmap\": [{\"colorbar\": {\"outlinewidth\": 0, \"ticks\": \"\"}, \"colorscale\": [[0.0, \"#0d0887\"], [0.1111111111111111, \"#46039f\"], [0.2222222222222222, \"#7201a8\"], [0.3333333333333333, \"#9c179e\"], [0.4444444444444444, \"#bd3786\"], [0.5555555555555556, \"#d8576b\"], [0.6666666666666666, \"#ed7953\"], [0.7777777777777778, \"#fb9f3a\"], [0.8888888888888888, \"#fdca26\"], [1.0, \"#f0f921\"]], \"type\": \"heatmap\"}], \"heatmapgl\": [{\"colorbar\": {\"outlinewidth\": 0, \"ticks\": \"\"}, \"colorscale\": [[0.0, \"#0d0887\"], [0.1111111111111111, \"#46039f\"], [0.2222222222222222, \"#7201a8\"], [0.3333333333333333, \"#9c179e\"], [0.4444444444444444, \"#bd3786\"], [0.5555555555555556, \"#d8576b\"], [0.6666666666666666, \"#ed7953\"], [0.7777777777777778, \"#fb9f3a\"], [0.8888888888888888, \"#fdca26\"], [1.0, \"#f0f921\"]], \"type\": \"heatmapgl\"}], \"histogram\": [{\"marker\": {\"colorbar\": {\"outlinewidth\": 0, \"ticks\": \"\"}}, \"type\": \"histogram\"}], \"histogram2d\": [{\"colorbar\": {\"outlinewidth\": 0, \"ticks\": \"\"}, \"colorscale\": [[0.0, \"#0d0887\"], [0.1111111111111111, \"#46039f\"], [0.2222222222222222, \"#7201a8\"], [0.3333333333333333, \"#9c179e\"], [0.4444444444444444, \"#bd3786\"], [0.5555555555555556, \"#d8576b\"], [0.6666666666666666, \"#ed7953\"], [0.7777777777777778, \"#fb9f3a\"], [0.8888888888888888, \"#fdca26\"], [1.0, \"#f0f921\"]], \"type\": \"histogram2d\"}], \"histogram2dcontour\": [{\"colorbar\": {\"outlinewidth\": 0, \"ticks\": \"\"}, \"colorscale\": [[0.0, \"#0d0887\"], [0.1111111111111111, \"#46039f\"], [0.2222222222222222, \"#7201a8\"], [0.3333333333333333, \"#9c179e\"], [0.4444444444444444, \"#bd3786\"], [0.5555555555555556, \"#d8576b\"], [0.6666666666666666, \"#ed7953\"], [0.7777777777777778, \"#fb9f3a\"], [0.8888888888888888, \"#fdca26\"], [1.0, \"#f0f921\"]], \"type\": \"histogram2dcontour\"}], \"mesh3d\": [{\"colorbar\": {\"outlinewidth\": 0, \"ticks\": \"\"}, \"type\": \"mesh3d\"}], \"parcoords\": [{\"line\": {\"colorbar\": {\"outlinewidth\": 0, \"ticks\": \"\"}}, \"type\": \"parcoords\"}], \"pie\": [{\"automargin\": true, \"type\": \"pie\"}], \"scatter\": [{\"marker\": {\"colorbar\": {\"outlinewidth\": 0, \"ticks\": \"\"}}, \"type\": \"scatter\"}], \"scatter3d\": [{\"line\": {\"colorbar\": {\"outlinewidth\": 0, \"ticks\": \"\"}}, \"marker\": {\"colorbar\": {\"outlinewidth\": 0, \"ticks\": \"\"}}, \"type\": \"scatter3d\"}], \"scattercarpet\": [{\"marker\": {\"colorbar\": {\"outlinewidth\": 0, \"ticks\": \"\"}}, \"type\": \"scattercarpet\"}], \"scattergeo\": [{\"marker\": {\"colorbar\": {\"outlinewidth\": 0, \"ticks\": \"\"}}, \"type\": \"scattergeo\"}], \"scattergl\": [{\"marker\": {\"colorbar\": {\"outlinewidth\": 0, \"ticks\": \"\"}}, \"type\": \"scattergl\"}], \"scattermapbox\": [{\"marker\": {\"colorbar\": {\"outlinewidth\": 0, \"ticks\": \"\"}}, \"type\": \"scattermapbox\"}], \"scatterpolar\": [{\"marker\": {\"colorbar\": {\"outlinewidth\": 0, \"ticks\": \"\"}}, \"type\": \"scatterpolar\"}], \"scatterpolargl\": [{\"marker\": {\"colorbar\": {\"outlinewidth\": 0, \"ticks\": \"\"}}, \"type\": \"scatterpolargl\"}], \"scatterternary\": [{\"marker\": {\"colorbar\": {\"outlinewidth\": 0, \"ticks\": \"\"}}, \"type\": \"scatterternary\"}], \"surface\": [{\"colorbar\": {\"outlinewidth\": 0, \"ticks\": \"\"}, \"colorscale\": [[0.0, \"#0d0887\"], [0.1111111111111111, \"#46039f\"], [0.2222222222222222, \"#7201a8\"], [0.3333333333333333, \"#9c179e\"], [0.4444444444444444, \"#bd3786\"], [0.5555555555555556, \"#d8576b\"], [0.6666666666666666, \"#ed7953\"], [0.7777777777777778, \"#fb9f3a\"], [0.8888888888888888, \"#fdca26\"], [1.0, \"#f0f921\"]], \"type\": \"surface\"}], \"table\": [{\"cells\": {\"fill\": {\"color\": \"#EBF0F8\"}, \"line\": {\"color\": \"white\"}}, \"header\": {\"fill\": {\"color\": \"#C8D4E3\"}, \"line\": {\"color\": \"white\"}}, \"type\": \"table\"}]}, \"layout\": {\"annotationdefaults\": {\"arrowcolor\": \"#2a3f5f\", \"arrowhead\": 0, \"arrowwidth\": 1}, \"coloraxis\": {\"colorbar\": {\"outlinewidth\": 0, \"ticks\": \"\"}}, \"colorscale\": {\"diverging\": [[0, \"#8e0152\"], [0.1, \"#c51b7d\"], [0.2, \"#de77ae\"], [0.3, \"#f1b6da\"], [0.4, \"#fde0ef\"], [0.5, \"#f7f7f7\"], [0.6, \"#e6f5d0\"], [0.7, \"#b8e186\"], [0.8, \"#7fbc41\"], [0.9, \"#4d9221\"], [1, \"#276419\"]], \"sequential\": [[0.0, \"#0d0887\"], [0.1111111111111111, \"#46039f\"], [0.2222222222222222, \"#7201a8\"], [0.3333333333333333, \"#9c179e\"], [0.4444444444444444, \"#bd3786\"], [0.5555555555555556, \"#d8576b\"], [0.6666666666666666, \"#ed7953\"], [0.7777777777777778, \"#fb9f3a\"], [0.8888888888888888, \"#fdca26\"], [1.0, \"#f0f921\"]], \"sequentialminus\": [[0.0, \"#0d0887\"], [0.1111111111111111, \"#46039f\"], [0.2222222222222222, \"#7201a8\"], [0.3333333333333333, \"#9c179e\"], [0.4444444444444444, \"#bd3786\"], [0.5555555555555556, \"#d8576b\"], [0.6666666666666666, \"#ed7953\"], [0.7777777777777778, \"#fb9f3a\"], [0.8888888888888888, \"#fdca26\"], [1.0, \"#f0f921\"]]}, \"colorway\": [\"#636efa\", \"#EF553B\", \"#00cc96\", \"#ab63fa\", \"#FFA15A\", \"#19d3f3\", \"#FF6692\", \"#B6E880\", \"#FF97FF\", \"#FECB52\"], \"font\": {\"color\": \"#2a3f5f\"}, \"geo\": {\"bgcolor\": \"white\", \"lakecolor\": \"white\", \"landcolor\": \"#E5ECF6\", \"showlakes\": true, \"showland\": true, \"subunitcolor\": \"white\"}, \"hoverlabel\": {\"align\": \"left\"}, \"hovermode\": \"closest\", \"mapbox\": {\"style\": \"light\"}, \"paper_bgcolor\": \"white\", \"plot_bgcolor\": \"#E5ECF6\", \"polar\": {\"angularaxis\": {\"gridcolor\": \"white\", \"linecolor\": \"white\", \"ticks\": \"\"}, \"bgcolor\": \"#E5ECF6\", \"radialaxis\": {\"gridcolor\": \"white\", \"linecolor\": \"white\", \"ticks\": \"\"}}, \"scene\": {\"xaxis\": {\"backgroundcolor\": \"#E5ECF6\", \"gridcolor\": \"white\", \"gridwidth\": 2, \"linecolor\": \"white\", \"showbackground\": true, \"ticks\": \"\", \"zerolinecolor\": \"white\"}, \"yaxis\": {\"backgroundcolor\": \"#E5ECF6\", \"gridcolor\": \"white\", \"gridwidth\": 2, \"linecolor\": \"white\", \"showbackground\": true, \"ticks\": \"\", \"zerolinecolor\": \"white\"}, \"zaxis\": {\"backgroundcolor\": \"#E5ECF6\", \"gridcolor\": \"white\", \"gridwidth\": 2, \"linecolor\": \"white\", \"showbackground\": true, \"ticks\": \"\", \"zerolinecolor\": \"white\"}}, \"shapedefaults\": {\"line\": {\"color\": \"#2a3f5f\"}}, \"ternary\": {\"aaxis\": {\"gridcolor\": \"white\", \"linecolor\": \"white\", \"ticks\": \"\"}, \"baxis\": {\"gridcolor\": \"white\", \"linecolor\": \"white\", \"ticks\": \"\"}, \"bgcolor\": \"#E5ECF6\", \"caxis\": {\"gridcolor\": \"white\", \"linecolor\": \"white\", \"ticks\": \"\"}}, \"title\": {\"x\": 0.05}, \"xaxis\": {\"automargin\": true, \"gridcolor\": \"white\", \"linecolor\": \"white\", \"ticks\": \"\", \"title\": {\"standoff\": 15}, \"zerolinecolor\": \"white\", \"zerolinewidth\": 2}, \"yaxis\": {\"automargin\": true, \"gridcolor\": \"white\", \"linecolor\": \"white\", \"ticks\": \"\", \"title\": {\"standoff\": 15}, \"zerolinecolor\": \"white\", \"zerolinewidth\": 2}}}, \"title\": {\"text\": \"GREEN\"}, \"xaxis\": {\"gridcolor\": \"rgb(0, 0, 0)\", \"showticklabels\": false, \"side\": \"top\", \"ticks\": \"\"}, \"yaxis\": {\"showticklabels\": false, \"ticks\": \"\", \"ticksuffix\": \"  \"}},\n                        {\"responsive\": true}\n                    ).then(function(){\n                            \nvar gd = document.getElementById('c1e0d7b4-0f17-4483-9cf6-5620845e803a');\nvar x = new MutationObserver(function (mutations, observer) {{\n        var display = window.getComputedStyle(gd).display;\n        if (!display || display === 'none') {{\n            console.log([gd, 'removed!']);\n            Plotly.purge(gd);\n            observer.disconnect();\n        }}\n}});\n\n// Listen for the removal of the full notebook cells\nvar notebookContainer = gd.closest('#notebook-container');\nif (notebookContainer) {{\n    x.observe(notebookContainer, {childList: true});\n}}\n\n// Listen for the clearing of the current output cell\nvar outputEl = gd.closest('.output');\nif (outputEl) {{\n    x.observe(outputEl, {childList: true});\n}}\n\n                        })\n                };\n                });\n            </script>\n        </div>"
     },
     "metadata": {},
     "output_type": "display_data"
    },
    {
     "data": {
      "text/html": "        <script type=\"text/javascript\">\n        window.PlotlyConfig = {MathJaxConfig: 'local'};\n        if (window.MathJax) {MathJax.Hub.Config({SVG: {font: \"STIX-Web\"}});}\n        if (typeof require !== 'undefined') {\n        require.undef(\"plotly\");\n        requirejs.config({\n            paths: {\n                'plotly': ['https://cdn.plot.ly/plotly-latest.min']\n            }\n        });\n        require(['plotly'], function(Plotly) {\n            window._Plotly = Plotly;\n        });\n        }\n        </script>\n        "
     },
     "metadata": {},
     "output_type": "display_data"
    }
   ],
   "source": [
    "GEMA.Visualization.codebook_vectors(main_map, np.array([\"RED\", \"GREEN\", \"BLUE\"]))\n",
    "\n",
    "\n",
    "\n"
   ],
   "metadata": {
    "collapsed": false,
    "pycharm": {
     "name": "#%%\n",
     "is_executing": false
    }
   }
  }
 ],
 "metadata": {
  "kernelspec": {
   "name": "pycharm-5103e6dc",
   "language": "python",
   "display_name": "PyCharm (GEMA)"
  },
  "language_info": {
   "codemirror_mode": {
    "name": "ipython",
    "version": 2
   },
   "file_extension": ".py",
   "mimetype": "text/x-python",
   "name": "python",
   "nbconvert_exporter": "python",
   "pygments_lexer": "ipython2",
   "version": "2.7.6"
  },
  "pycharm": {
   "stem_cell": {
    "cell_type": "raw",
    "source": [],
    "metadata": {
     "collapsed": false
    }
   }
  }
 },
 "nbformat": 4,
 "nbformat_minor": 0
}